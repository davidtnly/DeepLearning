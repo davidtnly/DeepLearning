{
 "cells": [
  {
   "cell_type": "markdown",
   "metadata": {},
   "source": [
    "### [PyCharm Setup Video](https://www.youtube.com/watch?v=TGQcDaZ56ao&list=PLS1QulWo1RIa7D1O6skqDQ-JZ1GGHKK-K&index=3)"
   ]
  },
  {
   "cell_type": "markdown",
   "metadata": {},
   "source": [
    "- cv2.imread('path', IMREAD_) # numpy.ndarray object\n",
    "    - cv2.IMREAD_COLOR\n",
    "    - cv2.IMREAD_GRAYSCALE\n",
    "- cv2.imshow('image', img)\n",
    "- cv2.waitKey(0) & 0xFF\n",
    "- cv2.destroyAllWindows()\n",
    "- cv2.imwrite('name', img))"
   ]
  },
  {
   "cell_type": "markdown",
   "metadata": {},
   "source": [
    "------"
   ]
  },
  {
   "cell_type": "code",
   "execution_count": 1,
   "metadata": {},
   "outputs": [
    {
     "name": "stdout",
     "output_type": "stream",
     "text": [
      "==================================================\n",
      "OpenCV Version: 4.0.1\n",
      "Python 3.6.8 |Anaconda, Inc.| (default, Feb 21 2019, 18:30:04) [MSC v.1916 64 bit (AMD64)]\n"
     ]
    }
   ],
   "source": [
    "import cv2\n",
    "import numpy as np\n",
    "import pandas as pd\n",
    "import seaborn as sns\n",
    "from PIL import Image\n",
    "\n",
    "# Misc\n",
    "import os\n",
    "import sys\n",
    "import warnings\n",
    "warnings.filterwarnings(action='ignore')\n",
    "\n",
    "# Preset data display\n",
    "pd.options.display.max_seq_items = 1000\n",
    "pd.options.display.max_rows =1000\n",
    "pd.set_option('display.max_columns', 50)\n",
    "pd.set_option('display.max_colwidth', 500)\n",
    "\n",
    "# Set notebook colors and palette\n",
    "flatui = ['#9b59b6', '#3498db', '#95a5a6', '#e74c3c', '#34495e', '#2ecc71']\n",
    "sns.set_palette(flatui)\n",
    "sns.palplot(sns.color_palette(flatui))\n",
    "sns.set_style('white')\n",
    "sns.set_color_codes(palette='deep')\n",
    "# Favorite code to use: #34995e\n",
    "\n",
    "print('='*50)\n",
    "print(f\"OpenCV Version: {cv2.__version__}\")\n",
    "print(f\"Python {sys.version}\")"
   ]
  },
  {
   "cell_type": "markdown",
   "metadata": {},
   "source": [
    "### Read an image\n",
    "\n",
    "cv2.imread() flag parameter which specifies the way image should be read\n",
    "- cv2.IMREAD_COLOR (1): loads a color image\n",
    "- cv2.IMREAD_GRAYSCALE (0): loads image in grayscale\n",
    "- cv2.IMREAD_UNCHANGED (-1): loads image as such including alpha channel"
   ]
  },
  {
   "cell_type": "code",
   "execution_count": 2,
   "metadata": {},
   "outputs": [
    {
     "name": "stdout",
     "output_type": "stream",
     "text": [
      "[[163 162 161 ... 170 154 130]\n",
      " [162 162 162 ... 173 155 126]\n",
      " [162 162 163 ... 170 155 128]\n",
      " ...\n",
      " [ 43  42  51 ... 103 101  99]\n",
      " [ 41  42  55 ... 103 105 106]\n",
      " [ 42  44  57 ... 102 106 109]]\n"
     ]
    }
   ],
   "source": [
    "img = cv2.imread('images/lena.jpg', cv2.IMREAD_GRAYSCALE)\n",
    "print(img) # produces a matrix"
   ]
  },
  {
   "cell_type": "code",
   "execution_count": 3,
   "metadata": {},
   "outputs": [
    {
     "data": {
      "text/plain": [
       "numpy.ndarray"
      ]
     },
     "execution_count": 3,
     "metadata": {},
     "output_type": "execute_result"
    }
   ],
   "source": [
    "type(img)"
   ]
  },
  {
   "cell_type": "markdown",
   "metadata": {},
   "source": [
    "### Display image in grayscale mode"
   ]
  },
  {
   "cell_type": "code",
   "execution_count": 4,
   "metadata": {},
   "outputs": [],
   "source": [
    "cv2.imshow('image', img)\n",
    "# cv2.waitKey(5000) # show for 5 seconds \n",
    "cv2.waitKey(0) # exit to close\n",
    "cv2.destroyAllWindows()"
   ]
  },
  {
   "cell_type": "markdown",
   "metadata": {},
   "source": [
    "### Write an image to a file"
   ]
  },
  {
   "cell_type": "code",
   "execution_count": 6,
   "metadata": {},
   "outputs": [
    {
     "data": {
      "text/plain": [
       "True"
      ]
     },
     "execution_count": 6,
     "metadata": {},
     "output_type": "execute_result"
    }
   ],
   "source": [
    "cv2.imwrite('images/lena_copy.png', img) # save as png"
   ]
  },
  {
   "cell_type": "code",
   "execution_count": 8,
   "metadata": {},
   "outputs": [],
   "source": [
    "cv2.imshow('image', img)\n",
    "k = cv2.waitKey(0) & 0xFF # exit to close, use mask 0xFF notation for 64bit computer\n",
    "\n",
    "# Open image and save if pressed 's' - the python program hangs so destroy the window after 3 seconds\n",
    "if k == 27: # 27 = escape key\n",
    "    cv2.destroyAllWindows()\n",
    "elif k == ord('s'):\n",
    "    cv2.imwrite('images/another_copy_lena.png', img)\n",
    "    cv2.waitKey(3000) & 0xFF\n",
    "    cv2.destroyAllWindows()"
   ]
  }
 ],
 "metadata": {
  "kernelspec": {
   "display_name": "Python 3.6 (TensorFlow)",
   "language": "python",
   "name": "tf-test"
  },
  "language_info": {
   "codemirror_mode": {
    "name": "ipython",
    "version": 3
   },
   "file_extension": ".py",
   "mimetype": "text/x-python",
   "name": "python",
   "nbconvert_exporter": "python",
   "pygments_lexer": "ipython3",
   "version": "3.6.8"
  }
 },
 "nbformat": 4,
 "nbformat_minor": 2
}
