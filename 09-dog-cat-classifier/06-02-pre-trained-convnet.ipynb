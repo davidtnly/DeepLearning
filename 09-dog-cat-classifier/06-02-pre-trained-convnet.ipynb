{
 "cells": [
  {
   "cell_type": "code",
   "execution_count": 1,
   "metadata": {},
   "outputs": [
    {
     "name": "stderr",
     "output_type": "stream",
     "text": [
      "Using TensorFlow backend.\n"
     ]
    }
   ],
   "source": [
    "# Images\n",
    "from PIL import Image\n",
    "from skimage.io import imread\n",
    "from skimage.transform import resize\n",
    "import imgaug as aug\n",
    "import imgaug.augmenters as imaug\n",
    "import cv2\n",
    "\n",
    "# Toolbox\n",
    "from pathlib import Path\n",
    "from imutils import paths\n",
    "import numpy as np\n",
    "import pandas as pd \n",
    "import seaborn as sns\n",
    "import matplotlib.pyplot as plt\n",
    "%matplotlib inline\n",
    "\n",
    "# Misc\n",
    "import random\n",
    "import glob\n",
    "import shutil\n",
    "import sys\n",
    "import os\n",
    "import warnings\n",
    "warnings.filterwarnings(action='ignore')\n",
    "\n",
    "# Deep learning\n",
    "from keras.layers import Conv2D, BatchNormalization, MaxPooling2D, Dropout, Flatten, Dense, GlobalMaxPooling2D, Input\n",
    "from keras.models import Model, Sequential\n",
    "from keras.optimizers import Adam, RMSprop, SGD\n",
    "from keras.preprocessing.image import load_img, img_to_array, ImageDataGenerator\n",
    "from keras.applications import VGG16\n",
    "from keras.callbacks import ModelCheckpoint\n",
    "from keras.preprocessing.image import load_img\n",
    "from keras.applications.vgg16 import preprocess_input\n",
    "\n",
    "# Evaluation\n",
    "from sklearn.preprocessing import LabelEncoder\n",
    "from sklearn.model_selection import train_test_split\n",
    "from sklearn.linear_model import LogisticRegression\n",
    "from sklearn.model_selection import cross_val_score\n",
    "from sklearn.metrics import accuracy_score, confusion_matrix, classification_report"
   ]
  },
  {
   "cell_type": "markdown",
   "metadata": {},
   "source": [
    "Trying to figure out methods in building a good transfer model... [notebook](https://github.com/fchollet/deep-learning-with-python-notebooks/blob/master/5.3-using-a-pretrained-convnet.ipynb)"
   ]
  },
  {
   "cell_type": "markdown",
   "metadata": {},
   "source": [
    "A common and highly effective approach to deep learning on small image datasets is to leverage a pre-trained network. A pre-trained network is simply a saved network previously trained on a large dataset, typically on a large-scale image classification task. If this original dataset is large enough and general enough, then the spatial feature hierarchy learned by the pre-trained network can effectively act as a generic model of our visual world, and hence its features can prove useful for many different computer vision problems, even though these new problems might involve completely different classes from those of the original task. For instance, one might train a network on ImageNet (where classes are mostly animals and everyday objects) and then re-purpose this trained network for something as remote as identifying furniture items in images. Such portability of learned features across different problems is a key advantage of deep learning compared to many older shallow learning approaches, and it makes deep learning very effective for small-data problems.\n",
    "\n",
    "In our case, we will consider a large convnet trained on the ImageNet dataset (1.4 million labeled images and 1000 different classes). ImageNet contains many animal classes, including different species of cats and dogs, and we can thus expect to perform very well on our cat vs. dog classification problem.\n",
    "\n",
    "We will use the VGG16 architecture, developed by Karen Simonyan and Andrew Zisserman in 2014, a simple and widely used convnet architecture for ImageNet. Although it is a bit of an older model, far from the current state of the art and somewhat heavier than many other recent models, we chose it because its architecture is similar to what you are already familiar with, and easy to understand without introducing any new concepts. This may be your first encounter with one of these cutesie model names -- VGG, ResNet, Inception, Inception-ResNet, Xception... you will get used to them, as they will come up frequently if you keep doing deep learning for computer vision.\n",
    "\n",
    "There are two ways to leverage a pre-trained network: feature extraction and fine-tuning. We will cover both of them. Let's start with feature extraction.\n",
    "### Feature extraction\n",
    "\n",
    "Feature extraction consists of using the representations learned by a previous network to extract interesting features from new samples. These features are then run through a new classifier, which is trained from scratch.\n",
    "\n",
    "As we saw previously, convnets used for image classification comprise two parts: they start with a series of pooling and convolution layers, and they end with a densely-connected classifier. The first part is called the \"convolutional base\" of the model. In the case of convnets, \"feature extraction\" will simply consist of taking the convolutional base of a previously-trained network, running the new data through it, and training a new classifier on top of the output.\n",
    "\n",
    "### Why only reuse the convolutional base? \n",
    "\n",
    "Could we reuse the densely-connected classifier as well? In general, it should be avoided. The reason is simply that the representations learned by the convolutional base are likely to be more generic and therefore more reusable: the feature maps of a convnet are presence maps of generic concepts over a picture, which is likely to be useful regardless of the computer vision problem at hand. On the other end, the representations learned by the classifier will necessarily be very specific to the set of classes that the model was trained on -- they will only contain information about the presence probability of this or that class in the entire picture. Additionally, representations found in densely-connected layers no longer contain any information about where objects are located in the input image: these layers get rid of the notion of space, whereas the object location is still described by convolutional feature maps. For problems where object location matters, densely-connected features would be largely useless.\n",
    "\n",
    "Note that the level of generality (and therefore reusability) of the representations extracted by specific convolution layers depends on the depth of the layer in the model. Layers that come earlier in the model extract local, highly generic feature maps (such as visual edges, colors, and textures), while layers higher-up extract more abstract concepts (such as \"cat ear\" or \"dog eye\"). So if your new dataset differs a lot from the dataset that the original model was trained on, you may be better off using only the first few layers of the model to do feature extraction, rather than using the entire convolutional base.\n",
    "\n",
    "In our case, since the ImageNet class set did contain multiple dog and cat classes, it is likely that it would be beneficial to reuse the information contained in the densely-connected layers of the original model. However, we will chose not to, in order to cover the more general case where the class set of the new problem does not overlap with the class set of the original model."
   ]
  },
  {
   "cell_type": "code",
   "execution_count": 2,
   "metadata": {},
   "outputs": [
    {
     "name": "stdout",
     "output_type": "stream",
     "text": [
      "================ SETTING DIRECTORY ================\n"
     ]
    }
   ],
   "source": [
    "print('================ SETTING DIRECTORY ================')"
   ]
  },
  {
   "cell_type": "code",
   "execution_count": 3,
   "metadata": {},
   "outputs": [],
   "source": [
    "# Dimensions of our images\n",
    "WIDTH, HEIGHT = 150, 150"
   ]
  },
  {
   "cell_type": "code",
   "execution_count": 4,
   "metadata": {},
   "outputs": [],
   "source": [
    "weights_path  = '../00-model-weights/vgg16_weights.h5'\n",
    "weights_notop_path  = '../00-model-weights/vgg16_weights_notop.h5'\n",
    "top_model_weights_path  = 'bottleneck_fc_model.h5'"
   ]
  },
  {
   "cell_type": "code",
   "execution_count": 5,
   "metadata": {},
   "outputs": [],
   "source": [
    "base_dir = 'images/split'\n",
    "train_dir = os.path.join(base_dir, 'train')\n",
    "validation_dir = os.path.join(base_dir, 'validation')\n",
    "test_dir = os.path.join(base_dir, 'test')\n",
    "\n",
    "nb_train_samples = 2000\n",
    "nb_test_samples = 1000\n",
    "nb_validation_samples = 1000\n",
    "epochs = 5\n",
    "batch_size = 20"
   ]
  },
  {
   "cell_type": "code",
   "execution_count": 6,
   "metadata": {},
   "outputs": [],
   "source": [
    "# Set custom input tensor shape\n",
    "input_tensor = Input(shape=(WIDTH, HEIGHT, 3))"
   ]
  },
  {
   "cell_type": "markdown",
   "metadata": {},
   "source": [
    "TypeError: Using a `tf.Tensor` as a Python `bool` is not allowed. Use `if t is not None:` instead of `if t:` to test if a tensor is defined, and use TensorFlow ops such as tf.cond to execute subgraphs conditioned on the value of a tensor."
   ]
  },
  {
   "cell_type": "code",
   "execution_count": 7,
   "metadata": {},
   "outputs": [
    {
     "name": "stdout",
     "output_type": "stream",
     "text": [
      "================ MODEL LOADING ================\n",
      "WARNING:tensorflow:From C:\\Users\\David Ly\\Anaconda3\\envs\\tf-test\\lib\\site-packages\\tensorflow\\python\\framework\\op_def_library.py:263: colocate_with (from tensorflow.python.framework.ops) is deprecated and will be removed in a future version.\n",
      "Instructions for updating:\n",
      "Colocations handled automatically by placer.\n",
      "================ MODEL LOADED ================\n"
     ]
    }
   ],
   "source": [
    "# Build the VGG network\n",
    "print('================ MODEL LOADING ================')\n",
    "base_model = VGG16(weights='imagenet', include_top=False, input_shape=(WIDTH, HEIGHT, 3))\n",
    "print('================ MODEL LOADED ================')"
   ]
  },
  {
   "cell_type": "code",
   "execution_count": 8,
   "metadata": {},
   "outputs": [
    {
     "data": {
      "text/plain": [
       "(4, 4, 512)"
      ]
     },
     "execution_count": 8,
     "metadata": {},
     "output_type": "execute_result"
    }
   ],
   "source": [
    "base_model.output_shape[1:]"
   ]
  },
  {
   "cell_type": "markdown",
   "metadata": {},
   "source": [
    "Running the convolutional base over our dataset, recording its output to a Numpy array on disk, then using this data as input to a standalone densely-connected classifier similar to those you have seen in the first chapters of this book. This solution is very fast and cheap to run, because it only requires running the convolutional base once for every input image, and the convolutional base is by far the most expensive part of the pipeline. However, for the exact same reason, this technique would not allow us to leverage data augmentation at all."
   ]
  },
  {
   "cell_type": "code",
   "execution_count": 9,
   "metadata": {},
   "outputs": [],
   "source": [
    "datagen = ImageDataGenerator(rescale=1./255)\n",
    "\n",
    "def extract_features(directory, sample_count):\n",
    "    features = np.zeros(shape=(sample_count, 4, 4, 512))\n",
    "    labels = np.zeros(shape=(sample_count))\n",
    "    generator = datagen.flow_from_directory(\n",
    "        directory,\n",
    "        target_size=(150, 150),\n",
    "        batch_size=batch_size,\n",
    "        class_mode='binary')\n",
    "    i = 0\n",
    "    for inputs_batch, labels_batch in generator:\n",
    "        features_batch = base_model.predict(inputs_batch)\n",
    "        features[i * batch_size : (i + 1) * batch_size] = features_batch\n",
    "        labels[i * batch_size : (i + 1) * batch_size] = labels_batch\n",
    "        i += 1\n",
    "        if i * batch_size >= sample_count:\n",
    "            # Note that since generators yield data indefinitely in a loop,\n",
    "            # we must `break` after every image has been seen once.\n",
    "            break\n",
    "    return features, labels\n"
   ]
  },
  {
   "cell_type": "code",
   "execution_count": 10,
   "metadata": {},
   "outputs": [
    {
     "name": "stdout",
     "output_type": "stream",
     "text": [
      "Found 4000 images belonging to 2 classes.\n",
      "Found 2000 images belonging to 2 classes.\n",
      "Found 2000 images belonging to 2 classes.\n"
     ]
    }
   ],
   "source": [
    "train_features, train_labels = extract_features(train_dir, 2000)\n",
    "validation_features, validation_labels = extract_features(validation_dir, 1000)\n",
    "test_features, test_labels = extract_features(test_dir, 1000)"
   ]
  },
  {
   "cell_type": "code",
   "execution_count": 11,
   "metadata": {},
   "outputs": [],
   "source": [
    "train_features = np.reshape(train_features, (nb_train_samples, 4 * 4 * 512))\n",
    "validation_features = np.reshape(validation_features, (nb_validation_samples, 4 * 4 * 512))\n",
    "test_features = np.reshape(test_features, (nb_test_samples, 4 * 4 * 512))"
   ]
  },
  {
   "cell_type": "markdown",
   "metadata": {},
   "source": [
    "### Train a dense model"
   ]
  },
  {
   "cell_type": "code",
   "execution_count": 12,
   "metadata": {},
   "outputs": [
    {
     "name": "stdout",
     "output_type": "stream",
     "text": [
      "WARNING:tensorflow:From C:\\Users\\David Ly\\Anaconda3\\envs\\tf-test\\lib\\site-packages\\keras\\backend\\tensorflow_backend.py:3445: calling dropout (from tensorflow.python.ops.nn_ops) with keep_prob is deprecated and will be removed in a future version.\n",
      "Instructions for updating:\n",
      "Please use `rate` instead of `keep_prob`. Rate should be set to `rate = 1 - keep_prob`.\n",
      "WARNING:tensorflow:From C:\\Users\\David Ly\\Anaconda3\\envs\\tf-test\\lib\\site-packages\\tensorflow\\python\\ops\\math_ops.py:3066: to_int32 (from tensorflow.python.ops.math_ops) is deprecated and will be removed in a future version.\n",
      "Instructions for updating:\n",
      "Use tf.cast instead.\n",
      "Train on 2000 samples, validate on 1000 samples\n",
      "Epoch 1/30\n",
      "2000/2000 [==============================] - 1s 440us/step - loss: 0.5932 - acc: 0.6730 - val_loss: 0.4472 - val_acc: 0.8210\n",
      "Epoch 2/30\n",
      "2000/2000 [==============================] - 0s 232us/step - loss: 0.4239 - acc: 0.8020 - val_loss: 0.3658 - val_acc: 0.8530\n",
      "Epoch 3/30\n",
      "2000/2000 [==============================] - 0s 223us/step - loss: 0.3622 - acc: 0.8465 - val_loss: 0.3314 - val_acc: 0.8700\n",
      "Epoch 4/30\n",
      "2000/2000 [==============================] - 0s 227us/step - loss: 0.3274 - acc: 0.8620 - val_loss: 0.3106 - val_acc: 0.8760\n",
      "Epoch 5/30\n",
      "2000/2000 [==============================] - 0s 216us/step - loss: 0.3030 - acc: 0.8720 - val_loss: 0.2979 - val_acc: 0.8750\n",
      "Epoch 6/30\n",
      "2000/2000 [==============================] - 0s 217us/step - loss: 0.2763 - acc: 0.8820 - val_loss: 0.2893 - val_acc: 0.8730\n",
      "Epoch 7/30\n",
      "2000/2000 [==============================] - 0s 218us/step - loss: 0.2580 - acc: 0.8975 - val_loss: 0.2839 - val_acc: 0.8800\n",
      "Epoch 8/30\n",
      "2000/2000 [==============================] - 0s 220us/step - loss: 0.2423 - acc: 0.9060 - val_loss: 0.2867 - val_acc: 0.8810\n",
      "Epoch 9/30\n",
      "2000/2000 [==============================] - 0s 217us/step - loss: 0.2267 - acc: 0.9120 - val_loss: 0.2754 - val_acc: 0.8820\n",
      "Epoch 10/30\n",
      "2000/2000 [==============================] - 0s 217us/step - loss: 0.2137 - acc: 0.9185 - val_loss: 0.2721 - val_acc: 0.8840\n",
      "Epoch 11/30\n",
      "2000/2000 [==============================] - 0s 219us/step - loss: 0.2043 - acc: 0.9190 - val_loss: 0.2690 - val_acc: 0.8820\n",
      "Epoch 12/30\n",
      "2000/2000 [==============================] - 0s 216us/step - loss: 0.1944 - acc: 0.9280 - val_loss: 0.2675 - val_acc: 0.8850\n",
      "Epoch 13/30\n",
      "2000/2000 [==============================] - 0s 216us/step - loss: 0.1851 - acc: 0.9350 - val_loss: 0.2736 - val_acc: 0.8780\n",
      "Epoch 14/30\n",
      "2000/2000 [==============================] - 0s 217us/step - loss: 0.1785 - acc: 0.9365 - val_loss: 0.2687 - val_acc: 0.8830\n",
      "Epoch 15/30\n",
      "2000/2000 [==============================] - 0s 219us/step - loss: 0.1747 - acc: 0.9375 - val_loss: 0.2667 - val_acc: 0.8860\n",
      "Epoch 16/30\n",
      "2000/2000 [==============================] - 0s 219us/step - loss: 0.1641 - acc: 0.9375 - val_loss: 0.2697 - val_acc: 0.8780\n",
      "Epoch 17/30\n",
      "2000/2000 [==============================] - 0s 218us/step - loss: 0.1584 - acc: 0.9435 - val_loss: 0.2724 - val_acc: 0.8890\n",
      "Epoch 18/30\n",
      "2000/2000 [==============================] - 0s 219us/step - loss: 0.1516 - acc: 0.9450 - val_loss: 0.2649 - val_acc: 0.8890\n",
      "Epoch 19/30\n",
      "2000/2000 [==============================] - 0s 219us/step - loss: 0.1473 - acc: 0.9460 - val_loss: 0.2665 - val_acc: 0.8850\n",
      "Epoch 20/30\n",
      "2000/2000 [==============================] - 0s 220us/step - loss: 0.1415 - acc: 0.9475 - val_loss: 0.2655 - val_acc: 0.8860\n",
      "Epoch 21/30\n",
      "2000/2000 [==============================] - 0s 218us/step - loss: 0.1359 - acc: 0.9565 - val_loss: 0.2660 - val_acc: 0.8890\n",
      "Epoch 22/30\n",
      "2000/2000 [==============================] - 0s 219us/step - loss: 0.1346 - acc: 0.9535 - val_loss: 0.2690 - val_acc: 0.8810\n",
      "Epoch 23/30\n",
      "2000/2000 [==============================] - 0s 217us/step - loss: 0.1244 - acc: 0.9615 - val_loss: 0.2764 - val_acc: 0.8910\n",
      "Epoch 24/30\n",
      "2000/2000 [==============================] - 0s 218us/step - loss: 0.1151 - acc: 0.9630 - val_loss: 0.2691 - val_acc: 0.8850\n",
      "Epoch 25/30\n",
      "2000/2000 [==============================] - 0s 221us/step - loss: 0.1180 - acc: 0.9630 - val_loss: 0.2790 - val_acc: 0.8930\n",
      "Epoch 26/30\n",
      "2000/2000 [==============================] - 0s 220us/step - loss: 0.1089 - acc: 0.9690 - val_loss: 0.2712 - val_acc: 0.8810\n",
      "Epoch 27/30\n",
      "2000/2000 [==============================] - 0s 217us/step - loss: 0.1083 - acc: 0.9665 - val_loss: 0.2731 - val_acc: 0.8920\n",
      "Epoch 28/30\n",
      "2000/2000 [==============================] - 0s 219us/step - loss: 0.1021 - acc: 0.9715 - val_loss: 0.2743 - val_acc: 0.8770\n",
      "Epoch 29/30\n",
      "2000/2000 [==============================] - 0s 219us/step - loss: 0.0983 - acc: 0.9705 - val_loss: 0.2762 - val_acc: 0.8930\n",
      "Epoch 30/30\n",
      "2000/2000 [==============================] - 0s 236us/step - loss: 0.0929 - acc: 0.9775 - val_loss: 0.2783 - val_acc: 0.8760\n"
     ]
    }
   ],
   "source": [
    "model = Sequential()\n",
    "model.add(Dense(256, activation='relu', input_dim=4 * 4 * 512))\n",
    "model.add(Dropout(0.5))\n",
    "model.add(Dense(1, activation='sigmoid'))\n",
    "\n",
    "model.compile(optimizer=RMSprop(lr=2e-5),\n",
    "              loss='binary_crossentropy',\n",
    "              metrics=['acc'])\n",
    "\n",
    "history = model.fit(train_features, train_labels,\n",
    "                    epochs=30,\n",
    "                    batch_size=20,\n",
    "                    validation_data=(validation_features, validation_labels))"
   ]
  },
  {
   "cell_type": "code",
   "execution_count": 13,
   "metadata": {},
   "outputs": [
    {
     "data": {
      "image/png": "[encoded data removed]",
      "text/plain": [
       "<Figure size 432x288 with 1 Axes>"
      ]
     },
     "metadata": {
      "needs_background": "light"
     },
     "output_type": "display_data"
    },
    {
     "data": {
      "image/png": "[encoded data removed]",
      "text/plain": [
       "<Figure size 432x288 with 1 Axes>"
      ]
     },
     "metadata": {
      "needs_background": "light"
     },
     "output_type": "display_data"
    }
   ],
   "source": [
    "acc = history.history['acc']\n",
    "val_acc = history.history['val_acc']\n",
    "loss = history.history['loss']\n",
    "val_loss = history.history['val_loss']\n",
    "\n",
    "epochs = range(len(acc))\n",
    "\n",
    "plt.plot(epochs, acc, 'bo', label='Training acc')\n",
    "plt.plot(epochs, val_acc, 'b', label='Validation acc')\n",
    "plt.title('Training and validation accuracy')\n",
    "plt.legend()\n",
    "\n",
    "plt.figure()\n",
    "\n",
    "plt.plot(epochs, loss, 'bo', label='Training loss')\n",
    "plt.plot(epochs, val_loss, 'b', label='Validation loss')\n",
    "plt.title('Training and validation loss')\n",
    "plt.legend()\n",
    "\n",
    "plt.show()"
   ]
  },
  {
   "cell_type": "markdown",
   "metadata": {},
   "source": [
    "### Result : Overfitting\n",
    "We reach a validation accuracy of about 90%, much better than what we could achieve in the previous section with our small model trained from scratch. However, our plots also indicate that we are overfitting almost from the start -- despite using dropout with a fairly large rate. This is because this technique does not leverage data augmentation, which is essential to preventing overfitting with small image datasets.\n",
    "\n",
    "### Review the second technique \n",
    "We mentioned for doing feature extraction, which is much slower and more expensive, but which allows us to leverage data augmentation during training: extending the conv_base model and running it end-to-end on the inputs. Note that this technique is in fact so expensive that you should only attempt it if you have access to a GPU: it is absolutely intractable on CPU. If you cannot run your code on GPU, then the previous technique is the way to go.\n",
    "\n",
    "Because models behave just like layers, you can add a model (like our conv_base) to a Sequential model just like you would add a layer. So you can do the following:"
   ]
  },
  {
   "cell_type": "code",
   "execution_count": 14,
   "metadata": {},
   "outputs": [],
   "source": [
    "model = Sequential()\n",
    "model.add(base_model)\n",
    "model.add(Flatten())\n",
    "model.add(Dense(256, activation='relu'))\n",
    "model.add(Dense(1, activation='sigmoid'))"
   ]
  },
  {
   "cell_type": "code",
   "execution_count": 15,
   "metadata": {},
   "outputs": [
    {
     "name": "stdout",
     "output_type": "stream",
     "text": [
      "_________________________________________________________________\n",
      "Layer (type)                 Output Shape              Param #   \n",
      "=================================================================\n",
      "vgg16 (Model)                (None, 4, 4, 512)         14714688  \n",
      "_________________________________________________________________\n",
      "flatten_1 (Flatten)          (None, 8192)              0         \n",
      "_________________________________________________________________\n",
      "dense_3 (Dense)              (None, 256)               2097408   \n",
      "_________________________________________________________________\n",
      "dense_4 (Dense)              (None, 1)                 257       \n",
      "=================================================================\n",
      "Total params: 16,812,353\n",
      "Trainable params: 16,812,353\n",
      "Non-trainable params: 0\n",
      "_________________________________________________________________\n"
     ]
    }
   ],
   "source": [
    "model.summary()"
   ]
  },
  {
   "cell_type": "markdown",
   "metadata": {},
   "source": [
    "Before we compile and train our model, a very important thing to do is to freeze the convolutional base. \"Freezing\" a layer or set of layers means preventing their weights from getting updated during training. If we don't do this, then the representations that were previously learned by the convolutional base would get modified during training. Since the Dense layers on top are randomly initialized, very large weight updates would be propagated through the network, effectively destroying the representations previously learned.\n",
    "\n",
    "In Keras, freezing a network is done by setting its trainable attribute to False:"
   ]
  },
  {
   "cell_type": "code",
   "execution_count": 16,
   "metadata": {},
   "outputs": [
    {
     "name": "stdout",
     "output_type": "stream",
     "text": [
      "This is the number of trainable weights before freezing the conv base: 30\n"
     ]
    }
   ],
   "source": [
    "print('This is the number of trainable weights '\n",
    "      'before freezing the conv base:', len(model.trainable_weights))"
   ]
  },
  {
   "cell_type": "code",
   "execution_count": 17,
   "metadata": {},
   "outputs": [],
   "source": [
    "base_model.trainable = False"
   ]
  },
  {
   "cell_type": "code",
   "execution_count": 18,
   "metadata": {},
   "outputs": [
    {
     "name": "stdout",
     "output_type": "stream",
     "text": [
      "This is the number of trainable weights before freezing the conv base: 4\n"
     ]
    }
   ],
   "source": [
    "print('This is the number of trainable weights '\n",
    "      'before freezing the conv base:', len(model.trainable_weights))"
   ]
  },
  {
   "cell_type": "markdown",
   "metadata": {},
   "source": [
    "With this setup, only the weights from the two Dense layers that we added will be trained. That's a total of four weight tensors: two per layer (the main weight matrix and the bias vector). Note that in order for these changes to take effect, we must first compile the model. If you ever modify weight trainability after compilation, you should then re-compile the model, or these changes would be ignored."
   ]
  },
  {
   "cell_type": "markdown",
   "metadata": {},
   "source": [
    "Now we can start fine-tuning our network. We will do this with the RMSprop optimizer, using a very low learning rate. The reason for using a low learning rate is that we want to limit the magnitude of the modifications we make to the representations of the 3 layers that we are fine-tuning."
   ]
  },
  {
   "cell_type": "code",
   "execution_count": 19,
   "metadata": {},
   "outputs": [
    {
     "data": {
      "text/plain": [
       "[<keras.engine.input_layer.InputLayer at 0x15704b0c8d0>,\n",
       " <keras.layers.convolutional.Conv2D at 0x15704b0cbe0>,\n",
       " <keras.layers.convolutional.Conv2D at 0x15704b0cd68>,\n",
       " <keras.layers.pooling.MaxPooling2D at 0x15704b5ad68>,\n",
       " <keras.layers.convolutional.Conv2D at 0x15704b78668>,\n",
       " <keras.layers.convolutional.Conv2D at 0x15704bba0f0>,\n",
       " <keras.layers.pooling.MaxPooling2D at 0x15704bd0710>,\n",
       " <keras.layers.convolutional.Conv2D at 0x15704bd0240>,\n",
       " <keras.layers.convolutional.Conv2D at 0x15704c093c8>,\n",
       " <keras.layers.convolutional.Conv2D at 0x15704c249e8>,\n",
       " <keras.layers.pooling.MaxPooling2D at 0x15704c57438>,\n",
       " <keras.layers.convolutional.Conv2D at 0x15704c38c88>,\n",
       " <keras.layers.convolutional.Conv2D at 0x15704c76a90>,\n",
       " <keras.layers.convolutional.Conv2D at 0x15704ca7550>,\n",
       " <keras.layers.pooling.MaxPooling2D at 0x15704cc8630>,\n",
       " <keras.layers.convolutional.Conv2D at 0x15704cc8c88>,\n",
       " <keras.layers.convolutional.Conv2D at 0x15704cf3630>,\n",
       " <keras.layers.convolutional.Conv2D at 0x15704d1a978>,\n",
       " <keras.layers.pooling.MaxPooling2D at 0x15704d49908>]"
      ]
     },
     "execution_count": 19,
     "metadata": {},
     "output_type": "execute_result"
    }
   ],
   "source": [
    "base_model.layers"
   ]
  },
  {
   "cell_type": "code",
   "execution_count": 20,
   "metadata": {},
   "outputs": [
    {
     "data": {
      "text/plain": [
       "[<keras.engine.training.Model at 0x15704d49438>,\n",
       " <keras.layers.core.Flatten at 0x157053ea048>,\n",
       " <keras.layers.core.Dense at 0x157053ea0b8>,\n",
       " <keras.layers.core.Dense at 0x157053eacf8>]"
      ]
     },
     "execution_count": 20,
     "metadata": {},
     "output_type": "execute_result"
    }
   ],
   "source": [
    "model.layers"
   ]
  },
  {
   "cell_type": "markdown",
   "metadata": {},
   "source": [
    "### Start training the whole thing, with a very slow learning rate"
   ]
  },
  {
   "cell_type": "code",
   "execution_count": 21,
   "metadata": {},
   "outputs": [
    {
     "name": "stdout",
     "output_type": "stream",
     "text": [
      "Found 4000 images belonging to 2 classes.\n",
      "Found 2000 images belonging to 2 classes.\n",
      "Found 2000 images belonging to 2 classes.\n"
     ]
    }
   ],
   "source": [
    "# Augmentation\n",
    "train_datagen = ImageDataGenerator(\n",
    "      rescale=1./255,\n",
    "      rotation_range=40,\n",
    "      width_shift_range=0.2,\n",
    "      height_shift_range=0.2,\n",
    "      shear_range=0.2,\n",
    "      zoom_range=0.2,\n",
    "      horizontal_flip=True,\n",
    "      fill_mode='nearest'\n",
    ")\n",
    "\n",
    "validation_datagen = ImageDataGenerator(rescale=1./255)\n",
    "\n",
    "test_datagen = ImageDataGenerator(rescale=1./255)\n",
    "\n",
    "# Flow from directory\n",
    "train_gen = train_datagen.flow_from_directory(\n",
    "        'images/split/train',\n",
    "        target_size=(150, 150),\n",
    "        batch_size=batch_size,\n",
    "        class_mode='binary'\n",
    "#         shuffle=False\n",
    ")\n",
    "\n",
    "validation_gen = validation_datagen.flow_from_directory(\n",
    "        'images/split/validation',\n",
    "        target_size=(150, 150),\n",
    "        batch_size=batch_size,\n",
    "        class_mode='binary'\n",
    "#         shuffle=False\n",
    ")\n",
    "\n",
    "test_gen = test_datagen.flow_from_directory(\n",
    "        'images/split/test',\n",
    "        target_size=(150, 150),\n",
    "        batch_size=batch_size,\n",
    "        class_mode='binary'\n",
    "#         shuffle=False\n",
    ")"
   ]
  },
  {
   "cell_type": "markdown",
   "metadata": {},
   "source": [
    "### Compile"
   ]
  },
  {
   "cell_type": "code",
   "execution_count": 22,
   "metadata": {},
   "outputs": [],
   "source": [
    "# Compile the model with a SGD/momentum optimizer and a very slow learning rate\n",
    "model.compile(\n",
    "    loss='binary_crossentropy',\n",
    "    optimizer=SGD(lr=1e-4, momentum=0.9),\n",
    "    metrics=['accuracy']\n",
    ")"
   ]
  },
  {
   "cell_type": "markdown",
   "metadata": {},
   "source": [
    "### Fine-tune the model"
   ]
  },
  {
   "cell_type": "code",
   "execution_count": 23,
   "metadata": {},
   "outputs": [
    {
     "name": "stdout",
     "output_type": "stream",
     "text": [
      "Epoch 1/30\n",
      "100/100 [==============================] - 10s 104ms/step - loss: 0.6573 - acc: 0.6235 - val_loss: 0.5808 - val_acc: 0.7050\n",
      "Epoch 2/30\n",
      "100/100 [==============================] - 9s 93ms/step - loss: 0.5953 - acc: 0.7150 - val_loss: 0.5222 - val_acc: 0.7910\n",
      "Epoch 3/30\n",
      "100/100 [==============================] - 9s 93ms/step - loss: 0.5608 - acc: 0.7500 - val_loss: 0.4719 - val_acc: 0.8230\n",
      "Epoch 4/30\n",
      "100/100 [==============================] - 9s 93ms/step - loss: 0.5316 - acc: 0.7515 - val_loss: 0.4683 - val_acc: 0.8050\n",
      "Epoch 5/30\n",
      "100/100 [==============================] - 9s 93ms/step - loss: 0.5037 - acc: 0.7845 - val_loss: 0.4348 - val_acc: 0.8280\n",
      "Epoch 6/30\n",
      "100/100 [==============================] - 9s 93ms/step - loss: 0.4978 - acc: 0.7880 - val_loss: 0.4160 - val_acc: 0.8320\n",
      "Epoch 7/30\n",
      "100/100 [==============================] - 9s 93ms/step - loss: 0.4798 - acc: 0.7795 - val_loss: 0.3910 - val_acc: 0.8410\n",
      "Epoch 8/30\n",
      "100/100 [==============================] - 9s 93ms/step - loss: 0.4581 - acc: 0.8020 - val_loss: 0.3898 - val_acc: 0.8430\n",
      "Epoch 9/30\n",
      "100/100 [==============================] - 9s 93ms/step - loss: 0.4643 - acc: 0.7950 - val_loss: 0.3611 - val_acc: 0.8630\n",
      "Epoch 10/30\n",
      "100/100 [==============================] - 9s 93ms/step - loss: 0.4538 - acc: 0.7980 - val_loss: 0.3888 - val_acc: 0.8240\n",
      "Epoch 11/30\n",
      "100/100 [==============================] - 9s 93ms/step - loss: 0.4435 - acc: 0.7960 - val_loss: 0.3659 - val_acc: 0.8410\n",
      "Epoch 12/30\n",
      "100/100 [==============================] - 9s 93ms/step - loss: 0.4377 - acc: 0.7990 - val_loss: 0.3457 - val_acc: 0.8550\n",
      "Epoch 13/30\n",
      "100/100 [==============================] - 9s 93ms/step - loss: 0.4387 - acc: 0.8000 - val_loss: 0.3496 - val_acc: 0.8490\n",
      "Epoch 14/30\n",
      "100/100 [==============================] - 9s 93ms/step - loss: 0.4162 - acc: 0.8145 - val_loss: 0.3396 - val_acc: 0.8520\n",
      "Epoch 15/30\n",
      "100/100 [==============================] - 9s 93ms/step - loss: 0.4286 - acc: 0.8075 - val_loss: 0.3479 - val_acc: 0.8450\n",
      "Epoch 16/30\n",
      "100/100 [==============================] - 9s 93ms/step - loss: 0.4191 - acc: 0.8090 - val_loss: 0.3195 - val_acc: 0.8680\n",
      "Epoch 17/30\n",
      "100/100 [==============================] - 9s 93ms/step - loss: 0.4141 - acc: 0.8160 - val_loss: 0.3512 - val_acc: 0.8480\n",
      "Epoch 18/30\n",
      "100/100 [==============================] - 9s 93ms/step - loss: 0.3943 - acc: 0.8270 - val_loss: 0.3260 - val_acc: 0.8650\n",
      "Epoch 19/30\n",
      "100/100 [==============================] - 9s 93ms/step - loss: 0.3989 - acc: 0.8210 - val_loss: 0.3344 - val_acc: 0.8470\n",
      "Epoch 20/30\n",
      "100/100 [==============================] - 9s 93ms/step - loss: 0.4086 - acc: 0.8150 - val_loss: 0.3140 - val_acc: 0.8650\n",
      "Epoch 21/30\n",
      "100/100 [==============================] - 9s 93ms/step - loss: 0.4044 - acc: 0.8250 - val_loss: 0.3128 - val_acc: 0.8710\n",
      "Epoch 22/30\n",
      "100/100 [==============================] - 9s 93ms/step - loss: 0.3900 - acc: 0.8340 - val_loss: 0.3159 - val_acc: 0.8560\n",
      "Epoch 23/30\n",
      "100/100 [==============================] - 9s 93ms/step - loss: 0.3885 - acc: 0.8265 - val_loss: 0.3162 - val_acc: 0.8560\n",
      "Epoch 24/30\n",
      "100/100 [==============================] - 9s 94ms/step - loss: 0.3957 - acc: 0.8170 - val_loss: 0.3088 - val_acc: 0.8690\n",
      "Epoch 25/30\n",
      "100/100 [==============================] - 9s 94ms/step - loss: 0.3900 - acc: 0.8340 - val_loss: 0.2868 - val_acc: 0.8830\n",
      "Epoch 26/30\n",
      "100/100 [==============================] - 9s 93ms/step - loss: 0.3764 - acc: 0.8305 - val_loss: 0.3263 - val_acc: 0.8580\n",
      "Epoch 27/30\n",
      "100/100 [==============================] - 10s 96ms/step - loss: 0.3805 - acc: 0.8275 - val_loss: 0.2894 - val_acc: 0.8750\n",
      "Epoch 28/30\n",
      "100/100 [==============================] - 9s 95ms/step - loss: 0.3717 - acc: 0.8345 - val_loss: 0.3203 - val_acc: 0.8610\n",
      "Epoch 29/30\n",
      "100/100 [==============================] - 9s 94ms/step - loss: 0.3874 - acc: 0.8195 - val_loss: 0.3002 - val_acc: 0.8770\n",
      "Epoch 30/30\n",
      "100/100 [==============================] - 9s 94ms/step - loss: 0.3635 - acc: 0.8475 - val_loss: 0.3234 - val_acc: 0.8520\n"
     ]
    },
    {
     "data": {
      "text/plain": [
       "<keras.callbacks.History at 0x15731ec2198>"
      ]
     },
     "execution_count": 23,
     "metadata": {},
     "output_type": "execute_result"
    }
   ],
   "source": [
    "# Fine-tune the model\n",
    "model.fit_generator(\n",
    "        train_gen,\n",
    "        steps_per_epoch=100, # 2000 / 20 nb_train_samples // batch_size\n",
    "        epochs=30,\n",
    "        validation_data=validation_gen,\n",
    "        validation_steps=50 # 1000 / 20 nb_validation_samples // batch_size\n",
    ")"
   ]
  },
  {
   "cell_type": "code",
   "execution_count": 24,
   "metadata": {},
   "outputs": [
    {
     "data": {
      "image/png": "[encoded data removed]",
      "text/plain": [
       "<Figure size 432x288 with 1 Axes>"
      ]
     },
     "metadata": {
      "needs_background": "light"
     },
     "output_type": "display_data"
    },
    {
     "data": {
      "image/png": "[encoded data removed]",
      "text/plain": [
       "<Figure size 432x288 with 1 Axes>"
      ]
     },
     "metadata": {
      "needs_background": "light"
     },
     "output_type": "display_data"
    }
   ],
   "source": [
    "acc = history.history['acc']\n",
    "val_acc = history.history['val_acc']\n",
    "loss = history.history['loss']\n",
    "val_loss = history.history['val_loss']\n",
    "\n",
    "epochs = range(len(acc))\n",
    "\n",
    "plt.plot(epochs, acc, 'bo', label='Training acc')\n",
    "plt.plot(epochs, val_acc, 'b', label='Validation acc')\n",
    "plt.title('Training and validation accuracy')\n",
    "plt.legend()\n",
    "\n",
    "plt.figure()\n",
    "\n",
    "plt.plot(epochs, loss, 'bo', label='Training loss')\n",
    "plt.plot(epochs, val_loss, 'b', label='Validation loss')\n",
    "plt.title('Training and validation loss')\n",
    "plt.legend()\n",
    "\n",
    "plt.show()"
   ]
  },
  {
   "cell_type": "markdown",
   "metadata": {},
   "source": [
    "### Fine-tuning\n",
    "\n",
    "Another widely used technique for model reuse, complementary to feature extraction, is fine-tuning. Fine-tuning consists in unfreezing a few of the top layers of a frozen model base used for feature extraction, and jointly training both the newly added part of the model (in our case, the fully-connected classifier) and these top layers. This is called \"fine-tuning\" because it slightly adjusts the more abstract representations of the model being reused, in order to make them more relevant for the problem at hand."
   ]
  },
  {
   "cell_type": "markdown",
   "metadata": {},
   "source": [
    "We have stated before that it was necessary to freeze the convolution base of VGG16 in order to be able to train a randomly initialized classifier on top. For the same reason, it is only possible to fine-tune the top layers of the convolutional base once the classifier on top has already been trained. If the classified wasn't already trained, then the error signal propagating through the network during training would be too large, and the representations previously learned by the layers being fine-tuned would be destroyed. Thus the steps for fine-tuning a network are as follow:\n",
    "\n",
    "1. Add your custom network on top of an already trained base network.\n",
    "1. Freeze the base network.\n",
    "1. Train the part you added.\n",
    "1. Unfreeze some layers in the base network.\n",
    "1. Jointly train both these layers and the part you added.\n"
   ]
  },
  {
   "cell_type": "markdown",
   "metadata": {},
   "source": [
    "We will fine-tune the last 3 convolutional layers, which means that all layers up until block4_pool should be frozen, and the layers block5_conv1, block5_conv2 and block5_conv3 should be trainable.\n",
    "\n",
    "### Why not fine-tune more layers? \n",
    "\n",
    "Why not fine-tune the entire convolutional base? We could. However, we need to consider that:\n",
    "\n",
    "- Earlier layers in the convolutional base encode more generic, reusable features, while layers higher up encode more specialized features. It is more useful to fine-tune the more specialized features, as these are the ones that need to be repurposed on our new problem. There would be fast-decreasing returns in fine-tuning lower layers.\n",
    "- The more parameters we are training, the more we are at risk of overfitting. The convolutional base has 15M parameters, so it would be risky to attempt to train it on our small dataset.\n",
    "\n",
    "Thus, in our situation, it is a good strategy to only fine-tune the top 2 to 3 layers in the convolutional base.\n",
    "\n",
    "Let's set this up, starting from where we left off in the previous example:\n"
   ]
  },
  {
   "cell_type": "code",
   "execution_count": 25,
   "metadata": {},
   "outputs": [],
   "source": [
    "base_model.trainable = True\n",
    "\n",
    "set_trainable = False\n",
    "for layer in base_model.layers:\n",
    "    if layer.name == 'block5_conv1':\n",
    "        set_trainable = True\n",
    "    if set_trainable:\n",
    "        layer.trainable = True\n",
    "    else:\n",
    "        layer.trainable = False"
   ]
  },
  {
   "cell_type": "markdown",
   "metadata": {},
   "source": [
    "Now we can start fine-tuning our network. We will do this with the RMSprop optimizer, using a very low learning rate. The reason for using a low learning rate is that we want to limit the magnitude of the modifications we make to the representations of the 3 layers that we are fine-tuning. Updates that are too large may harm these representations."
   ]
  },
  {
   "cell_type": "code",
   "execution_count": 26,
   "metadata": {},
   "outputs": [
    {
     "name": "stdout",
     "output_type": "stream",
     "text": [
      "Epoch 1/30\n",
      "100/100 [==============================] - 10s 102ms/step - loss: 0.3823 - acc: 0.8295 - val_loss: 0.3262 - val_acc: 0.8540\n",
      "Epoch 2/30\n",
      "100/100 [==============================] - 9s 93ms/step - loss: 0.3583 - acc: 0.8515 - val_loss: 0.2702 - val_acc: 0.8840\n",
      "Epoch 3/30\n",
      "100/100 [==============================] - 9s 94ms/step - loss: 0.3651 - acc: 0.8380 - val_loss: 0.3058 - val_acc: 0.8730\n",
      "Epoch 4/30\n",
      "100/100 [==============================] - 9s 94ms/step - loss: 0.3854 - acc: 0.8165 - val_loss: 0.2796 - val_acc: 0.8690\n",
      "Epoch 5/30\n",
      "100/100 [==============================] - 9s 94ms/step - loss: 0.3482 - acc: 0.8505 - val_loss: 0.2934 - val_acc: 0.8740\n",
      "Epoch 6/30\n",
      "100/100 [==============================] - 9s 94ms/step - loss: 0.3500 - acc: 0.8410 - val_loss: 0.3002 - val_acc: 0.8650\n",
      "Epoch 7/30\n",
      "100/100 [==============================] - 9s 95ms/step - loss: 0.3704 - acc: 0.8330 - val_loss: 0.2962 - val_acc: 0.8830\n",
      "Epoch 8/30\n",
      "100/100 [==============================] - 9s 93ms/step - loss: 0.3655 - acc: 0.8430 - val_loss: 0.2857 - val_acc: 0.8750\n",
      "Epoch 9/30\n",
      "100/100 [==============================] - 9s 93ms/step - loss: 0.3681 - acc: 0.8345 - val_loss: 0.2764 - val_acc: 0.8720\n",
      "Epoch 10/30\n",
      "100/100 [==============================] - 9s 93ms/step - loss: 0.3552 - acc: 0.8345 - val_loss: 0.2862 - val_acc: 0.8800\n",
      "Epoch 11/30\n",
      "100/100 [==============================] - 9s 93ms/step - loss: 0.3648 - acc: 0.8380 - val_loss: 0.3060 - val_acc: 0.8780\n",
      "Epoch 12/30\n",
      "100/100 [==============================] - 9s 93ms/step - loss: 0.3409 - acc: 0.8565 - val_loss: 0.2897 - val_acc: 0.8690\n",
      "Epoch 13/30\n",
      "100/100 [==============================] - 9s 95ms/step - loss: 0.3619 - acc: 0.8330 - val_loss: 0.3011 - val_acc: 0.8620\n",
      "Epoch 14/30\n",
      "100/100 [==============================] - 9s 93ms/step - loss: 0.3501 - acc: 0.8450 - val_loss: 0.2665 - val_acc: 0.8900\n",
      "Epoch 15/30\n",
      "100/100 [==============================] - 9s 94ms/step - loss: 0.3502 - acc: 0.8405 - val_loss: 0.2858 - val_acc: 0.8730\n",
      "Epoch 16/30\n",
      "100/100 [==============================] - 9s 93ms/step - loss: 0.3498 - acc: 0.8440 - val_loss: 0.2773 - val_acc: 0.8820\n",
      "Epoch 17/30\n",
      "100/100 [==============================] - 9s 93ms/step - loss: 0.3380 - acc: 0.8590 - val_loss: 0.2818 - val_acc: 0.8740\n",
      "Epoch 18/30\n",
      "100/100 [==============================] - 9s 93ms/step - loss: 0.3622 - acc: 0.8425 - val_loss: 0.3072 - val_acc: 0.8630\n",
      "Epoch 19/30\n",
      "100/100 [==============================] - 9s 94ms/step - loss: 0.3521 - acc: 0.8430 - val_loss: 0.2718 - val_acc: 0.8860\n",
      "Epoch 20/30\n",
      "100/100 [==============================] - 9s 94ms/step - loss: 0.3373 - acc: 0.8500 - val_loss: 0.2768 - val_acc: 0.8800\n",
      "Epoch 21/30\n",
      "100/100 [==============================] - 9s 94ms/step - loss: 0.3486 - acc: 0.8560 - val_loss: 0.2957 - val_acc: 0.8730\n",
      "Epoch 22/30\n",
      "100/100 [==============================] - 9s 94ms/step - loss: 0.3470 - acc: 0.8430 - val_loss: 0.2684 - val_acc: 0.8820\n",
      "Epoch 23/30\n",
      "100/100 [==============================] - 9s 93ms/step - loss: 0.3458 - acc: 0.8425 - val_loss: 0.2773 - val_acc: 0.8870\n",
      "Epoch 24/30\n",
      "100/100 [==============================] - 9s 95ms/step - loss: 0.3391 - acc: 0.8455 - val_loss: 0.2696 - val_acc: 0.8780\n",
      "Epoch 25/30\n",
      "100/100 [==============================] - 9s 93ms/step - loss: 0.3435 - acc: 0.8510 - val_loss: 0.3032 - val_acc: 0.8600\n",
      "Epoch 26/30\n",
      "100/100 [==============================] - 9s 94ms/step - loss: 0.3735 - acc: 0.8315 - val_loss: 0.2997 - val_acc: 0.8780\n",
      "Epoch 27/30\n",
      "100/100 [==============================] - 9s 95ms/step - loss: 0.3270 - acc: 0.8565 - val_loss: 0.2569 - val_acc: 0.8850\n",
      "Epoch 28/30\n",
      "100/100 [==============================] - 9s 94ms/step - loss: 0.3406 - acc: 0.8440 - val_loss: 0.2964 - val_acc: 0.8720\n",
      "Epoch 29/30\n",
      "100/100 [==============================] - 9s 95ms/step - loss: 0.3431 - acc: 0.8400 - val_loss: 0.2936 - val_acc: 0.8740\n",
      "Epoch 30/30\n",
      "100/100 [==============================] - 9s 93ms/step - loss: 0.3519 - acc: 0.8445 - val_loss: 0.2347 - val_acc: 0.8930\n"
     ]
    }
   ],
   "source": [
    "history = model.fit_generator(\n",
    "      train_gen,\n",
    "      steps_per_epoch=100,\n",
    "      epochs=30,\n",
    "      validation_data=validation_gen,\n",
    "      validation_steps=50)"
   ]
  },
  {
   "cell_type": "code",
   "execution_count": 27,
   "metadata": {},
   "outputs": [
    {
     "data": {
      "image/png": "[encoded data removed]",
      "text/plain": [
       "<Figure size 432x288 with 1 Axes>"
      ]
     },
     "metadata": {
      "needs_background": "light"
     },
     "output_type": "display_data"
    },
    {
     "data": {
      "image/png": "[encoded data removed]",
      "text/plain": [
       "<Figure size 432x288 with 1 Axes>"
      ]
     },
     "metadata": {
      "needs_background": "light"
     },
     "output_type": "display_data"
    }
   ],
   "source": [
    "acc = history.history['acc']\n",
    "val_acc = history.history['val_acc']\n",
    "loss = history.history['loss']\n",
    "val_loss = history.history['val_loss']\n",
    "\n",
    "epochs = range(len(acc))\n",
    "\n",
    "plt.plot(epochs, acc, 'bo', label='Training acc')\n",
    "plt.plot(epochs, val_acc, 'b', label='Validation acc')\n",
    "plt.title('Training and validation accuracy')\n",
    "plt.legend()\n",
    "\n",
    "plt.figure()\n",
    "\n",
    "plt.plot(epochs, loss, 'bo', label='Training loss')\n",
    "plt.plot(epochs, val_loss, 'b', label='Validation loss')\n",
    "plt.title('Training and validation loss')\n",
    "plt.legend()\n",
    "\n",
    "plt.show()"
   ]
  },
  {
   "cell_type": "markdown",
   "metadata": {},
   "source": [
    "These curves look very noisy. To make them more readable, we can smooth them by replacing every loss and accuracy with exponential moving averages of these quantities. Here's a trivial utility function to do this:"
   ]
  },
  {
   "cell_type": "code",
   "execution_count": 28,
   "metadata": {},
   "outputs": [
    {
     "data": {
      "image/png": "[encoded data removed]",
      "text/plain": [
       "<Figure size 432x288 with 1 Axes>"
      ]
     },
     "metadata": {
      "needs_background": "light"
     },
     "output_type": "display_data"
    },
    {
     "data": {
      "image/png": "[encoded data removed]",
      "text/plain": [
       "<Figure size 432x288 with 1 Axes>"
      ]
     },
     "metadata": {
      "needs_background": "light"
     },
     "output_type": "display_data"
    }
   ],
   "source": [
    "def smooth_curve(points, factor=0.8):\n",
    "    smoothed_points = []\n",
    "    for point in points:\n",
    "        if smoothed_points:\n",
    "            previous = smoothed_points[-1]\n",
    "            smoothed_points.append(previous * factor + point * (1 - factor))\n",
    "        else:\n",
    "            smoothed_points.append(point)\n",
    "    return smoothed_points\n",
    "\n",
    "plt.plot(epochs,\n",
    "         smooth_curve(acc), 'bo', label='Smoothed training acc')\n",
    "plt.plot(epochs,\n",
    "         smooth_curve(val_acc), 'b', label='Smoothed validation acc')\n",
    "plt.title('Training and validation accuracy')\n",
    "plt.legend()\n",
    "\n",
    "plt.figure()\n",
    "\n",
    "plt.plot(epochs,\n",
    "         smooth_curve(loss), 'bo', label='Smoothed training loss')\n",
    "plt.plot(epochs,\n",
    "         smooth_curve(val_loss), 'b', label='Smoothed validation loss')\n",
    "plt.title('Training and validation loss')\n",
    "plt.legend()\n",
    "\n",
    "plt.show()"
   ]
  },
  {
   "cell_type": "markdown",
   "metadata": {},
   "source": [
    "These curves look much cleaner and more stable. We are seeing a nice 1% absolute improvement.\n",
    "\n",
    "Note that the loss curve does not show any real improvement (in fact, it is deteriorating). You may wonder, how could accuracy improve if the loss isn't decreasing? The answer is simple: what we display is an average of pointwise loss values, but what actually matters for accuracy is the distribution of the loss values, not their average, since accuracy is the result of a binary thresholding of the class probability predicted by the model. The model may still be improving even if this isn't reflected in the average loss.\n",
    "\n",
    "We can now finally evaluate this model on the test data:\n"
   ]
  },
  {
   "cell_type": "code",
   "execution_count": 29,
   "metadata": {},
   "outputs": [
    {
     "name": "stdout",
     "output_type": "stream",
     "text": [
      "test acc: 0.8969999957084656\n"
     ]
    }
   ],
   "source": [
    "test_loss, test_acc = model.evaluate_generator(test_gen, steps=50)\n",
    "print('test acc:', test_acc)"
   ]
  },
  {
   "cell_type": "markdown",
   "metadata": {},
   "source": [
    "### Take-aways: using convnets with small datasets\n",
    "\n",
    "Here's what you should take away from the exercises of these past two sections:\n",
    "\n",
    "- Convnets are the best type of machine learning models for computer vision tasks. It is possible to train one from scratch even on a very small dataset, with decent results.\n",
    "- On a small dataset, overfitting will be the main issue. Data augmentation is a powerful way to fight overfitting when working with image data.\n",
    "- It is easy to reuse an existing convnet on a new dataset, via feature extraction. This is a very valuable technique for working with small image datasets.\n",
    "- As a complement to feature extraction, one may use fine-tuning, which adapts to a new problem some of the representations previously learned by an existing model. This pushes performance a bit further.\n",
    "\n",
    "Now you have a solid set of tools for dealing with image classification problems, in particular with small datasets.\n"
   ]
  },
  {
   "cell_type": "markdown",
   "metadata": {},
   "source": [
    "### Approaches to get a better score\n",
    "\n",
    "- More aggresive data augmentation\n",
    "- More aggressive dropout\n",
    "- Use of L1 and L2 regularization (also known as \"weight decay\")\n",
    "- Fine-tuning one more convolutional block (alongside greater regularization)"
   ]
  },
  {
   "cell_type": "markdown",
   "metadata": {},
   "source": [
    "### Prediction"
   ]
  },
  {
   "cell_type": "code",
   "execution_count": 30,
   "metadata": {},
   "outputs": [],
   "source": [
    "# from keras.preprocessing import image\n",
    "# from keras.applications.vgg16 import preprocess_input, decode_predictions\n",
    "\n",
    "# # assuming that model is your saved and trained model\n",
    "# model1 = applications.VGG16(include_top=False, weights='imagenet')\n",
    "# img = image.load_img('imagename.jpg', target_size=(img_width, img_height))\n",
    "# x = image.img_to_array(img)\n",
    "# x = np.expand_dims(x, axis=0)\n",
    "# features = model1.predict(x)\n",
    "\n",
    "# # this is where you get your prediction\n",
    "# prediction = model.predict(features)"
   ]
  },
  {
   "cell_type": "markdown",
   "metadata": {},
   "source": [
    "Try this later on for practice:\n",
    "    https://github.com/fchollet/deep-learning-with-python-notebooks/blob/master/3.7-predicting-house-prices.ipynb"
   ]
  }
 ],
 "metadata": {
  "kernelspec": {
   "display_name": "Python 3.6 (TensorFlow)",
   "language": "python",
   "name": "tf-test"
  },
  "language_info": {
   "codemirror_mode": {
    "name": "ipython",
    "version": 3
   },
   "file_extension": ".py",
   "mimetype": "text/x-python",
   "name": "python",
   "nbconvert_exporter": "python",
   "pygments_lexer": "ipython3",
   "version": "3.6.8"
  }
 },
 "nbformat": 4,
 "nbformat_minor": 2
}
