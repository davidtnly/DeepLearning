{
 "cells": [
  {
   "cell_type": "markdown",
   "metadata": {},
   "source": [
    "## Transfer Learning\n",
    "\n",
    "Learning to use a pre-trained model for faster development. Using shutil() as the main library to copy images vs. other methods in my other notebooks."
   ]
  },
  {
   "cell_type": "code",
   "execution_count": 231,
   "metadata": {},
   "outputs": [],
   "source": [
    "# Images\n",
    "from PIL import Image\n",
    "from skimage.io import imread\n",
    "from skimage.transform import resize\n",
    "import imgaug as aug\n",
    "import imgaug.augmenters as imaug\n",
    "import cv2\n",
    "\n",
    "# Toolbox\n",
    "from pathlib import Path\n",
    "from imutils import paths\n",
    "import numpy as np\n",
    "import pandas as pd \n",
    "import seaborn as sns\n",
    "import matplotlib.pyplot as plt\n",
    "%matplotlib inline\n",
    "\n",
    "# Misc\n",
    "import progressbar\n",
    "import random\n",
    "import glob\n",
    "import shutil\n",
    "import sys\n",
    "import os\n",
    "import warnings\n",
    "warnings.filterwarnings(action='ignore')\n",
    "\n",
    "# Deep learning\n",
    "from keras.layers import Conv2D, BatchNormalization, MaxPooling2D, Dropout, Flatten, Dense\n",
    "from keras.models import Model\n",
    "from keras.optimizers import Adam, RMSprop\n",
    "from keras.preprocessing.image import load_img, img_to_array, ImageDataGenerator\n",
    "from keras import applications\n",
    "from keras.callbacks import ModelCheckpoint\n",
    "from keras.preprocessing.image import load_img\n",
    "from keras.applications.vgg16 import preprocess_input\n",
    "\n",
    "# Evaluation\n",
    "from sklearn.preprocessing import LabelEncoder\n",
    "from sklearn.model_selection import train_test_split\n",
    "from sklearn.linear_model import LogisticRegression\n",
    "from sklearn.model_selection import cross_val_score\n",
    "from sklearn.metrics import accuracy_score, confusion_matrix, classification_report"
   ]
  },
  {
   "cell_type": "markdown",
   "metadata": {},
   "source": [
    "### Helpers"
   ]
  },
  {
   "cell_type": "code",
   "execution_count": 2,
   "metadata": {},
   "outputs": [],
   "source": [
    "def pct_bar_labels():\n",
    "    '''\n",
    "    Function used to label the relative frequency on top of each bars\n",
    "    '''\n",
    "    # Set font size\n",
    "    fs=15\n",
    "    \n",
    "    # Set plot label and ticks\n",
    "    plt.ylabel('Relative Frequency (%)', fontsize=fs)\n",
    "    plt.xticks(rotation=0, fontsize=fs)\n",
    "    plt.yticks([])\n",
    "    \n",
    "    # Set individual bar labels in proportional scale\n",
    "    for x in ax1.patches:\n",
    "        ax1.annotate(str(x.get_height()) + '%', \n",
    "        (x.get_x() + x.get_width()/2., x.get_height()), ha='center', va='center', xytext=(0, 7), \n",
    "        textcoords='offset points', fontsize=fs, color='black')\n",
    "\n",
    "def freq_table(var):\n",
    "    '''\n",
    "    Define plot global variables\n",
    "    Create a function that will populate a frequency table (%)\n",
    "    Get counts per feature then get the percentage over the total counts\n",
    "    '''\n",
    "    global ax, ax1\n",
    "    \n",
    "    # Get values and pct and combine it into a dataframe\n",
    "    count_freq = var.value_counts()\n",
    "    pct_freq = round(var.value_counts(normalize=True)*100, 2)\n",
    "    \n",
    "    # Create a dataframe\n",
    "    df = pd.DataFrame({'Count': count_freq, 'Percentage': pct_freq})\n",
    "    \n",
    "    # Print variable name\n",
    "    print('Frequency of', var.name, ':')\n",
    "    display(df)\n",
    "    \n",
    "    # Create plot\n",
    "    ax1 = pct_freq.plot.bar(title='Percentage of {}'.format(var.name), figsize=(12,8))\n",
    "    ax1.title.set_size(15)\n",
    "    pct_bar_labels()\n",
    "    plt.show()\n",
    "    \n",
    "# Define a null function\n",
    "def get_nulls(df):\n",
    "    \n",
    "    # Get null pct and counts\n",
    "    null_cols = pd.DataFrame(df.isnull().sum().sort_values(ascending=False), columns=['Null Data Count'])\n",
    "    null_cols_pct = pd.DataFrame(round(df.isnull().sum().sort_values(ascending=False)/len(df),2), columns=['Null Data Pct'])\n",
    "\n",
    "    # Combine dataframes horizontally\n",
    "    null_cols_df = pd.DataFrame(pd.concat([null_cols, null_cols_pct], axis=1))\n",
    "\n",
    "    all_nulls = null_cols_df[null_cols_df['Null Data Pct']>0]\n",
    "\n",
    "    # Print\n",
    "    print('There are', len(all_nulls), 'columns with missing values.')\n",
    "    return all_nulls\n",
    "\n",
    "# Define plot_nulls function\n",
    "def plot_nulls(train):\n",
    "    # Get null pct and counts\n",
    "    null_cols = pd.DataFrame(train.isnull().sum().sort_values(ascending=False), columns=['Null Data Count'])\n",
    "    null_cols_pct = pd.DataFrame(round(train.isnull().sum().sort_values(ascending=False)/len(train),2)*100, columns=['Null Data %'])\n",
    "\n",
    "    # Combine horizontally (axis=1) into a dataframe with column names (keys=[]) then to a data frame\n",
    "    null_cols_df = pd.DataFrame(pd.concat([null_cols, null_cols_pct], axis=1))\n",
    "\n",
    "    all_nulls = null_cols_df[null_cols_df['Null Data %']>0]\n",
    "\n",
    "    # Create figure space\n",
    "    plt.figure(figsize=(12, 8))\n",
    "\n",
    "    # Create plot\n",
    "    sns.barplot(x=all_nulls.index,\n",
    "                y='Null Data %',\n",
    "                data=all_nulls)\n",
    "\n",
    "    # Set plot features\n",
    "    plt.xticks(rotation='90')\n",
    "    plt.xlabel('Features', fontsize=15)\n",
    "    plt.ylabel('Percent of Missing Values', fontsize=15)\n",
    "    plt.title('Percent of Missing Data by Features', fontsize=15)\n",
    "    plt.show()\n",
    "    \n",
    "# Show model history\n",
    "def show_model_history(modelHistory, model_name, w=12, h=6):\n",
    "    history = pd.DataFrame()\n",
    "    history['Train Loss'] = modelHistory.history['loss']\n",
    "    history['Validation Loss'] = modelHistory.history['val_loss']\n",
    "    history['Train Accuracy'] = modelHistory.history['acc']\n",
    "    history['Validation Accuracy'] = modelHistory.history['val_acc']\n",
    "    history.plot(figsize=(w, h))\n",
    "    plt.title('Model: {} - Train & Validation Loss & Accuracy'.format(model_name))\n",
    "    plt.show()"
   ]
  },
  {
   "cell_type": "markdown",
   "metadata": {},
   "source": [
    "### Set directory"
   ]
  },
  {
   "cell_type": "code",
   "execution_count": 3,
   "metadata": {},
   "outputs": [
    {
     "data": {
      "text/plain": [
       "['cat.0.jpg', 'cat.1.jpg', 'cat.10.jpg', 'cat.100.jpg', 'cat.1000.jpg']"
      ]
     },
     "execution_count": 3,
     "metadata": {},
     "output_type": "execute_result"
    }
   ],
   "source": [
    "# Set directory\n",
    "PATH = 'C:\\\\Users\\\\' + os.getlogin() + '\\\\Documents\\\\Programming\\\\DeepLearning\\\\09-dog-cat-classifier\\\\images'\n",
    "os.chdir(PATH)\n",
    "\n",
    "# Use Path\n",
    "MAIN_PATH = Path(PATH)\n",
    "\n",
    "# Path to train directory\n",
    "train_dir = MAIN_PATH / 'original_train'\n",
    "\n",
    "# Path to test directory\n",
    "test_dir = MAIN_PATH / 'original_test'\n",
    "\n",
    "# List file names\n",
    "FILE_NAMES = os.listdir(train_dir)\n",
    "FILE_NAMES[0:5]"
   ]
  },
  {
   "cell_type": "markdown",
   "metadata": {},
   "source": [
    "### Base directories\n",
    "\n",
    "Using os.mkdir() to create multiple folders with class folders within the data type."
   ]
  },
  {
   "cell_type": "code",
   "execution_count": 4,
   "metadata": {},
   "outputs": [],
   "source": [
    "original_dataset_dir = train_dir\n",
    "\n",
    "base_dir = MAIN_PATH\n",
    "\n",
    "if not os.path.exists(base_dir):\n",
    "    os.mkdir(base_dir)"
   ]
  },
  {
   "cell_type": "markdown",
   "metadata": {},
   "source": [
    "### Trying out method in creating multiple folders (train, val, test)"
   ]
  },
  {
   "cell_type": "code",
   "execution_count": 5,
   "metadata": {},
   "outputs": [],
   "source": [
    "train_dir = os.path.join(base_dir, 'train')\n",
    "if not os.path.exists(train_dir):\n",
    "    os.mkdir(train_dir)\n",
    "\n",
    "validation_dir = os.path.join(base_dir, 'validation')\n",
    "if not os.path.exists(validation_dir):\n",
    "    os.mkdir(validation_dir)\n",
    "\n",
    "test_dir = os.path.join(base_dir, 'test')\n",
    "if not os.path.exists(test_dir):\n",
    "    os.mkdir(test_dir)\n",
    "\n",
    "train_cats_dir = os.path.join(train_dir, 'cats')\n",
    "if not os.path.exists(train_cats_dir):\n",
    "    os.mkdir(train_cats_dir)\n",
    "\n",
    "train_dogs_dir = os.path.join(train_dir, 'dogs')\n",
    "if not os.path.exists(train_dogs_dir):\n",
    "    os.mkdir(train_dogs_dir)\n",
    "\n",
    "validation_cats_dir = os.path.join(validation_dir, 'cats')\n",
    "if not os.path.exists(validation_cats_dir):\n",
    "    os.mkdir(validation_cats_dir)\n",
    "\n",
    "validation_dogs_dir = os.path.join(validation_dir, 'dogs')\n",
    "if not os.path.exists(validation_dogs_dir):\n",
    "    os.mkdir(validation_dogs_dir)\n",
    "\n",
    "test_cats_dir = os.path.join(test_dir, 'cats')\n",
    "if not os.path.exists(test_cats_dir):\n",
    "    os.mkdir(test_cats_dir)\n",
    "\n",
    "test_dogs_dir = os.path.join(test_dir, 'dogs')\n",
    "if not os.path.exists(test_dogs_dir):\n",
    "    os.mkdir(test_dogs_dir)"
   ]
  },
  {
   "cell_type": "markdown",
   "metadata": {},
   "source": [
    "### Looping through images\n",
    "\n",
    "Dataset sizes:\n",
    "\n",
    "- train: 1000\n",
    "- validation: 500\n",
    "- test: 500\n",
    "\n",
    "Loop through certain amount of images by creating the file names in a loop then search through the directory and copy it to the new folder path."
   ]
  },
  {
   "cell_type": "code",
   "execution_count": 6,
   "metadata": {},
   "outputs": [],
   "source": [
    "# Copy cat images from training to new cat training folder\n",
    "file_names = ['cat.{}.jpg'.format(i) for i in range(1000)] # create name for file\n",
    "\n",
    "# Loop through file names created by searching the original data directory\n",
    "for fname in file_names:\n",
    "    src = os.path.join(original_dataset_dir, fname)\n",
    "    dst = os.path.join(train_cats_dir, fname)\n",
    "    shutil.copyfile(src, dst)"
   ]
  },
  {
   "cell_type": "code",
   "execution_count": 7,
   "metadata": {},
   "outputs": [],
   "source": [
    "file_names = ['cat.{}.jpg'.format(i) for i in range(1000, 1500)]\n",
    "for fname in file_names:\n",
    "    src = os.path.join(original_dataset_dir, fname)\n",
    "    dst = os.path.join(validation_cats_dir, fname)\n",
    "    shutil.copyfile(src, dst)\n",
    "\n",
    "file_names = ['cat.{}.jpg'.format(i) for i in range(1500, 2000)]\n",
    "for fname in file_names:\n",
    "    src = os.path.join(original_dataset_dir, fname)\n",
    "    dst = os.path.join(test_cats_dir, fname)\n",
    "    shutil.copyfile(src, dst)\n",
    "\n",
    "file_names = ['dog.{}.jpg'.format(i) for i in range(1000)]\n",
    "for fname in file_names:\n",
    "    src = os.path.join(original_dataset_dir, fname)\n",
    "    dst = os.path.join(train_dogs_dir, fname)\n",
    "    shutil.copyfile(src, dst)\n",
    "\n",
    "file_names = ['dog.{}.jpg'.format(i) for i in range(1000, 1500)]\n",
    "for fname in file_names:\n",
    "    src = os.path.join(original_dataset_dir, fname)\n",
    "    dst = os.path.join(validation_dogs_dir, fname)\n",
    "    shutil.copyfile(src, dst)\n",
    "\n",
    "file_names = ['dog.{}.jpg'.format(i) for i in range(1500, 2000)]\n",
    "for fname in file_names:\n",
    "    src = os.path.join(original_dataset_dir, fname)\n",
    "    dst = os.path.join(test_dogs_dir, fname)\n",
    "    shutil.copyfile(src, dst)"
   ]
  },
  {
   "cell_type": "markdown",
   "metadata": {},
   "source": [
    "### Define model params"
   ]
  },
  {
   "cell_type": "code",
   "execution_count": 8,
   "metadata": {},
   "outputs": [],
   "source": [
    "# Define model parameters\n",
    "EPOCHS = 30\n",
    "BATCH_SIZE = 150\n",
    "TARGET_SIZE = 150\n",
    "WIDTH=150\n",
    "HEIGHT=150"
   ]
  },
  {
   "cell_type": "markdown",
   "metadata": {},
   "source": [
    "### Image augmentation\n",
    "\n",
    "Use flow_from_directory()"
   ]
  },
  {
   "cell_type": "code",
   "execution_count": 38,
   "metadata": {},
   "outputs": [
    {
     "name": "stdout",
     "output_type": "stream",
     "text": [
      "Found 2000 images belonging to 2 classes.\n",
      "Found 1000 images belonging to 2 classes.\n",
      "Found 1000 images belonging to 2 classes.\n"
     ]
    }
   ],
   "source": [
    "train_datagen = ImageDataGenerator(\n",
    "    rescale=1./255,\n",
    "    rotation_range=40,\n",
    "    width_shift_range=0.2,\n",
    "    height_shift_range=0.2,\n",
    "    shear_range=0.2,\n",
    "    zoom_range=0.2,\n",
    "    horizontal_flip=True,\n",
    "    fill_mode='nearest'\n",
    ")\n",
    "\n",
    "# Notebook is using only rescale and not the same as train\n",
    "val_datagen = ImageDataGenerator(\n",
    "    rescale=1./255\n",
    ")\n",
    "\n",
    "test_datagen = ImageDataGenerator(\n",
    "    rescale=1./255\n",
    ")\n",
    "\n",
    "# Set generation object path\n",
    "train_gen = train_datagen.flow_from_directory(\n",
    "    directory=train_dir,\n",
    "    target_size=(WIDTH, HEIGHT),\n",
    "    batch_size=BATCH_SIZE,\n",
    "    class_mode='binary'\n",
    ")\n",
    "\n",
    "val_gen = val_datagen.flow_from_directory(\n",
    "    directory=validation_dir,\n",
    "    target_size=(WIDTH, HEIGHT),\n",
    "    batch_size=BATCH_SIZE,\n",
    "    class_mode='binary'\n",
    ")\n",
    "\n",
    "test_gen = test_datagen.flow_from_directory(\n",
    "    directory=test_dir,\n",
    "    target_size=(WIDTH, HEIGHT),\n",
    "    batch_size=BATCH_SIZE,\n",
    "    class_mode='binary'\n",
    ")"
   ]
  },
  {
   "cell_type": "markdown",
   "metadata": {},
   "source": [
    "### Callbacks\n",
    "\n",
    "Used to save best model."
   ]
  },
  {
   "cell_type": "code",
   "execution_count": 10,
   "metadata": {},
   "outputs": [],
   "source": [
    "callbacks_list = [\n",
    "    ModelCheckpoint(filepath='best_model.h5', monitor='val_loss', save_best_only=True)\n",
    "]"
   ]
  },
  {
   "cell_type": "markdown",
   "metadata": {},
   "source": [
    "## Transfer Learning: Feature Extractor\n",
    "\n",
    "---------------\n",
    "\n",
    "Feature vectors are extracted from the images in the dataset, and these features are classified by supervised machine learning algorithms. Images are given to the CNN model, which makes classification without the feature extraction process.\n",
    "\n",
    "CNN also allows for the use of pre-trained models on new datasets. This approach is called transfer learning. There are two types of transfer learning.\n",
    "- Feature Extractor\n",
    "- Fine Tuning\n",
    "\n",
    "Transfer learning is based on the paradigm where a model was previously trained on the initial dataset can be used as a starting point on the new dataset. For example, a model that is trained for classification on snake and frog data can be used as a starting point for the classification of other animals. The models of the CNN architectures are trained on the ImageNet dataset and are available in the Keras library. These architectures can be easily used for the purpose of transfer learning on new data like this.\n",
    "\n",
    "[ex](https://github.com/Madhivarman/python/blob/master/resnet_classification.ipynb)"
   ]
  },
  {
   "cell_type": "markdown",
   "metadata": {},
   "source": [
    "### Load VGG16 model"
   ]
  },
  {
   "cell_type": "code",
   "execution_count": 11,
   "metadata": {},
   "outputs": [
    {
     "name": "stdout",
     "output_type": "stream",
     "text": [
      "WARNING:tensorflow:From C:\\Users\\David Ly\\Anaconda3\\envs\\tf-test\\lib\\site-packages\\tensorflow\\python\\framework\\op_def_library.py:263: colocate_with (from tensorflow.python.framework.ops) is deprecated and will be removed in a future version.\n",
      "Instructions for updating:\n",
      "Colocations handled automatically by placer.\n",
      "_________________________________________________________________\n",
      "Layer (type)                 Output Shape              Param #   \n",
      "=================================================================\n",
      "input_1 (InputLayer)         (None, 150, 150, 3)       0         \n",
      "_________________________________________________________________\n",
      "block1_conv1 (Conv2D)        (None, 150, 150, 64)      1792      \n",
      "_________________________________________________________________\n",
      "block1_conv2 (Conv2D)        (None, 150, 150, 64)      36928     \n",
      "_________________________________________________________________\n",
      "block1_pool (MaxPooling2D)   (None, 75, 75, 64)        0         \n",
      "_________________________________________________________________\n",
      "block2_conv1 (Conv2D)        (None, 75, 75, 128)       73856     \n",
      "_________________________________________________________________\n",
      "block2_conv2 (Conv2D)        (None, 75, 75, 128)       147584    \n",
      "_________________________________________________________________\n",
      "block2_pool (MaxPooling2D)   (None, 37, 37, 128)       0         \n",
      "_________________________________________________________________\n",
      "block3_conv1 (Conv2D)        (None, 37, 37, 256)       295168    \n",
      "_________________________________________________________________\n",
      "block3_conv2 (Conv2D)        (None, 37, 37, 256)       590080    \n",
      "_________________________________________________________________\n",
      "block3_conv3 (Conv2D)        (None, 37, 37, 256)       590080    \n",
      "_________________________________________________________________\n",
      "block3_pool (MaxPooling2D)   (None, 18, 18, 256)       0         \n",
      "_________________________________________________________________\n",
      "block4_conv1 (Conv2D)        (None, 18, 18, 512)       1180160   \n",
      "_________________________________________________________________\n",
      "block4_conv2 (Conv2D)        (None, 18, 18, 512)       2359808   \n",
      "_________________________________________________________________\n",
      "block4_conv3 (Conv2D)        (None, 18, 18, 512)       2359808   \n",
      "_________________________________________________________________\n",
      "block4_pool (MaxPooling2D)   (None, 9, 9, 512)         0         \n",
      "_________________________________________________________________\n",
      "block5_conv1 (Conv2D)        (None, 9, 9, 512)         2359808   \n",
      "_________________________________________________________________\n",
      "block5_conv2 (Conv2D)        (None, 9, 9, 512)         2359808   \n",
      "_________________________________________________________________\n",
      "block5_conv3 (Conv2D)        (None, 9, 9, 512)         2359808   \n",
      "_________________________________________________________________\n",
      "block5_pool (MaxPooling2D)   (None, 4, 4, 512)         0         \n",
      "=================================================================\n",
      "Total params: 14,714,688\n",
      "Trainable params: 14,714,688\n",
      "Non-trainable params: 0\n",
      "_________________________________________________________________\n"
     ]
    }
   ],
   "source": [
    "vgg = applications.VGG16(weights='imagenet', include_top=False, input_shape=(WIDTH, HEIGHT, 3))\n",
    "vgg.summary()"
   ]
  },
  {
   "cell_type": "markdown",
   "metadata": {},
   "source": [
    "### Create new FCN layer"
   ]
  },
  {
   "cell_type": "code",
   "execution_count": 47,
   "metadata": {},
   "outputs": [
    {
     "data": {
      "text/plain": [
       "<tf.Tensor 'input_1:0' shape=(?, 150, 150, 3) dtype=float32>"
      ]
     },
     "execution_count": 47,
     "metadata": {},
     "output_type": "execute_result"
    }
   ],
   "source": [
    "vgg.input"
   ]
  },
  {
   "cell_type": "code",
   "execution_count": 12,
   "metadata": {},
   "outputs": [
    {
     "data": {
      "text/plain": [
       "[<tf.Tensor 'block5_pool/MaxPool:0' shape=(?, 4, 4, 512) dtype=float32>]"
      ]
     },
     "execution_count": 12,
     "metadata": {},
     "output_type": "execute_result"
    }
   ],
   "source": [
    "vgg.outputs"
   ]
  },
  {
   "cell_type": "code",
   "execution_count": 13,
   "metadata": {},
   "outputs": [],
   "source": [
    "# Start with vgg output without the top layer and add Flatten()\n",
    "x = vgg.output\n",
    "x = Flatten()(x)\n",
    "x = Dense(256, activation='relu')(x)\n",
    "outputs = Dense(1, activation='sigmoid')(x)"
   ]
  },
  {
   "cell_type": "markdown",
   "metadata": {},
   "source": [
    "### Create model"
   ]
  },
  {
   "cell_type": "code",
   "execution_count": 14,
   "metadata": {},
   "outputs": [],
   "source": [
    "model = Model(inputs=vgg.input, outputs=outputs)"
   ]
  },
  {
   "cell_type": "markdown",
   "metadata": {},
   "source": [
    "### Trainable = False (new)\n",
    "\n",
    "Need to read up documentation and examples on this part."
   ]
  },
  {
   "cell_type": "code",
   "execution_count": 15,
   "metadata": {},
   "outputs": [],
   "source": [
    "for layer in vgg.layers:\n",
    "    layer.trainable=False"
   ]
  },
  {
   "cell_type": "code",
   "execution_count": 16,
   "metadata": {},
   "outputs": [
    {
     "data": {
      "text/plain": [
       "[<keras.engine.input_layer.InputLayer at 0x26c58adc240>,\n",
       " <keras.layers.convolutional.Conv2D at 0x26c58b295c0>,\n",
       " <keras.layers.convolutional.Conv2D at 0x26c58b29dd8>,\n",
       " <keras.layers.pooling.MaxPooling2D at 0x26c58cdeb00>,\n",
       " <keras.layers.convolutional.Conv2D at 0x26c58cde0f0>,\n",
       " <keras.layers.convolutional.Conv2D at 0x26c58ee9358>,\n",
       " <keras.layers.pooling.MaxPooling2D at 0x26c58f03668>,\n",
       " <keras.layers.convolutional.Conv2D at 0x26c58f03cf8>,\n",
       " <keras.layers.convolutional.Conv2D at 0x26c58f36630>,\n",
       " <keras.layers.convolutional.Conv2D at 0x26c58f57978>,\n",
       " <keras.layers.pooling.MaxPooling2D at 0x26c58f8a8d0>,\n",
       " <keras.layers.convolutional.Conv2D at 0x26c58f8a438>,\n",
       " <keras.layers.convolutional.Conv2D at 0x26c58fc25c0>,\n",
       " <keras.layers.convolutional.Conv2D at 0x26c58fddc18>,\n",
       " <keras.layers.pooling.MaxPooling2D at 0x26c58ff8da0>,\n",
       " <keras.layers.convolutional.Conv2D at 0x26c590116a0>,\n",
       " <keras.layers.convolutional.Conv2D at 0x26c5904b160>,\n",
       " <keras.layers.convolutional.Conv2D at 0x26c590627b8>,\n",
       " <keras.layers.pooling.MaxPooling2D at 0x26c59081898>]"
      ]
     },
     "execution_count": 16,
     "metadata": {},
     "output_type": "execute_result"
    }
   ],
   "source": [
    "vgg.layers"
   ]
  },
  {
   "cell_type": "code",
   "execution_count": 17,
   "metadata": {},
   "outputs": [
    {
     "name": "stdout",
     "output_type": "stream",
     "text": [
      "_________________________________________________________________\n",
      "Layer (type)                 Output Shape              Param #   \n",
      "=================================================================\n",
      "input_1 (InputLayer)         (None, 150, 150, 3)       0         \n",
      "_________________________________________________________________\n",
      "block1_conv1 (Conv2D)        (None, 150, 150, 64)      1792      \n",
      "_________________________________________________________________\n",
      "block1_conv2 (Conv2D)        (None, 150, 150, 64)      36928     \n",
      "_________________________________________________________________\n",
      "block1_pool (MaxPooling2D)   (None, 75, 75, 64)        0         \n",
      "_________________________________________________________________\n",
      "block2_conv1 (Conv2D)        (None, 75, 75, 128)       73856     \n",
      "_________________________________________________________________\n",
      "block2_conv2 (Conv2D)        (None, 75, 75, 128)       147584    \n",
      "_________________________________________________________________\n",
      "block2_pool (MaxPooling2D)   (None, 37, 37, 128)       0         \n",
      "_________________________________________________________________\n",
      "block3_conv1 (Conv2D)        (None, 37, 37, 256)       295168    \n",
      "_________________________________________________________________\n",
      "block3_conv2 (Conv2D)        (None, 37, 37, 256)       590080    \n",
      "_________________________________________________________________\n",
      "block3_conv3 (Conv2D)        (None, 37, 37, 256)       590080    \n",
      "_________________________________________________________________\n",
      "block3_pool (MaxPooling2D)   (None, 18, 18, 256)       0         \n",
      "_________________________________________________________________\n",
      "block4_conv1 (Conv2D)        (None, 18, 18, 512)       1180160   \n",
      "_________________________________________________________________\n",
      "block4_conv2 (Conv2D)        (None, 18, 18, 512)       2359808   \n",
      "_________________________________________________________________\n",
      "block4_conv3 (Conv2D)        (None, 18, 18, 512)       2359808   \n",
      "_________________________________________________________________\n",
      "block4_pool (MaxPooling2D)   (None, 9, 9, 512)         0         \n",
      "_________________________________________________________________\n",
      "block5_conv1 (Conv2D)        (None, 9, 9, 512)         2359808   \n",
      "_________________________________________________________________\n",
      "block5_conv2 (Conv2D)        (None, 9, 9, 512)         2359808   \n",
      "_________________________________________________________________\n",
      "block5_conv3 (Conv2D)        (None, 9, 9, 512)         2359808   \n",
      "_________________________________________________________________\n",
      "block5_pool (MaxPooling2D)   (None, 4, 4, 512)         0         \n",
      "_________________________________________________________________\n",
      "flatten_1 (Flatten)          (None, 8192)              0         \n",
      "_________________________________________________________________\n",
      "dense_1 (Dense)              (None, 256)               2097408   \n",
      "_________________________________________________________________\n",
      "dense_2 (Dense)              (None, 1)                 257       \n",
      "=================================================================\n",
      "Total params: 16,812,353\n",
      "Trainable params: 2,097,665\n",
      "Non-trainable params: 14,714,688\n",
      "_________________________________________________________________\n"
     ]
    }
   ],
   "source": [
    "model.summary()"
   ]
  },
  {
   "cell_type": "markdown",
   "metadata": {},
   "source": [
    "### Compile the model"
   ]
  },
  {
   "cell_type": "code",
   "execution_count": 18,
   "metadata": {},
   "outputs": [],
   "source": [
    "model.compile(\n",
    "    loss='binary_crossentropy',\n",
    "    optimizer=RMSprop(lr=2e-5),\n",
    "    metrics=['accuracy']\n",
    ")"
   ]
  },
  {
   "cell_type": "markdown",
   "metadata": {},
   "source": [
    "### Fit the model"
   ]
  },
  {
   "cell_type": "code",
   "execution_count": 42,
   "metadata": {},
   "outputs": [
    {
     "name": "stdout",
     "output_type": "stream",
     "text": [
      "6\n",
      "13\n"
     ]
    }
   ],
   "source": [
    "val_steps = val_gen.samples // BATCH_SIZE\n",
    "epoch_steps = train_gen.samples // BATCH_SIZE\n",
    "print(val_steps)\n",
    "print(epoch_steps)"
   ]
  },
  {
   "cell_type": "code",
   "execution_count": 20,
   "metadata": {},
   "outputs": [
    {
     "name": "stdout",
     "output_type": "stream",
     "text": [
      "Epoch 1/30\n",
      "100/100 [==============================] - 70s 702ms/step - loss: 0.3663 - acc: 0.8457 - val_loss: 0.2809 - val_acc: 0.8836\n",
      "Epoch 2/30\n",
      "100/100 [==============================] - 64s 643ms/step - loss: 0.3427 - acc: 0.8538 - val_loss: 0.2732 - val_acc: 0.8879\n",
      "Epoch 3/30\n",
      "100/100 [==============================] - 64s 643ms/step - loss: 0.3262 - acc: 0.8595 - val_loss: 0.2584 - val_acc: 0.8885\n",
      "Epoch 4/30\n",
      "100/100 [==============================] - 64s 644ms/step - loss: 0.3147 - acc: 0.8671 - val_loss: 0.2554 - val_acc: 0.8931\n",
      "Epoch 5/30\n",
      "100/100 [==============================] - 64s 641ms/step - loss: 0.3042 - acc: 0.8727 - val_loss: 0.2481 - val_acc: 0.8987\n",
      "Epoch 6/30\n",
      "100/100 [==============================] - 64s 637ms/step - loss: 0.2950 - acc: 0.8739 - val_loss: 0.2490 - val_acc: 0.8978\n",
      "Epoch 7/30\n",
      "100/100 [==============================] - 64s 639ms/step - loss: 0.2882 - acc: 0.8755 - val_loss: 0.2483 - val_acc: 0.8979\n",
      "Epoch 8/30\n",
      "100/100 [==============================] - 64s 641ms/step - loss: 0.2869 - acc: 0.8779 - val_loss: 0.2369 - val_acc: 0.9045\n",
      "Epoch 9/30\n",
      "100/100 [==============================] - 64s 641ms/step - loss: 0.2822 - acc: 0.8777 - val_loss: 0.2401 - val_acc: 0.9028\n",
      "Epoch 10/30\n",
      "100/100 [==============================] - 64s 640ms/step - loss: 0.2707 - acc: 0.8824 - val_loss: 0.2427 - val_acc: 0.8982\n",
      "Epoch 11/30\n",
      "100/100 [==============================] - 64s 639ms/step - loss: 0.2711 - acc: 0.8843 - val_loss: 0.2368 - val_acc: 0.9087\n",
      "Epoch 12/30\n",
      "100/100 [==============================] - 64s 638ms/step - loss: 0.2656 - acc: 0.8873 - val_loss: 0.2330 - val_acc: 0.9078\n",
      "Epoch 13/30\n",
      "100/100 [==============================] - 64s 636ms/step - loss: 0.2654 - acc: 0.8889 - val_loss: 0.2616 - val_acc: 0.8891\n",
      "Epoch 14/30\n",
      "100/100 [==============================] - 64s 637ms/step - loss: 0.2615 - acc: 0.8922 - val_loss: 0.2356 - val_acc: 0.9056\n",
      "Epoch 15/30\n",
      "100/100 [==============================] - 64s 638ms/step - loss: 0.2571 - acc: 0.8895 - val_loss: 0.2373 - val_acc: 0.9052\n",
      "Epoch 16/30\n",
      "100/100 [==============================] - 64s 640ms/step - loss: 0.2567 - acc: 0.8907 - val_loss: 0.2349 - val_acc: 0.9024\n",
      "Epoch 17/30\n",
      "100/100 [==============================] - 64s 641ms/step - loss: 0.2470 - acc: 0.8985 - val_loss: 0.2305 - val_acc: 0.9060\n",
      "Epoch 18/30\n",
      "100/100 [==============================] - 66s 655ms/step - loss: 0.2490 - acc: 0.8955 - val_loss: 0.2392 - val_acc: 0.8999\n",
      "Epoch 19/30\n",
      "100/100 [==============================] - 65s 651ms/step - loss: 0.2489 - acc: 0.8942 - val_loss: 0.2287 - val_acc: 0.9074\n",
      "Epoch 20/30\n",
      "100/100 [==============================] - 65s 649ms/step - loss: 0.2464 - acc: 0.8937 - val_loss: 0.2386 - val_acc: 0.9028\n",
      "Epoch 21/30\n",
      "100/100 [==============================] - 66s 657ms/step - loss: 0.2400 - acc: 0.9007 - val_loss: 0.2312 - val_acc: 0.9078\n",
      "Epoch 22/30\n",
      "100/100 [==============================] - 65s 652ms/step - loss: 0.2486 - acc: 0.8962 - val_loss: 0.2333 - val_acc: 0.9092\n",
      "Epoch 23/30\n",
      "100/100 [==============================] - 65s 647ms/step - loss: 0.2402 - acc: 0.8975 - val_loss: 0.2347 - val_acc: 0.9030\n",
      "Epoch 24/30\n",
      "100/100 [==============================] - 65s 650ms/step - loss: 0.2398 - acc: 0.8990 - val_loss: 0.2355 - val_acc: 0.9000\n",
      "Epoch 25/30\n",
      "100/100 [==============================] - 64s 644ms/step - loss: 0.2382 - acc: 0.9000 - val_loss: 0.2369 - val_acc: 0.9053\n",
      "Epoch 26/30\n",
      "100/100 [==============================] - 64s 644ms/step - loss: 0.2407 - acc: 0.8981 - val_loss: 0.2326 - val_acc: 0.9031\n",
      "Epoch 27/30\n",
      "100/100 [==============================] - 64s 640ms/step - loss: 0.2324 - acc: 0.9043 - val_loss: 0.2344 - val_acc: 0.9064\n",
      "Epoch 28/30\n",
      "100/100 [==============================] - 64s 641ms/step - loss: 0.2340 - acc: 0.9031 - val_loss: 0.2359 - val_acc: 0.9032\n",
      "Epoch 29/30\n",
      "100/100 [==============================] - 65s 651ms/step - loss: 0.2328 - acc: 0.9012 - val_loss: 0.2520 - val_acc: 0.8945\n",
      "Epoch 30/30\n",
      "100/100 [==============================] - 63s 633ms/step - loss: 0.2311 - acc: 0.9021 - val_loss: 0.2335 - val_acc: 0.9072\n"
     ]
    }
   ],
   "source": [
    "history = model.fit_generator(\n",
    "    train_gen,\n",
    "    steps_per_epoch=100,\n",
    "    epochs=EPOCHS,\n",
    "    validation_data=val_gen,\n",
    "    validation_steps=50,\n",
    "    callbacks=callbacks_list\n",
    ")"
   ]
  },
  {
   "cell_type": "code",
   "execution_count": 35,
   "metadata": {},
   "outputs": [
    {
     "name": "stdout",
     "output_type": "stream",
     "text": [
      "\n",
      "========= Evaluation Metrics =========\n",
      "Train Accuracy: 0.902\n",
      "Validation Accuracy: 0.907\n",
      "Mean Train Accuracy: 0.887\n",
      "Mean Validation Accuracy: 0.901\n"
     ]
    },
    {
     "data": {
      "image/png": "[encoded data removed]",
      "text/plain": [
       "<Figure size 864x432 with 1 Axes>"
      ]
     },
     "metadata": {
      "needs_background": "light"
     },
     "output_type": "display_data"
    }
   ],
   "source": [
    "print('\\n========= Evaluation Metrics =========')\n",
    "print('Train Accuracy: {:.3f}'.format(history.history['acc'][-1]))\n",
    "print('Validation Accuracy: {:.3f}'.format(history.history['val_acc'][-1]))\n",
    "print('Mean Train Accuracy: {:.3f}'.format(pd.DataFrame(history.history['acc'])[0].mean().round(3)))\n",
    "print('Mean Validation Accuracy: {:.3f}'.format(pd.DataFrame(history.history['val_acc'])[0].mean().round(3)))\n",
    "show_model_history(modelHistory=history, model_name='Transfer VGG Model - 30 Epochs', w=12, h=6)"
   ]
  },
  {
   "cell_type": "markdown",
   "metadata": {},
   "source": [
    "### Predict\n",
    "\n",
    "The method predict expects to get a batch of images. You should run model.summary() to see what the expected dimensions of the input are. The batch size itself might have been designed to be flexible during training, by specifying None in the first dimension on the model input_shape parameter."
   ]
  },
  {
   "cell_type": "code",
   "execution_count": 176,
   "metadata": {
    "scrolled": false
   },
   "outputs": [],
   "source": [
    "# X_test = []\n",
    "# y_test = []\n",
    "\n",
    "# for p in os.listdir(os.path.join(test_dir, 'cats'))[0:1]:\n",
    "#     y_test.append(p.split('.')[0])\n",
    "#     img = cv2.imread(os.path.join(test_dir, 'cats', p))\n",
    "#     img = cv2.cvtColor(img, cv2.COLOR_BGR2RGB)\n",
    "#     img = img.resize(WIDTH, HEIGHT, 3)\n",
    "#     img = np.expand_dims(img, axis=0)\n",
    "# #     img = img.reshape(-1, 150, 150, 3)\n",
    "# #     img = img.astype('float32') / 255\n",
    "#     X_test.append(img)\n",
    "\n",
    "# for p in os.listdir(os.path.join(test_dir, 'dogs'))[0:1]:\n",
    "#     y_test.append(p.split('.')[0])\n",
    "#     img = cv2.imread(os.path.join(test_dir, 'dogs', p))\n",
    "#     img = cv2.cvtColor(img, cv2.COLOR_BGR2RGB)\n",
    "#     img = img.resize(WIDTH, HEIGHT, 3)\n",
    "#     img = np.expand_dims(img, axis=0)\n",
    "# #     img = img.reshape(-1, 150, 150, 3)    \n",
    "# #     img = img.astype('float32') / 255\n",
    "#     X_test.append(img)"
   ]
  },
  {
   "cell_type": "code",
   "execution_count": 177,
   "metadata": {},
   "outputs": [],
   "source": [
    "# freq_table(pd.DataFrame(y_test)[0])"
   ]
  },
  {
   "cell_type": "code",
   "execution_count": 353,
   "metadata": {},
   "outputs": [],
   "source": [
    "X_test = []\n",
    "y_test = []\n",
    "\n",
    "for p in os.listdir(os.path.join(test_dir, 'cats'))[0:251]:\n",
    "    y_test.append(p.split('.')[0])\n",
    "    img = load_img(os.path.join(test_dir, 'cats', p), target_size=(150, 150))\n",
    "    img = img_to_array(img)\n",
    "    img = preprocess_input(img)\n",
    "    X_test.append(img)\n",
    "\n",
    "for p in os.listdir(os.path.join(test_dir, 'dogs')):\n",
    "    y_test.append(p.split('.')[0])\n",
    "    img = load_img(os.path.join(test_dir, 'dogs', p), target_size=(150, 150))\n",
    "    img = img_to_array(img)\n",
    "    img = preprocess_input(img)    \n",
    "    X_test.append(img)"
   ]
  },
  {
   "cell_type": "code",
   "execution_count": 354,
   "metadata": {},
   "outputs": [
    {
     "name": "stdout",
     "output_type": "stream",
     "text": [
      "cat\n",
      "dog\n"
     ]
    }
   ],
   "source": [
    "print(y_test[0])\n",
    "print(y_test[-1])"
   ]
  },
  {
   "cell_type": "code",
   "execution_count": 355,
   "metadata": {},
   "outputs": [],
   "source": [
    "# le = LabelEncoder()\n",
    "# y_test = le.fit_transform(y_test)\n",
    "\n",
    "y_test = [0 if x == 'cat' else 1 for x in y_test]"
   ]
  },
  {
   "cell_type": "code",
   "execution_count": 356,
   "metadata": {},
   "outputs": [
    {
     "data": {
      "text/plain": [
       "[0, 0, 0, 0, 0, 0, 0, 0, 0, 0]"
      ]
     },
     "execution_count": 356,
     "metadata": {},
     "output_type": "execute_result"
    }
   ],
   "source": [
    "y_test[0:10]"
   ]
  },
  {
   "cell_type": "code",
   "execution_count": 357,
   "metadata": {},
   "outputs": [
    {
     "data": {
      "text/plain": [
       "1    500\n",
       "0    251\n",
       "Name: 0, dtype: int64"
      ]
     },
     "execution_count": 357,
     "metadata": {},
     "output_type": "execute_result"
    }
   ],
   "source": [
    "pd.DataFrame(y_test)[0].value_counts()"
   ]
  },
  {
   "cell_type": "code",
   "execution_count": 358,
   "metadata": {},
   "outputs": [],
   "source": [
    "X_test_arr = np.array(X_test)\n",
    "y_test_arr = np.array(y_test)"
   ]
  },
  {
   "cell_type": "code",
   "execution_count": 359,
   "metadata": {},
   "outputs": [
    {
     "data": {
      "text/plain": [
       "0"
      ]
     },
     "execution_count": 359,
     "metadata": {},
     "output_type": "execute_result"
    }
   ],
   "source": [
    "y_test_arr[0]"
   ]
  },
  {
   "cell_type": "code",
   "execution_count": 360,
   "metadata": {
    "scrolled": true
   },
   "outputs": [
    {
     "name": "stdout",
     "output_type": "stream",
     "text": [
      "Acc:  83.08921438082557\n",
      "CM:\n"
     ]
    },
    {
     "data": {
      "text/plain": [
       "array([[124, 127],\n",
       "       [  0, 500]], dtype=int64)"
      ]
     },
     "execution_count": 360,
     "metadata": {},
     "output_type": "execute_result"
    }
   ],
   "source": [
    "# Get prediction\n",
    "prediction = model.predict(X_test_arr)\n",
    "\n",
    "acc = accuracy_score(y_test_arr, np.round(prediction))*100\n",
    "cm = confusion_matrix(y_test_arr, np.round(prediction))\n",
    "\n",
    "print('Acc: ', acc)\n",
    "print('CM:' )\n",
    "cm"
   ]
  },
  {
   "cell_type": "code",
   "execution_count": 361,
   "metadata": {},
   "outputs": [
    {
     "data": {
      "text/plain": [
       "1.0    627\n",
       "0.0    124\n",
       "Name: 0, dtype: int64"
      ]
     },
     "execution_count": 361,
     "metadata": {},
     "output_type": "execute_result"
    }
   ],
   "source": [
    "pd.DataFrame(prediction.round())[0].value_counts()"
   ]
  },
  {
   "cell_type": "markdown",
   "metadata": {},
   "source": [
    "### Evaluation Metrics"
   ]
  },
  {
   "cell_type": "code",
   "execution_count": 362,
   "metadata": {
    "scrolled": false
   },
   "outputs": [
    {
     "name": "stdout",
     "output_type": "stream",
     "text": [
      "========= Confusion Matrix =========\n"
     ]
    },
    {
     "data": {
      "image/png": "[encoded data removed]",
      "text/plain": [
       "<Figure size 432x288 with 2 Axes>"
      ]
     },
     "metadata": {
      "needs_background": "light"
     },
     "output_type": "display_data"
    },
    {
     "name": "stdout",
     "output_type": "stream",
     "text": [
      "\n",
      "========= Evaluation Metrics =========\n",
      "Accuracy: 83.089%\n",
      "Precision: 100.000%\n",
      "Recall: 49.402%\n",
      "F1-score: 66.133%\n",
      "\n",
      "========= Training Accuracy =========\n",
      "Train acc: 90.19\n",
      "FN:  127\n",
      "Total:  751\n"
     ]
    }
   ],
   "source": [
    "tn = cm[1][1]\n",
    "fp = cm[1][0]\n",
    "fn = cm[0][1]\n",
    "tp = cm[0][0]\n",
    "\n",
    "print('========= Confusion Matrix =========')\n",
    "sns.heatmap(cm, \n",
    "            annot=True,\n",
    "            fmt='d',\n",
    "            annot_kws={'size': 20})\n",
    "plt.show()\n",
    "\n",
    "print('\\n========= Evaluation Metrics =========')\n",
    "precision = tp/(tp+fp)*100\n",
    "recall = tp/(tp+fn)*100\n",
    "print('Accuracy: {:.3f}%'.format(acc))\n",
    "print('Precision: {:.3f}%'.format(precision))\n",
    "print('Recall: {:.3f}%'.format(recall))\n",
    "print('F1-score: {:.3f}%'.format(2*precision*recall/(precision+recall)))\n",
    "\n",
    "print('\\n========= Training Accuracy =========')\n",
    "print('Train acc: {}'.format(np.round((history.history['acc'][-1])*100, 2)))\n",
    "print('FN: ', fn)\n",
    "print('Total: ', tn+fp+fn+tp)"
   ]
  },
  {
   "cell_type": "code",
   "execution_count": null,
   "metadata": {},
   "outputs": [],
   "source": []
  }
 ],
 "metadata": {
  "kernelspec": {
   "display_name": "Python 3.6 (TensorFlow)",
   "language": "python",
   "name": "tf-test"
  },
  "language_info": {
   "codemirror_mode": {
    "name": "ipython",
    "version": 3
   },
   "file_extension": ".py",
   "mimetype": "text/x-python",
   "name": "python",
   "nbconvert_exporter": "python",
   "pygments_lexer": "ipython3",
   "version": "3.6.8"
  }
 },
 "nbformat": 4,
 "nbformat_minor": 2
}
