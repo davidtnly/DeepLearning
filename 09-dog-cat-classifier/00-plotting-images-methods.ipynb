{
 "cells": [
  {
   "cell_type": "markdown",
   "metadata": {},
   "source": [
    "### Populate Datagen images"
   ]
  },
  {
   "cell_type": "code",
   "execution_count": null,
   "metadata": {},
   "outputs": [],
   "source": [
    "example_df = train_df.sample(n=5).reset_index(drop=True)\n",
    "example_generator = train_datagen.flow_from_dataframe(\n",
    "    example_df, \n",
    "    train_dir, \n",
    "    x_col='filename',\n",
    "    y_col='label',\n",
    "    class_mode='binary'\n",
    ")\n",
    "\n",
    "# Set figure space\n",
    "plt.figure(figsize=(12, 12))\n",
    "\n",
    "# Loop through images generated\n",
    "for i in range(0, 9):\n",
    "    plt.subplot(3, 3, i+1)\n",
    "    for X_batch, Y_batch in example_generator:\n",
    "        image = X_batch[0]\n",
    "        plt.imshow(image)\n",
    "        break\n",
    "\n",
    "plt.tight_layout()\n",
    "plt.show()"
   ]
  },
  {
   "cell_type": "markdown",
   "metadata": {},
   "source": [
    "### Show a sample image from list"
   ]
  },
  {
   "cell_type": "code",
   "execution_count": null,
   "metadata": {},
   "outputs": [],
   "source": [
    "filenames = os.listdir('images/original_train')\n",
    "\n",
    "# Classification\n",
    "labels = []\n",
    "\n",
    "# Loop through file names to get type\n",
    "for filename in filenames:\n",
    "    label = filename.split('.')[0]\n",
    "    if label == 'dog':\n",
    "        labels.append(1)\n",
    "    else:\n",
    "        labels.append(0)\n",
    "\n",
    "# Dataframe        \n",
    "df = pd.DataFrame({\n",
    "    'filename': filenames,\n",
    "    'label': labels\n",
    "})\n",
    "\n",
    "df = df.sample(frac=1).reset_index(drop=True)\n",
    "\n",
    "# Sample using Keras load_img()\n",
    "sample_img = random.choice(filenames)\n",
    "sample_image = load_img('images/original_train/'+sample_img)\n",
    "plt.imshow(sample_image)"
   ]
  },
  {
   "cell_type": "markdown",
   "metadata": {},
   "source": [
    "### Plotting a plot of images"
   ]
  },
  {
   "cell_type": "code",
   "execution_count": null,
   "metadata": {},
   "outputs": [],
   "source": [
    "sample_val = validation_df.sample(n=9).reset_index()\n",
    "sample_val.head()\n",
    "plt.figure(figsize=(12, 12))\n",
    "for index, row in sample_val.iterrows():\n",
    "    filename = row['filename']\n",
    "    category = row['pred_value']\n",
    "    img = load_img('images/original_train - Copy/'+filename, target_size=(224, 224))\n",
    "    plt.subplot(3, 3, index+1)\n",
    "    plt.imshow(img)\n",
    "    plt.xlabel(filename + '(' + \"{}\".format(category) + ')')\n",
    "plt.tight_layout()\n",
    "plt.show()"
   ]
  },
  {
   "cell_type": "markdown",
   "metadata": {},
   "source": [
    "### Grid"
   ]
  },
  {
   "cell_type": "code",
   "execution_count": null,
   "metadata": {},
   "outputs": [],
   "source": [
    "(X_train, y_train), (X_test, y_test) = cifar10.load_data()\n",
    "\n",
    "def show_images(X_train, y_train, rows_num=6):    \n",
    "    figure, axes = plt.subplots(nrows=rows_num, ncols=6, sharex=True, sharey=True, figsize=(20, rows_num * 2))\n",
    "    \n",
    "    for row_index in range(rows_num):\n",
    "        ax_row = axes[row_index]\n",
    "        images = X_train[(row_index*8):(row_index+1)*8]\n",
    "        labels = y_train[(row_index*8):(row_index+1)*8]\n",
    "        \n",
    "        for ax, img, label in zip(ax_row, images, labels):\n",
    "            ax.imshow(img)\n",
    "            ax.get_xaxis().set_visible(False)\n",
    "            ax.get_yaxis().set_visible(False)\n",
    "            ax.set_title(\"Label - {}\".format(label))"
   ]
  },
  {
   "cell_type": "markdown",
   "metadata": {},
   "source": [
    "### Plot Batch Generator"
   ]
  },
  {
   "cell_type": "code",
   "execution_count": null,
   "metadata": {},
   "outputs": [],
   "source": [
    "def plot_batch_9():\n",
    "    train_generator.reset()\n",
    "    # configure batch size and retrieve one batch of images\n",
    "    plt.clf() #clears matplotlib data and axes\n",
    "    #for batch in train_generator:\n",
    "    plt.figure(figsize=[30,30])\n",
    "    batch = next(train_generator)\n",
    "    for x in range(0,9):\n",
    "        plt.subplot(3, 3, x+1)\n",
    "        plt.imshow(batch[0][x], interpolation='nearest')\n",
    "        item_label = batch[1][x]\n",
    "        item_label = class_map[int(item_label)]\n",
    "        plt.title(item_label)\n",
    "\n",
    "    plt.show()"
   ]
  },
  {
   "cell_type": "markdown",
   "metadata": {},
   "source": [
    "### Plot first nine"
   ]
  },
  {
   "cell_type": "code",
   "execution_count": null,
   "metadata": {},
   "outputs": [],
   "source": [
    "train_dir = \"../input/dogs-vs-cats/train/train\"\n",
    "file_list = os.listdir(train_dir)\n",
    "DOG = \"dog\"\n",
    "CAT = \"cat\"\n",
    "TRAIN_TOTAL = len(file_list)\n",
    "labels = []\n",
    "\n",
    "df_train = pd.DataFrame()\n",
    "%%time\n",
    "idx = 0\n",
    "img_sizes = []\n",
    "widths = np.zeros(TRAIN_TOTAL, dtype=int)\n",
    "heights = np.zeros(TRAIN_TOTAL, dtype=int)\n",
    "aspect_ratios = np.zeros(TRAIN_TOTAL) #defaults to type float\n",
    "for filename in file_list:\n",
    "    if \"cat\" in filename.lower():\n",
    "        labels.append(CAT)\n",
    "    else:\n",
    "        labels.append(DOG)\n",
    "    img = PIL.Image.open(f\"{train_dir}/{filename}\")\n",
    "    img_size = img.size\n",
    "    img_sizes.append(img_size)\n",
    "    widths[idx] = img_size[0]\n",
    "    heights[idx] = img_size[1]\n",
    "    aspect_ratios[idx] = img_size[0]/img_size[1]\n",
    "    img.close()\n",
    "    idx += 1\n",
    "    \n",
    "df_train[\"filename\"] = file_list\n",
    "df_train[\"cat_or_dog\"] = labels\n",
    "label_encoder = LabelEncoder()\n",
    "df_train[\"cd_label\"] = label_encoder.fit_transform(df_train[\"cat_or_dog\"])\n",
    "df_train[\"size\"] = img_sizes\n",
    "df_train[\"width\"] = widths\n",
    "df_train[\"height\"] = heights\n",
    "df_train[\"aspect_ratio\"] = aspect_ratios\n",
    "df_train.head()        \n",
    "df_sorted = df_train.sort_values(by=\"aspect_ratio\")       \n",
    "\n",
    "def plot_first_9(df_to_plot):\n",
    "    plt.figure(figsize=[30,30])\n",
    "    for x in range(9):\n",
    "        filename = df_to_plot.iloc[x].filename\n",
    "        img = PIL.Image.open(f\"{train_dir}/{filename}\")\n",
    "        print(filename)\n",
    "        plt.subplot(3, 3, x+1)\n",
    "        plt.imshow(img)\n",
    "        title_str = filename+\" \"+str(df_to_plot.iloc[x].aspect_ratio)\n",
    "        plt.title(title_str)"
   ]
  },
  {
   "cell_type": "code",
   "execution_count": null,
   "metadata": {},
   "outputs": [],
   "source": []
  },
  {
   "cell_type": "code",
   "execution_count": null,
   "metadata": {},
   "outputs": [],
   "source": []
  },
  {
   "cell_type": "code",
   "execution_count": null,
   "metadata": {},
   "outputs": [],
   "source": []
  },
  {
   "cell_type": "code",
   "execution_count": null,
   "metadata": {},
   "outputs": [],
   "source": []
  },
  {
   "cell_type": "code",
   "execution_count": null,
   "metadata": {},
   "outputs": [],
   "source": []
  },
  {
   "cell_type": "code",
   "execution_count": null,
   "metadata": {},
   "outputs": [],
   "source": []
  },
  {
   "cell_type": "code",
   "execution_count": null,
   "metadata": {},
   "outputs": [],
   "source": []
  },
  {
   "cell_type": "code",
   "execution_count": null,
   "metadata": {},
   "outputs": [],
   "source": []
  },
  {
   "cell_type": "code",
   "execution_count": null,
   "metadata": {},
   "outputs": [],
   "source": []
  },
  {
   "cell_type": "code",
   "execution_count": null,
   "metadata": {},
   "outputs": [],
   "source": []
  },
  {
   "cell_type": "code",
   "execution_count": null,
   "metadata": {},
   "outputs": [],
   "source": []
  },
  {
   "cell_type": "code",
   "execution_count": null,
   "metadata": {},
   "outputs": [],
   "source": []
  }
 ],
 "metadata": {
  "kernelspec": {
   "display_name": "Python 3.6 (TensorFlow)",
   "language": "python",
   "name": "tf-test"
  },
  "language_info": {
   "codemirror_mode": {
    "name": "ipython",
    "version": 3
   },
   "file_extension": ".py",
   "mimetype": "text/x-python",
   "name": "python",
   "nbconvert_exporter": "python",
   "pygments_lexer": "ipython3",
   "version": "3.6.8"
  }
 },
 "nbformat": 4,
 "nbformat_minor": 2
}
