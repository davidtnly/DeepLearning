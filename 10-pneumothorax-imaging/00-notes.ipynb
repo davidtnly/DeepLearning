{
 "cells": [
  {
   "cell_type": "markdown",
   "metadata": {},
   "source": [
    "### Introduction\n",
    "\n",
    "- [Mayo Clinic](https://www.mayoclinic.org/diseases-conditions/pneumothorax/symptoms-causes/syc-20350367)\n",
    "- [Tension Pneumothorax](https://www.youtube.com/watch?v=-K3-VJI4HlE)"
   ]
  },
  {
   "cell_type": "markdown",
   "metadata": {},
   "source": [
    "#### What is pneumothorax?\n",
    "Imagine suddenly gasping for air, helplessly breathless for no apparent reason. Could it be a collapsed lung? \n",
    "\n",
    "A pneumothorax occurs when air leaks into the space between your lung and chest wall called the pleura. Imagine a small layer surrounding the lung and that is the pleura cavity. This air pushes on the outside of your lung and makes it collapse. Pneumothorax can be a complete lung collapse or a collapse of only a portion of the lung. Air gets into the cavity and expands the contained space and cannot exit, which prevents expansion of the lung and oxygenation (swells and blocks the airway that spreads oxygen through the lungs).\n",
    "\n",
    "Pneumothorax can be caused by a blunt chest injury, damage from underlying lung disease, or most horrifying—it may occur for no obvious reason at all. On some occasions, a collapsed lung can be a life-threatening event. The condition leads to hypoxia and cardiopulmonary collapse. The patient can have unilteral decreased or absent breath sounds, acute unilateral chest pain, dysnia, respiratory distress, etc.\n",
    "\n",
    "A collapse lung will look smaller because of the entrapment of the extra air pushed into the pleura compared to a normal healthy lunch with a thin layer of the pleura. As air pushes against the lung it deviates the trachea to the opposite side, which results in blocking the air passageway.\n",
    "\n",
    "#### How and who diagnoses pneumothorax?\n",
    "Pneumothorax is usually diagnosed by a radiologist on a chest x-ray, and can sometimes be very difficult to confirm. An accurate AI algorithm to detect pneumothorax would be useful in a lot of clinical scenarios. AI could be used to triage chest radiographs for priority interpretation, or to provide a more confident diagnosis for non-radiologists.\n",
    "\n",
    "[The Society for Imaging Informatics in Medicine (SIIM)](https://siim.org/) is the leading healthcare organization for those interested in the current and future use of informatics in medical imaging. Their mission is to advance medical imaging informatics across the enterprise through education, research, and innovation in a multi-disciplinary community. \n",
    "\n",
    "#### How is pneumothorax treated?\n",
    "Treatment for a pneumothorax usually involves inserting a needle or chest tube between the ribs to remove the excess air (needle decompression). However, a small pneumothorax may heal on its own.\n",
    "\n",
    "### Challenge\n",
    "In this competition, you’ll develop a model to classify (and if present, segment) pneumothorax from a set of chest radiographic images. If successful, you could aid in the early recognition of pneumothoraces and save lives. \n",
    "\n",
    "### Images X-Ray Identification\n",
    "\n",
    "- Black: Air\n",
    "- Gray: Fluids and Tissue\n",
    "- White: Bone and Solids"
   ]
  },
  {
   "cell_type": "markdown",
   "metadata": {},
   "source": [
    "--------"
   ]
  },
  {
   "cell_type": "markdown",
   "metadata": {},
   "source": [
    "### What are others doing?"
   ]
  },
  {
   "cell_type": "markdown",
   "metadata": {},
   "source": [
    "1. [UNet++: A Nested U-Net Architecture for Medical Image Segmentation](https://arxiv.org/abs/1807.10165) w/ [EfficientNet: Rethinking Model Scaling for Convolutional Neural Networks](https://arxiv.org/abs/1905.11946) w/ [Stochastic Weight Averaging](https://arxiv.org/abs/1803.05407)\n",
    "    - \"... show that simple averaging of multiple points along the trajectory of SGD, with a cyclical or constant learning rate, leads to better generalization than conventional training. Stochastic Weight Averaging (SWA) procedure finds much flatter solutions than SGD, and approximates the recent Fast Geometric Ensembling (FGE) approach with a single model. Using SWA we achieve notable improvement in test accuracy over conventional SGD training on a range of state-of-the-art residual networks, PyramidNets, DenseNets, and Shake-Shake networks on CIFAR-10, CIFAR-100, and ImageNet. In short, SWA is extremely easy to implement, improves generalization, and has almost no computational overhead.\"\n",
    "  \n",
    "  \n",
    "2. [ResUNet](https://arxiv.org/abs/1904.00592)\n",
    "\n",
    "\n",
    "3. \n",
    "\n",
    "\n",
    "4. \n",
    "\n",
    "\n",
    "5. \n",
    "\n"
   ]
  },
  {
   "cell_type": "markdown",
   "metadata": {},
   "source": [
    "### Using Albumentations for Image Augmentations"
   ]
  },
  {
   "cell_type": "markdown",
   "metadata": {},
   "source": [
    "https://github.com/albu/albumentations"
   ]
  },
  {
   "cell_type": "code",
   "execution_count": null,
   "metadata": {},
   "outputs": [],
   "source": []
  }
 ],
 "metadata": {
  "kernelspec": {
   "display_name": "Python 3.6 (TensorFlow)",
   "language": "python",
   "name": "tf-test"
  },
  "language_info": {
   "codemirror_mode": {
    "name": "ipython",
    "version": 3
   },
   "file_extension": ".py",
   "mimetype": "text/x-python",
   "name": "python",
   "nbconvert_exporter": "python",
   "pygments_lexer": "ipython3",
   "version": "3.6.8"
  }
 },
 "nbformat": 4,
 "nbformat_minor": 2
}
