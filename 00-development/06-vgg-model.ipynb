{
 "cells": [
  {
   "cell_type": "markdown",
   "metadata": {},
   "source": [
    "## VGG Image Recognition Pre-trained Model\n",
    "\n",
    "Use a VGG model to classify an image. The bay.jpg image that will be loaded is too large to process directly with the neural network. When you feed images into a neural network, the size of the image need to match the number of input nodes in the neural network.\n",
    "\n",
    "For VGG, images we need into the network need to be 224x224 pixels. Set target_size parameter to (224, 224)."
   ]
  },
  {
   "cell_type": "code",
   "execution_count": 4,
   "metadata": {},
   "outputs": [
    {
     "name": "stdout",
     "output_type": "stream",
     "text": [
      "Top 9 Classes:\n",
      "Top predictions for this image:\n",
      "Predictions: seashore - 0.395213\n",
      "Predictions: promontory - 0.326130\n",
      "Predictions: lakeside - 0.119613\n",
      "Predictions: breakwater - 0.062801\n",
      "Predictions: sandbar - 0.045267\n",
      "Predictions: cliff - 0.011845\n",
      "Predictions: dock - 0.009196\n",
      "Predictions: boathouse - 0.003278\n",
      "Predictions: valley - 0.003194\n"
     ]
    }
   ],
   "source": [
    "import numpy as np\n",
    "from keras.preprocessing import image\n",
    "from keras.applications import vgg16\n",
    "\n",
    "# Load Keras' VGG16 model that was pre-trained against the ImageNet database\n",
    "model = vgg16.VGG16()\n",
    "\n",
    "# Load the image file and resize it to 224x224 (required by the model)\n",
    "img = image.load_img('Images/bay.jpg', target_size=(224, 224))\n",
    "\n",
    "# Convert the image to a numpy array\n",
    "x = image.img_to_array(img)\n",
    "\n",
    "# Add a fourth dimension\n",
    "x = np.expand_dims(x, axis=0)\n",
    "\n",
    "# Normalize the input\n",
    "x = vgg16.preprocess_input(x)\n",
    "\n",
    "# Predict\n",
    "predictions = model.predict(x)\n",
    "\n",
    "# Look up the names of the predicted classes\n",
    "predicted_classes = vgg16.decode_predictions(predictions, top=9)\n",
    "print('Top 9 Classes:')\n",
    "\n",
    "# Print the results and likelihood\n",
    "print('Top predictions for this image:')\n",
    "for imagenet_id, name, likelihood in predicted_classes[0]:\n",
    "    print('Predictions: {} - {:2f}'.format(name, likelihood))"
   ]
  },
  {
   "cell_type": "code",
   "execution_count": null,
   "metadata": {},
   "outputs": [],
   "source": []
  }
 ],
 "metadata": {
  "kernelspec": {
   "display_name": "Python 3.6 (TensorFlow)",
   "language": "python",
   "name": "tf-test"
  },
  "language_info": {
   "codemirror_mode": {
    "name": "ipython",
    "version": 3
   },
   "file_extension": ".py",
   "mimetype": "text/x-python",
   "name": "python",
   "nbconvert_exporter": "python",
   "pygments_lexer": "ipython3",
   "version": "3.6.8"
  }
 },
 "nbformat": 4,
 "nbformat_minor": 2
}
