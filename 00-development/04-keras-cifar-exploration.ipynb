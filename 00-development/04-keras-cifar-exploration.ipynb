{
 "cells": [
  {
   "cell_type": "markdown",
   "metadata": {},
   "source": [
    "### Dataset\n",
    "The images in the CIFAR-10 dataset are only 32 pixels by 32 pixels with 2 color channels. \n",
    "\n",
    "These are very low resolution images. We're using them here because the lower resolution will make it possible to train the neural network to recognize them relative quickly. With the same code we'll write, we'll also work for larger image sizes. To make it easy for you to look through the CIFAR-10 dataset I've included some code that will display the images from the dataset on the screen. \n",
    "\n",
    "### CIFAR-10 Specifications\n",
    "- Images are 32x32 pixels with 2 color channels\n",
    "- 10 different types, or classes of objects\n",
    "- 60,000 total images\n",
    "- 5,000 training images and 1,000 test images per class"
   ]
  },
  {
   "cell_type": "code",
   "execution_count": null,
   "metadata": {},
   "outputs": [],
   "source": [
    "from keras.datasets import cifar10\n",
    "import matplotlib.pyplot as plt\n",
    "%matplotlib inline\n",
    "\n",
    "# Create a dictionary to store a list of names for each CIFAR10 class\n",
    "cifar10_class_names = {\n",
    "    0: 'Plane',\n",
    "    1: 'Car',\n",
    "    2: 'Bird',\n",
    "    3: 'Cat',\n",
    "    4: 'Deer',\n",
    "    5: 'Dog',\n",
    "    6: 'Frog',\n",
    "    7: 'Horse',\n",
    "    8: 'Boat',\n",
    "    9: 'Truck'\n",
    "}\n",
    "\n",
    "# Load the dataset (be sure to list variables correctly by checking the package info)\n",
    "(x_train, y_train), (x_test, y_test) = cifar10.load_data() # helper function\n",
    "\n",
    "# Loop through each picture in the dataset\n",
    "for i in range(5):\n",
    "    \n",
    "    # Grab an image from the dataset\n",
    "    sample_image = x_train[i] # x_train = np.ndarray\n",
    "    \n",
    "    # Grab the image's expected class id (label)\n",
    "    image_class_number = y_train[i][0] # first element = number\n",
    "    \n",
    "    # Look up the class and label it\n",
    "    image_class_name = cifar10_class_names[image_class_number]\n",
    "    \n",
    "    # Draw the image as a plot\n",
    "    plt.imshow(sample_image)\n",
    "    \n",
    "    # Label the image\n",
    "    plt.title(image_class_name)\n",
    "    \n",
    "    # Show the plot on the screen\n",
    "    plt.show()"
   ]
  }
 ],
 "metadata": {
  "kernelspec": {
   "display_name": "Python 3",
   "language": "python",
   "name": "python3"
  },
  "language_info": {
   "codemirror_mode": {
    "name": "ipython",
    "version": 3
   },
   "file_extension": ".py",
   "mimetype": "text/x-python",
   "name": "python",
   "nbconvert_exporter": "python",
   "pygments_lexer": "ipython3",
   "version": "3.7.3"
  }
 },
 "nbformat": 4,
 "nbformat_minor": 2
}
