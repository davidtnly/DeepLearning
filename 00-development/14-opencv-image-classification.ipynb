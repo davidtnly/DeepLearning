{
 "cells": [
  {
   "cell_type": "code",
   "execution_count": 1,
   "metadata": {},
   "outputs": [
    {
     "name": "stdout",
     "output_type": "stream",
     "text": [
      "1. typewriter keyboard (878): Probability 0.854%\n",
      "2. space bar (810): Probability 0.0545%\n",
      "3. radiator (753): Probability 0.0201%\n",
      "4. switch, electric switch, electrical switch (844): Probability 0.00888%\n",
      "5. stove (827): Probability 0.00873%\n"
     ]
    }
   ],
   "source": [
    "import numpy as np\n",
    "import cv2\n",
    "\n",
    "# Load img\n",
    "img = cv2.imread('Images/typewriter.jpg')\n",
    "\n",
    "# Read the synset classes file and strip off any characters\n",
    "all_rows = open('synset_words.txt').read().strip().split('\\n')\n",
    "\n",
    "# Grab the different descriptions and not the id; we can use a list comprehension. \n",
    "# Find classes; looking for a space, and we don't want to include the id for r in all_rows; +1 for text after space\n",
    "classes = [r[r.find(' ') + 1:] for r in all_rows]\n",
    "\n",
    "# Read the caffe file\n",
    "net = cv2.dnn.readNetFromCaffe('CaffeModel/bvlc_googlenet.prototxt', 'CaffeModel/bvlc_googlenet.caffemodel')\n",
    "\n",
    "# Create blob\n",
    "blob = cv2.dnn.blobFromImage(img, 1, (224, 224))\n",
    "\n",
    "# Set Input\n",
    "net.setInput(blob)\n",
    "\n",
    "# Set forward pass to get the predictions for each of the 1,000 classes\n",
    "output = net.forward()\n",
    "\n",
    "# Top 5 probabilities\n",
    "idx = np.argsort(output[0])[::-1][:5] # first element, sort backwards, get first 5\n",
    "\n",
    "# Loop through each row\n",
    "for i, ids in enumerate(idx):\n",
    "    print('{}. {} ({}): Probability {:.3}%'.format(i+1, classes[ids], ids, output[0][ids]))\n",
    "\n",
    "# Show image\n",
    "cv2.imshow('Image', img)\n",
    "cv2.waitKey(0)\n",
    "cv2.destroyAllWindows()"
   ]
  }
 ],
 "metadata": {
  "kernelspec": {
   "display_name": "Python 3.6 (OpenCV)",
   "language": "python",
   "name": "ocv4"
  },
  "language_info": {
   "codemirror_mode": {
    "name": "ipython",
    "version": 3
   },
   "file_extension": ".py",
   "mimetype": "text/x-python",
   "name": "python",
   "nbconvert_exporter": "python",
   "pygments_lexer": "ipython3",
   "version": "3.6.8"
  }
 },
 "nbformat": 4,
 "nbformat_minor": 2
}
