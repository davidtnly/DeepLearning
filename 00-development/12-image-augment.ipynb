{
 "cells": [
  {
   "cell_type": "markdown",
   "metadata": {},
   "source": [
    "Keras allows for image augmentation. This is where we generate batches of image data with real time data augmentation. The data will be looped over in batches indefinitely. "
   ]
  },
  {
   "cell_type": "code",
   "execution_count": null,
   "metadata": {},
   "outputs": [],
   "source": [
    "import numpy as np\n",
    "from keras.preprocessing.image import ImageDataGenerator, array_to_img, img_to_array, load_img\n",
    "from keras.applications.inception_v3 import preprocess_input\n",
    "from keras.layers import Conv2D, MaxPooling2D, Flatten,Dense\n",
    "from keras.models import Sequential\n",
    "from keras.datasets import mnist\n",
    "from keras.utils import to_categorical\n",
    "\n",
    "import matplotlib.pyplot as plt\n",
    "%matplotlib inline\n",
    "\n",
    "'''\n",
    "    Augmentation Process\n",
    "\n",
    "    So we're going to shift the width by 0.2. We're going to shift the height by 0.2. In some instances, \n",
    "    we are also going to flip the images horizontally. And similarly, in the test set, we're going to \n",
    "    perform manipulations to the width, height, the shear range, the zoom, so we're going to zoom in by \n",
    "    0.2, and we're going to flip the images in that way, more advanced topic in Keras.\n",
    "\n",
    "    All we're doing is altering the images in some way and that's creating more data in our data set. \n",
    "'''\n",
    "\n",
    "# Use ImageDataGenerator from Keras\n",
    "train_datagen = ImageDataGenerator(\n",
    "    preprocessing_function=preprocess_input,\n",
    "    width_shift_range=0.2,\n",
    "    height_shift_range=0.2,\n",
    "    shear_range=0.2,\n",
    "    zoom_range=0.2,\n",
    "    horizontal_flip=True\n",
    ")\n",
    "\n",
    "# Test data generate\n",
    "test_datagen = ImageDataGenerator(\n",
    "    preprocessing_function=preprocess_input,\n",
    "    width_shift_range = 0.2,\n",
    "    height_shift_range = 0.2,\n",
    "    shear_range = 0.2,\n",
    "    zoom_range = 0.2,\n",
    "    horizontal_flip = True\n",
    ")\n",
    "\n",
    "jf_datagen = ImageDataGenerator(\n",
    "    preprocessing_function=preprocess_input,\n",
    "    horizontal_flip=True\n",
    ")\n",
    "\n",
    "# Confirm train_datagen function \n",
    "train_generator = train_datagen.flow_from_directory('sample-train/', target_size=(150, 150), save_to_dir='sample-confirm/')\n",
    "\n",
    "# Generate variations of images\n",
    "i=0\n",
    "for batch in train_datagen.flow_from_directory('sample-train/', target_size=(150, 150), save_to_dir='sample-confirm/')\n",
    "    i+=1\n",
    "    if (i>10):\n",
    "        break\n",
    "\n",
    "# Generate variations of those images\n",
    "j=0\n",
    "for batch in jf_datagen.flow_from_directory('sample-train/', target_size=(150, 150), save_to_dir='sample-confirm/'):\n",
    "    j+=1\n",
    "    if ( j > 10):\n",
    "        break\n"
   ]
  }
 ],
 "metadata": {
  "kernelspec": {
   "display_name": "Python 3.6 (TensorFlow)",
   "language": "python",
   "name": "tf-test"
  },
  "language_info": {
   "codemirror_mode": {
    "name": "ipython",
    "version": 3
   },
   "file_extension": ".py",
   "mimetype": "text/x-python",
   "name": "python",
   "nbconvert_exporter": "python",
   "pygments_lexer": "ipython3",
   "version": "3.6.8"
  }
 },
 "nbformat": 4,
 "nbformat_minor": 2
}
