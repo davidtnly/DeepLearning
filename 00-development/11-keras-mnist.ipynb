{
 "cells": [
  {
   "cell_type": "markdown",
   "metadata": {},
   "source": [
    "## MNIST Keras\n",
    "\n",
    "### Steps\n",
    "\n",
    "1. Import packages\n",
    "2. Load the data\n",
    "3. Understanding the image data format\n",
    "4. Preprocessing the image data\n",
    "5. Build the model\n",
    "6. Compile the model\n",
    "7. Train the model\n",
    "8. Plot the accuracy of the model\n",
    "9. Plot the accuracy of the training and validation set\n",
    "10. Accuracy of training and validation with loss\n",
    "11. Evaluating the model"
   ]
  },
  {
   "cell_type": "code",
   "execution_count": 1,
   "metadata": {},
   "outputs": [
    {
     "name": "stderr",
     "output_type": "stream",
     "text": [
      "Using TensorFlow backend.\n"
     ]
    },
    {
     "name": "stdout",
     "output_type": "stream",
     "text": [
      "(60000, 28, 28)\n",
      "(60000,)\n",
      "(10000, 28, 28)\n",
      "(10000,)\n",
      "(60000, 784)\n",
      "(10000, 784)\n",
      "(60000,)\n",
      "(10000,)\n",
      "[5 0 4 1 9 2 1 3 1 4]\n",
      "(60000, 10)\n",
      "(10000, 10)\n",
      "WARNING:tensorflow:From C:\\Users\\David Ly\\Anaconda3\\envs\\tf-test\\lib\\site-packages\\tensorflow\\python\\framework\\op_def_library.py:263: colocate_with (from tensorflow.python.framework.ops) is deprecated and will be removed in a future version.\n",
      "Instructions for updating:\n",
      "Colocations handled automatically by placer.\n",
      "_________________________________________________________________\n",
      "Layer (type)                 Output Shape              Param #   \n",
      "=================================================================\n",
      "dense_1 (Dense)              (None, 512)               401920    \n",
      "_________________________________________________________________\n",
      "dense_2 (Dense)              (None, 512)               262656    \n",
      "_________________________________________________________________\n",
      "dense_3 (Dense)              (None, 10)                5130      \n",
      "=================================================================\n",
      "Total params: 669,706\n",
      "Trainable params: 669,706\n",
      "Non-trainable params: 0\n",
      "_________________________________________________________________\n",
      "None\n",
      "WARNING:tensorflow:From C:\\Users\\David Ly\\Anaconda3\\envs\\tf-test\\lib\\site-packages\\tensorflow\\python\\ops\\math_ops.py:3066: to_int32 (from tensorflow.python.ops.math_ops) is deprecated and will be removed in a future version.\n",
      "Instructions for updating:\n",
      "Use tf.cast instead.\n",
      "Train on 60000 samples, validate on 10000 samples\n",
      "Epoch 1/5\n",
      "60000/60000 [==============================] - 7s 119us/step - loss: 0.1831 - acc: 0.9437 - val_loss: 0.0858 - val_acc: 0.9731\n",
      "Epoch 2/5\n",
      "60000/60000 [==============================] - 5s 80us/step - loss: 0.0791 - acc: 0.9750 - val_loss: 0.0969 - val_acc: 0.9706\n",
      "Epoch 3/5\n",
      "60000/60000 [==============================] - 5s 80us/step - loss: 0.0560 - acc: 0.9820 - val_loss: 0.0762 - val_acc: 0.9768\n",
      "Epoch 4/5\n",
      "60000/60000 [==============================] - 5s 80us/step - loss: 0.0419 - acc: 0.9864 - val_loss: 0.0824 - val_acc: 0.9758\n",
      "Epoch 5/5\n",
      "60000/60000 [==============================] - 5s 80us/step - loss: 0.0352 - acc: 0.9887 - val_loss: 0.0798 - val_acc: 0.9775\n",
      "10000/10000 [==============================] - 0s 21us/step\n",
      "[0.07976463247762149, 0.9775]\n"
     ]
    },
    {
     "data": {
      "text/plain": [
       "[<matplotlib.lines.Line2D at 0x1b2d377de10>]"
      ]
     },
     "execution_count": 1,
     "metadata": {},
     "output_type": "execute_result"
    },
    {
     "data": {
      "image/png": "[encoded data removed]",
      "text/plain": [
       "<Figure size 432x288 with 1 Axes>"
      ]
     },
     "metadata": {
      "needs_background": "light"
     },
     "output_type": "display_data"
    }
   ],
   "source": [
    "from keras.datasets import mnist\n",
    "from keras.preprocessing.image import load_img, array_to_img\n",
    "from keras.utils.np_utils import to_categorical\n",
    "from keras.models import Sequential\n",
    "from keras.layers import Dense\n",
    "\n",
    "import numpy as np\n",
    "import matplotlib.pyplot as plt\n",
    "%matplotlib inline\n",
    "\n",
    "# Load the data\n",
    "(X_train, y_train), (X_test, y_test) = mnist.load_data()\n",
    "\n",
    "print(X_train.shape)\n",
    "print(y_train.shape)\n",
    "print(X_test.shape)\n",
    "print(y_test.shape)\n",
    "\n",
    "# Understand the image data format\n",
    "X_train[0].shape\n",
    "\n",
    "# Show image\n",
    "plt.imshow(X_train[0], cmap='gray')\n",
    "\n",
    "# Preprocessing - make sure the image is same WxH\n",
    "image_height, image_width = 28, 28\n",
    "\n",
    "# Reshape the data\n",
    "X_train = X_train.reshape(60000, image_height*image_width)\n",
    "X_test = X_test.reshape(10000, image_height*image_width)\n",
    "\n",
    "print(X_train.shape)\n",
    "print(X_test.shape)\n",
    "\n",
    "# Convert to float32 so we can rescale\n",
    "X_train = X_train.astype('float32')\n",
    "X_test = X_test.astype('float32')\n",
    "\n",
    "# Scale the data (normalize)\n",
    "X_train /= 255.0\n",
    "X_test /= 255.0\n",
    "\n",
    "'''\n",
    "    Remember the big picture is that for the training set, we have the images, so we've just converted, \n",
    "    or reshaped our images to being of a single layer with 784 nodes.\n",
    "\n",
    "    Now our output is going to be 10 different classes, so one for each digit. So let's see what \n",
    "    the shape of our output is currently. So if I type the y_train.shape, I can see that my output is \n",
    "    in fact a one dimensional array, and that's the case for my test data too.\n",
    "'''\n",
    "\n",
    "# Check shape\n",
    "print(y_train.shape)\n",
    "print(y_test.shape)\n",
    "print(y_train[0:10])\n",
    "\n",
    "# Make sure our output classes are binned\n",
    "y_train = to_categorical(y_train,10)\n",
    "y_test = to_categorical(y_test,10)\n",
    "\n",
    "# Check\n",
    "print(y_train.shape)\n",
    "print(y_test.shape)\n",
    "\n",
    "# Build the model\n",
    "model = Sequential()\n",
    "\n",
    "# Create input (first) fully connected layer so we have to include input_shape()\n",
    "model.add(Dense(512, activation='relu', input_shape=(784,))) # 512 output nodes\n",
    "\n",
    "# Add dense layer with a relu activation function\n",
    "model.add(Dense(512, activation='relu')) # 512 output nodes\n",
    "\n",
    "# Add a dense layer with a softmax activation function (used for classification)\n",
    "model.add(Dense(10,activation='softmax')) # 10 output nodes - classification\n",
    "\n",
    "# Compile the model using an adam optimizer\n",
    "model.compile(optimizer='adam', # go-to optimizer\n",
    "              loss='categorical_crossentropy', # crossentropy for multiple categories > 2; output = 10 bins/categories\n",
    "              metrics=['accuracy']) # metric used\n",
    "\n",
    "# Model summary\n",
    "print(model.summary())\n",
    "\n",
    "'''\n",
    "    How are the parameters calculated?\n",
    "\n",
    "    784 pixels * 512 total nodes after termination + bias (total nodes in layer)\n",
    "    512 pixels * 512 total nodes after termination + bias (total nodes in layer)\n",
    "    512 pixels * 10 output nodes after termination + bias (total nodes in layer)\n",
    "'''\n",
    "\n",
    "# Train the model\n",
    "# Fit the model with a validation dataset with 20 epochs\n",
    "dense_model = model.fit(X_train,\n",
    "                        y_train,\n",
    "                        epochs=5,\n",
    "                        validation_data=(X_test, y_test))\n",
    "\n",
    "# Evaluate\n",
    "error_rate = model.evaluate(X_test, # features\n",
    "                            y_test) # expected output\n",
    "print(error_rate)\n",
    "\n",
    "# Save the model\n",
    "model.save('dense_model.h5')"
   ]
  },
  {
   "cell_type": "code",
   "execution_count": 5,
   "metadata": {},
   "outputs": [
    {
     "data": {
      "image/png": "[encoded data removed]",
      "text/plain": [
       "<Figure size 432x288 with 1 Axes>"
      ]
     },
     "metadata": {
      "needs_background": "light"
     },
     "output_type": "display_data"
    }
   ],
   "source": [
    "# Plot the accuracy\n",
    "plt.plot(dense_model.history['acc']) # blue\n",
    "\n",
    "# Validation accuracy (orange)\n",
    "plt.plot(dense_model.history['val_acc']) # orange\n",
    "\n",
    "# Add loss (green)\n",
    "plt.plot(dense_model.history['loss']) # green\n",
    "\n",
    "plt.show() "
   ]
  }
 ],
 "metadata": {
  "kernelspec": {
   "display_name": "Python 3.6 (TensorFlow)",
   "language": "python",
   "name": "tf-test"
  },
  "language_info": {
   "codemirror_mode": {
    "name": "ipython",
    "version": 3
   },
   "file_extension": ".py",
   "mimetype": "text/x-python",
   "name": "python",
   "nbconvert_exporter": "python",
   "pygments_lexer": "ipython3",
   "version": "3.6.8"
  }
 },
 "nbformat": 4,
 "nbformat_minor": 2
}
