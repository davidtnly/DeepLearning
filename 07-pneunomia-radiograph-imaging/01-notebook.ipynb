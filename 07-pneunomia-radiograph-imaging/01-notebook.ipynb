{
 "cells": [
  {
   "cell_type": "markdown",
   "metadata": {},
   "source": [
    "## Load libraries"
   ]
  },
  {
   "cell_type": "code",
   "execution_count": 16,
   "metadata": {},
   "outputs": [
    {
     "data": {
      "image/png": "[encoded data removed]",
      "text/plain": [
       "<Figure size 432x72 with 1 Axes>"
      ]
     },
     "metadata": {
      "needs_background": "light"
     },
     "output_type": "display_data"
    }
   ],
   "source": [
    "# Toolbox\n",
    "from pathlib import Path\n",
    "from PIL import Image\n",
    "import os\n",
    "import numpy as np\n",
    "import pandas as pd \n",
    "import seaborn as sns\n",
    "import random\n",
    "import sys\n",
    "import matplotlib.pyplot as plt\n",
    "%matplotlib inline\n",
    "\n",
    "# Deep learning libraries\n",
    "from keras.models import Model, Sequential\n",
    "from keras.layers import Input, Dense, Flatten, Dropout, BatchNormalization\n",
    "from keras.layers import Conv2D, SeparableConv2D, MaxPool2D, LeakyReLU, ReLU, Activation\n",
    "from keras.optimizers import Adam, SGD, RMSprop\n",
    "from keras.preprocessing.image import ImageDataGenerator\n",
    "from keras.callbacks import ModelCheckpoint, ReduceLROnPlateau, EarlyStopping\n",
    "import keras\n",
    "import tensorflow as tf\n",
    "import tensorflow.keras\n",
    "import cv2\n",
    "\n",
    "# Machine Learning libraries\n",
    "from sklearn.model_selection import train_test_split\n",
    "from sklearn.preprocessing import StandardScaler\n",
    "from sklearn.metrics import confusion_matrix\n",
    "from mlxtend.plotting import plot_confusion_matrix\n",
    "\n",
    "# Misc\n",
    "import os\n",
    "import warnings\n",
    "warnings.filterwarnings(action='ignore')\n",
    "\n",
    "# Preset data display\n",
    "pd.options.display.max_seq_items = 1000\n",
    "pd.options.display.max_rows =1000\n",
    "pd.set_option('display.max_columns', 50)\n",
    "\n",
    "# Set notebook colors and palette\n",
    "flatui = ['#9b59b6', '#3498db', '#95a5a6', '#e74c3c', '#34495e', '#2ecc71']\n",
    "sns.set_palette(flatui)\n",
    "sns.palplot(sns.color_palette(flatui))\n",
    "sns.set_style('white')\n",
    "sns.set_color_codes(palette='deep')\n",
    "# Favorite code to use: #34995e\n",
    "\n",
    "# Setting seeds for reproducibility\n",
    "seed = 100\n",
    "np.random.seed(seed)\n",
    "tf.set_random_seed(seed)"
   ]
  },
  {
   "cell_type": "code",
   "execution_count": 15,
   "metadata": {},
   "outputs": [
    {
     "name": "stdout",
     "output_type": "stream",
     "text": [
      "These are the current versions working for me as of 2019-08-07\n",
      "OpenCV Version: 4.0.1\n",
      "TensorFlow Version: 1.13.1\n",
      "TensorFlow Keras Version: 2.2.4-tf\n",
      "Keras Version: 2.2.4\n",
      "\n",
      "TensorFlow-GPU is available\n",
      "TensorFlow CUDA: True\n",
      "Tensorflow GPU Device Currently Activated: /device:GPU:0\n",
      "Keras GPU: ['/job:localhost/replica:0/task:0/device:GPU:0']\n",
      "\n",
      "TF Session: <tensorflow.python.client.session.Session object at 0x0000020B10E07208>\n",
      "\n",
      "Python 3.6.8 |Anaconda, Inc.| (default, Feb 21 2019, 18:30:04) [MSC v.1916 64 bit (AMD64)]\n"
     ]
    }
   ],
   "source": [
    "print('These are the current versions working for me as of 2019-08-07')\n",
    "print(f\"OpenCV Version: {cv2.__version__}\")\n",
    "print(f\"TensorFlow Version: {tf.__version__}\")\n",
    "print(f\"TensorFlow Keras Version: {tensorflow.keras.__version__}\")\n",
    "print(f\"Keras Version: {keras.__version__}\")\n",
    "print()\n",
    "print(\"TensorFlow-GPU is\", \"available\" if tf.test.is_gpu_available() else \"NOT AVAILABLE\")\n",
    "print(f\"TensorFlow CUDA: {tf.test.is_built_with_cuda()}\")\n",
    "print(f\"Tensorflow GPU Device Currently Activated: {tf.test.gpu_device_name()}\")\n",
    "print(f\"Keras GPU: {keras.backend.tensorflow_backend._get_available_gpus()}\")\n",
    "print()\n",
    "print(f\"TF Session: {tf.Session()}\")\n",
    "print()\n",
    "print(f\"Python {sys.version}\")"
   ]
  },
  {
   "cell_type": "markdown",
   "metadata": {},
   "source": [
    "## Set directory"
   ]
  },
  {
   "cell_type": "code",
   "execution_count": 17,
   "metadata": {},
   "outputs": [
    {
     "data": {
      "text/plain": [
       "['.gitignore',\n",
       " '.ipynb_checkpoints',\n",
       " '01-notebook.ipynb',\n",
       " 'environment.yml',\n",
       " 'etc',\n",
       " 'images',\n",
       " 'input',\n",
       " 'README.md']"
      ]
     },
     "execution_count": 17,
     "metadata": {},
     "output_type": "execute_result"
    }
   ],
   "source": [
    "# Set directory\n",
    "PATH = 'C:\\\\Users\\\\' + os.getlogin() + '\\\\Documents\\\\Programming\\\\DeepLearning\\\\07-pneunomia-radiograph-imaging'\n",
    "os.chdir(PATH)\n",
    "os.getcwd()\n",
    "os.listdir()"
   ]
  },
  {
   "cell_type": "code",
   "execution_count": null,
   "metadata": {},
   "outputs": [],
   "source": []
  }
 ],
 "metadata": {
  "kernelspec": {
   "display_name": "Python 3.6 (TensorFlow)",
   "language": "python",
   "name": "tf-test"
  },
  "language_info": {
   "codemirror_mode": {
    "name": "ipython",
    "version": 3
   },
   "file_extension": ".py",
   "mimetype": "text/x-python",
   "name": "python",
   "nbconvert_exporter": "python",
   "pygments_lexer": "ipython3",
   "version": "3.6.8"
  }
 },
 "nbformat": 4,
 "nbformat_minor": 2
}
