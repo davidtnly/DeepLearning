{
 "cells": [
  {
   "cell_type": "markdown",
   "metadata": {},
   "source": [
    "# Models trained in other deep learning frameworks such as TF/PyTorch"
   ]
  },
  {
   "cell_type": "markdown",
   "metadata": {},
   "source": [
    "## Using Open CV as an inference engine"
   ]
  },
  {
   "cell_type": "markdown",
   "metadata": {},
   "source": [
    "Load models trained in other deep learning frameworks such as TenserFlow, Caffe, and PyTorch. We then preprocess the images using blobFromImage and finally pass these blobs through our loaded pretrained model to get our output predictions."
   ]
  },
  {
   "cell_type": "code",
   "execution_count": null,
   "metadata": {},
   "outputs": [],
   "source": [
    "insert image"
   ]
  },
  {
   "cell_type": "markdown",
   "metadata": {},
   "source": [
    "## The dnn Process"
   ]
  },
  {
   "cell_type": "markdown",
   "metadata": {},
   "source": [
    "readNetFrom, blobFromImage, setInput, and forward are four of the methods that we use in the dnn module. "
   ]
  },
  {
   "cell_type": "code",
   "execution_count": null,
   "metadata": {},
   "outputs": [],
   "source": [
    "insert dnn process image"
   ]
  },
  {
   "cell_type": "markdown",
   "metadata": {},
   "source": [
    "As Open CV supports models from Caffee, TenserFlow, Torch, DarkNet and models from the omnx format all you need to do is load the models in wait and any configuration files for your use case.\n"
   ]
  },
  {
   "cell_type": "markdown",
   "metadata": {},
   "source": [
    "### DNN"
   ]
  },
  {
   "cell_type": "code",
   "execution_count": null,
   "metadata": {},
   "outputs": [],
   "source": [
    "cv2.dnn(readNetFromCaffe(prototxt, caffeModel)"
   ]
  },
  {
   "cell_type": "markdown",
   "metadata": {},
   "source": [
    "So readNetFromCaffe takes in as arguments the path to the prottotxt file with text descriptions of the network architecture and the path to the caffeModel file with the train model. "
   ]
  },
  {
   "cell_type": "markdown",
   "metadata": {},
   "source": [
    "### Create a 4-Dimensional Blob\n",
    "\n",
    "__blobFromImage__ creates a four-dimensional blob from the image and you can optionally resize and crop the image from the center, subtract mean values, scale values by the scale factor, and swap red and blue channels. \n",
    "\n",
    "With the __setInput__ method we are setting the blob that we created using the blobFromImage as the input to the network. \n",
    "\n",
    "The __forward__ method allows us to do a forward pass through the network to produce an output prediction."
   ]
  },
  {
   "cell_type": "code",
   "execution_count": null,
   "metadata": {},
   "outputs": [],
   "source": [
    "# Create a 4D blob from the image and resize/crop as needed\n",
    "blob = cv2.dnn.blobFromImage(image,\n",
    "                             [scalefactor],\n",
    "                             [size],\n",
    "                             [mean],\n",
    "                             [swapRB],\n",
    "                             [crop],\n",
    "                             [ddepth])\n",
    "\n",
    "# Set the blob that we created using the blobFromImage as the input to the network\n",
    "net.setInput(blob)\n",
    "\n",
    "# Do a forward pass through the network to product an output\n",
    "outp = net.forward() "
   ]
  },
  {
   "cell_type": "code",
   "execution_count": null,
   "metadata": {},
   "outputs": [],
   "source": []
  },
  {
   "cell_type": "code",
   "execution_count": null,
   "metadata": {},
   "outputs": [],
   "source": []
  },
  {
   "cell_type": "code",
   "execution_count": null,
   "metadata": {},
   "outputs": [],
   "source": []
  },
  {
   "cell_type": "code",
   "execution_count": null,
   "metadata": {},
   "outputs": [],
   "source": []
  },
  {
   "cell_type": "code",
   "execution_count": null,
   "metadata": {},
   "outputs": [],
   "source": []
  },
  {
   "cell_type": "code",
   "execution_count": null,
   "metadata": {},
   "outputs": [],
   "source": []
  },
  {
   "cell_type": "code",
   "execution_count": null,
   "metadata": {},
   "outputs": [],
   "source": []
  },
  {
   "cell_type": "code",
   "execution_count": null,
   "metadata": {},
   "outputs": [],
   "source": []
  }
 ],
 "metadata": {
  "kernelspec": {
   "display_name": "Python 3",
   "language": "python",
   "name": "python3"
  },
  "language_info": {
   "codemirror_mode": {
    "name": "ipython",
    "version": 3
   },
   "file_extension": ".py",
   "mimetype": "text/x-python",
   "name": "python",
   "nbconvert_exporter": "python",
   "pygments_lexer": "ipython3",
   "version": "3.7.3"
  }
 },
 "nbformat": 4,
 "nbformat_minor": 2
}
