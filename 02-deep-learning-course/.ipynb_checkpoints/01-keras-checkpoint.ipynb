{
 "cells": [
  {
   "cell_type": "markdown",
   "metadata": {},
   "source": [
    "# Module 1\n",
    "\n",
    "Learning Objectives:\n",
    "- What's Keras?\n",
    "- Using Keras vs. TensorFlow\n",
    "- Training a deep learning model\n",
    "- Using a pre-trained deep learning model\n",
    "- Monitoring a Keras model with TensorBoard\n",
    "- Using a trained Keras model in Google Cloud"
   ]
  },
  {
   "cell_type": "markdown",
   "metadata": {},
   "source": [
    "## Keras Overview"
   ]
  },
  {
   "cell_type": "markdown",
   "metadata": {},
   "source": [
    "### What is Keras?\n",
    "\n",
    "Keras is a popular programming framework for deep learning that simplifies the process of building deep learning applications (deep neural networks). \n",
    "\n",
    "It's a frontend layer that uses python and uses either TensorFlow or Theano behind the scenes and adds a standard, simplified programming interface on top. It abstracts away a lot of the complexity of using those tools while still giving you many of the benefits.\n",
    "\n",
    "When you use Keras with Tensorflow, it builds a Tf model and runs the training process for you. That means your model is compatible with most tools and utilities that work with Tf.\n",
    "\n",
    "#### What makes Keras unique? \n",
    "Industry best practices are built-in. When building a deep learning system there are many different parameters you have to configure. Keras always tried to provide good defaults for parameters. Keras also comes with several pre-trained deep learning models for image recognition.\n",
    "\n",
    "    Built-In Image Recognition Model - Image File -> Pre-Trained Model -> 'seashore'"
   ]
  },
  {
   "cell_type": "markdown",
   "metadata": {},
   "source": [
    "### Keras Backends\n",
    "\n",
    "Keras is a high level tool for coding and training neural networks. You can think of it as a set of building blocks that you can combine to create neural networks, but Keras is just the front-end layer. It doesn't do all the processing on its own. \n",
    "\n",
    "Instead, it utilizes a separate deep-learning library under the hood for the processing. But what makes Keras especially unique is that it isn't limited to using just one deep-learning library. Keras currently lets you choose between Google's TensorFlow or the University of Montreal's Theano as the library to power your neural networks. Each has its own advantages and both are very capable and popular choices."
   ]
  },
  {
   "cell_type": "markdown",
   "metadata": {},
   "source": [
    "### Using Keras vs. TensorFlow\n",
    "\n",
    "We'll be using Keras with the TensorFlow backend. That means we'll write our code with Keras, but the actual processing will be done with TensorFlow. \n",
    "\n",
    "#### So why use Keras?\n",
    "So why are we going through the extra step of using Keras instead of just using TensorFlow on its own. TensorFlow is a popular tool for building and training deep neural networks. It's used by many companies and research institutions everyday to build cutting edge systems. However, TensorFlow is a low-level tool. It's designed to give you total control over the design of your neural network, but it makes you do a lot of the work on your own. Code written with TensorFlow tends to be long and detailed. Even defining and training a basic neural network can take several pages of code. Keras, on the other hand, is a high-level solution. Its primary design goal is fast and easy experimentation. The idea is that if you spend less time coding, you can spend more time experimenting. \n",
    "\n",
    "Here is an example of defining the same neural network with TensorFlow and then with Keras. Both of these code samples do the same thing. They define the neural network that has ten inputs, several layers, and then a single output. But even without understanding how the code works, you can see that the TensorFlow version is longer and more detailed than the Keras version. That's because TensorFlow gives you more control over almost every detail. If you want to add a new layer to your neural network, you have to explicitly tell it how to do all the math that takes place inside that layer. Keras works at the much higher level of detail. \n",
    "\n",
    "To add a new layer to a neural network in Keras, you just call the _model.add_ function and tell it what kind of layer you want. That's it. It's much simpler. But it also means that you're limited to using the types of layers that Keras has built-in. \n",
    "\n",
    "#### When is using TensorFlow better?\n",
    "So when is using TensorFlow alone a better choice? \n",
    "- TensorFlow is a great choice if you are exploring brand new approaches to machine learning. In that case, you need the ability to tweak every detail of your machine learning model. The canned approach provided by Keras won't give you enough flexibility. \n",
    "- Using TensorFlow directly is also a great choice if you're building a giant machine learning system that will support many users. In that case, saving a little time upfront on writing the code might not be worth it in the end. You'll want to have control over every detail of how the system works. \n",
    "- In general, TensorFlow is a good choice when control over how memory and processing power are used are more important than any coding time you'd save using Keras. \n",
    "\n",
    "#### When is Keras a good choice? \n",
    "- First, Keras is a great educational tool. Since it lets you quickly try out the most popular types of neural networks, it's a great way to experiment with deep learning without spending a lot of time having to learn the ins and outs of a tool like TensorFlow. \n",
    "- Keras is also great for prototyping new machine learning systems. Because it's so much faster to code with Keras, you can try out lots of different ideas in a small amount of time. So even if you will ultimately build your production system with TensorFlow, Keras is a great tool to use to validate the basic design. \n",
    "- But Keras isn't limited to just education and prototyping, Keras is also used for production systems and works well in many cases. \n",
    "- So unless you have highly specialized needs or are building a large system for millions of users, it's worth considering using Keras. \n",
    "\n",
    "#### Summary\n",
    "Tensorflow\n",
    "- Low level\n",
    "- More control\n",
    "- Write more code\n",
    "\n",
    "Keras\n",
    "- High Level\n",
    "- Fast Experimentation\n",
    "- Write less code"
   ]
  },
  {
   "cell_type": "markdown",
   "metadata": {},
   "source": [
    "## Setting up the Environment"
   ]
  },
  {
   "cell_type": "markdown",
   "metadata": {},
   "source": [
    "### Setting Up Keras\n",
    "\n",
    "Installing Keras into Conda environment\n",
    "\n",
    "    conda install -c conda-forge keras # Installs keras (could do this after creating keras env and activation)\n",
    "    conda create -n keras keras # Create conda environment named keras\n",
    "    conda activate keras\n",
    "    conda deactivate\n",
    "\n",
    "#### Tensorflow\n",
    "[Anaconda TensorFlow Installation](https://docs.anaconda.com/anaconda/user-guide/tasks/tensorflow/)\n",
    "\n",
    "    conda create -n tf tensorflow\n",
    "    \n",
    "#### Google API\n",
    "\n",
    "    conda install -c conda-forge google-api-python-client (be sure to be in keras env)"
   ]
  },
  {
   "cell_type": "markdown",
   "metadata": {},
   "source": [
    "### Working with Conda Environment\n",
    "\n",
    "http://docs.anaconda.com/anaconda-cloud/user-guide/tasks/work-with-environments/\n",
    "\n",
    "https://docs.conda.io/projects/conda/en/latest/user-guide/tasks/manage-environments.html"
   ]
  },
  {
   "cell_type": "markdown",
   "metadata": {},
   "source": [
    "### Issues\n",
    "https://stackoverflow.com/questions/55290271/updating-anaconda-fails-environment-not-writable-error\n",
    "\n",
    "https://stackoverflow.com/questions/56765518/anaconda-4-7-5-warning-about-conda-build-3-18-3-and-issues-with-python-packag\n",
    "\n",
    "1. Following the first video on installation - install anaconda and conda create -n keras keras, then go into the environment and change python version to 3.6 to get tensorflow"
   ]
  },
  {
   "cell_type": "markdown",
   "metadata": {},
   "source": [
    "## Using Keras with Code"
   ]
  },
  {
   "cell_type": "markdown",
   "metadata": {},
   "source": [
    "### Creating a Neural Network in Keras (Text)"
   ]
  },
  {
   "cell_type": "markdown",
   "metadata": {},
   "source": [
    "In this course, we'll use Keras to build and train a supervised machine learning model. Supervised machine learning is the branch of machine learning where we train the model by showing it input data and the expected result for that data, and it works out how to transform the input into the expected output. \n",
    "\n",
    "When building a supervised machine learning model, there's a process we follow, called the model train test evaluation flow.\n",
    "1. Choose ML Algorithm to use\n",
    "    - First, we need to choose which machine learning algorithm we want to use. We can pick any standard machine learning algorithm, but with Keras, you'll always be using neural networks. \n",
    "2. Training Phase\n",
    "    - Then we start the training phase. We train the algorithm by showing it training data and the expected output for that data, and it has to figure out how to replicate the expected result. For example, if we show it the numbers two and two, and tell it the result should be four. And then we show it three and five, and tell it the result is eight. It will work out that the inputs should be added together to get the desired output. \n",
    "3. Testing Phase\n",
    "    - After we train the model, we enter the testing phase. We load up a second set of data it has never seen before, called the testing data set, and then we feed this data through the model and make sure it is able to predict the correct result even though it has never seen this data before. This will show that the model actually learned how to solve the problem in a general way and didn't just memorize the answers for the training data. \n",
    "4. Evaluation Phase\n",
    "    - Finally, once the model is trained and tested, we can use it in the real world. This is the evaluation phase. We pass in new data, and it gives us a prediction. Keras makes it easy to set up a train, test, evaluation flow. \n",
    "5. Create a model\n",
    "    - First, we will create our neural network model. In Keras, we do that by creating a new instance of a model object. The model object represents the neural network we are building. Once we have a model object, we can add layers to the neural network just by calling model.add and passing in the type of layer we want to add. \n",
    "6. Compiling the Model (Building the TF Model)\n",
    "    - The final step of defining a model is to compile it. That's when Keras actually builds a TensorFlow model for us behind the scenes. When we compile the model, we need to tell Keras two important things. \n",
    "        - First, we need to tell it how we want to measure the accuracy of each prediction made by the model during the training process. This is called the __loss function__. Keras lets us choose from several standard loss functions or define our own. \n",
    "        - Second, we need to tell Keras which __optimizer algorithm__ we want to use to train the model. Keras lets us select from several popular optimizer algorithms. \n",
    "7. Train the Model with model.fit with Training Data        \n",
    "    - Now we're ready to start the training phase. To train the model, we call __model.fit__ and pass in the training data and the expected output for the training data. Keras will run the training process and print out the progress to the console. When training completes, it will report the final accuracy that was achieved with the training data. \n",
    "8. Test the Model with model.evaluate with Testing Data\n",
    "    - Once the model is trained, we're ready for the testing phase. We can test the model by calling __model.evaluate__ and passing in the testing data set and the expected output. \n",
    "9. Save the Model        \n",
    "    - When we are happy with the accuracy of the system, we can save the training model to a file. To do that, we call __model.save__ and pass in the file name. This file will contain everything we need to use our model in another program. \n",
    "10. Load the Model and Pass in New Data for Prediction    \n",
    "    - Now that we have a trained model, we're ready for the evaluation phase. We'll load our previously trained model by calling the load model function and passing in a file name. And then, to use the model to make new predictions, we just call the __predict__ function and pass in the new data we want predictions for. \n",
    "\n",
    "And that's the basic flow in using Keras. In the next several videos, we'll go through this flow in more detail and build a working neural network."
   ]
  },
  {
   "cell_type": "markdown",
   "metadata": {},
   "source": [
    "## Creating a Neural Network in Keras (Code)"
   ]
  },
  {
   "cell_type": "markdown",
   "metadata": {},
   "source": [
    "### Building a model with Keras (Code) Keras Skeleton\n",
    "\n",
    "    model = keras.models.Sequential() # creating a new instance of a model object; represents neural network model\n",
    "    \n",
    "    model.add(keras.layers.Dense()) # add layers to the neural network and paying in the type of layer we want to add\n",
    "    \n",
    "    model.compile(loss='mean_squared_error', optimizer='adam') # compile model; this step is when Keras actually builds a TensorFlow model; model.compile(loss function, optimizer algorithm)\n",
    "    \n",
    "    \n",
    "    "
   ]
  },
  {
   "cell_type": "markdown",
   "metadata": {},
   "source": [
    "### Training the model built\n",
    "\n",
    "    model.fit(training_data, expected_output) # pass in training data and expected output (X, y)"
   ]
  },
  {
   "cell_type": "markdown",
   "metadata": {},
   "source": [
    "### Testing the model built & save\n",
    "\n",
    "    error_rate = model.evaluate(testing_data, expected_output) # test using evaluate\n",
    "    \n",
    "    model.save('trained_model.h5') # save the model"
   ]
  },
  {
   "cell_type": "markdown",
   "metadata": {},
   "source": [
    "### Evaluation of the model\n",
    "\n",
    "    model = keras.models.load_model('trained_model.h5') # load_model\n",
    "    \n",
    "    predictions = model.predict(new_data) # make predictions"
   ]
  },
  {
   "cell_type": "markdown",
   "metadata": {},
   "source": [
    "## Keras Sequential API - [Keras Sequential Documentation](https://keras.io/models/sequential/)\n",
    "\n",
    "    compile(optimizer, loss=None, metrics=None, loss_weights=None, sample_weight_mode=None, weighted_metrics=None, target_tensors=None) \n",
    "    \n",
    "Keras makes it very straightforward to code neural networks. A neural network is a machine-learning algorithm made up of individual nodes called neurons. These nodes, or neurons, are arranged into a series of groups called layers. Nodes in each layer are connected to nodes in the following layer. Data flows from the input to the output along these connections. Each individual node is trained to perform a simple mathematical calculation and then feed its data to all the nodes it's connected to. When many trained nodes are connected and data flows through the entire network from start to finish, neural networks are able to model complex operations. When designing a neural network in Keras, we have to decide how many layers there should be, how many nodes should be in each layer and how the layers should be connected to each other. Bigger models with more layers and more nodes can model more complex operations, but if you make the model too big, it will beslow the train and is likely to overfit the data set. The easiest way to build a neural network in Keras is to use the so-called sequential model API. It's called the sequential model API because you first create an empty model object, and then you add layers to it one after another in sequence. Here's an example. First, we create a new empty neural network by creating a new sequential object. Then, we can add as many layers as we want by calling model.add and passing in a new layer object. In this case, we are adding a new densely connected layer of 32 nodes to the neural network. A densely connected layer is one where every node is connected to every node in the previous layer, and since this is the very first layer in the neural network, we also have to tell it how many input nodes there are by passing in input dim=9. We can continue adding layers the same way. This line adds another layer with 128 densely connected nodes, and this line will add the final layer with one output node. It's that easy to define the neural network in Keras. Keras is designed to make it quick to code the neural network, but it still tries to give you a large amount of control over the structure of each layer. Let's talk about the different ways we can customize a neural network layer. Before values flow from nodes in one layer to the next, they pass through an activation function. Keras lets us choose which activation function is used for each layer by passing in the name of the activation function we want to use. In this case, I've told it to use a rectified linear unit, or RELU, activation function. Keras supports all the standard activation functions in use today. It even includes lots of esoteric ones that aren't widely used outside the research. There's also lots of less commonly needed things that we can customize in each layer beyond the activation function, but one of the guiding principles of Keras is that it will do the best thing it can if you don't specify extra parameters. In other words, the default settings are modeled after what are considered best practices, so most of the time just choosing the number of nodes in a layer and choosing the activation function is good enough. So far we've talked about densely connected layers which are the most basic type of layer, but Keras also supports many different types of neural network layers. Let's look at two other major types of layers that Keras supports. First are convolutional layers. These are typically used to process images or spacial data. Next are recurrent layers. Recurrent layers are special layers that have a memory built into each neuron. These are used to process sequential data like words in a sentence where the previous data points are important to understanding the next data point. You can mix layers of different types in the same model as needed. The final step of defining a model is to compile it by calling model.compile. This builds out the model you've defined in the tensorflow backend. When you compile a model, you have to pass in the optimizer algorithm and the loss function you want to use. The optimizer algorithm is the algorithm used to train your neural network. The loss function is how the training process measures how right or how wrong your neural network's predictions are. In this case, I've used the adam optimizer function which is a common and powerful optimizer, and the mean squared error loss function."
   ]
  },
  {
   "cell_type": "code",
   "execution_count": null,
   "metadata": {},
   "outputs": [],
   "source": []
  }
 ],
 "metadata": {
  "kernelspec": {
   "display_name": "Python 3",
   "language": "python",
   "name": "python3"
  },
  "language_info": {
   "codemirror_mode": {
    "name": "ipython",
    "version": 3
   },
   "file_extension": ".py",
   "mimetype": "text/x-python",
   "name": "python",
   "nbconvert_exporter": "python",
   "pygments_lexer": "ipython3",
   "version": "3.7.3"
  }
 },
 "nbformat": 4,
 "nbformat_minor": 2
}
