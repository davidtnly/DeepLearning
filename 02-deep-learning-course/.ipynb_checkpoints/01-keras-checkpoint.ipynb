{
 "cells": [
  {
   "cell_type": "markdown",
   "metadata": {},
   "source": [
    "# Module 1"
   ]
  },
  {
   "cell_type": "markdown",
   "metadata": {},
   "source": [
    "## Keras Overview"
   ]
  },
  {
   "cell_type": "markdown",
   "metadata": {},
   "source": [
    "### What is Keras?\n",
    "\n",
    "Keras is a popular programming framework for deep learning that simplifies the process of building deep learning applications (deep neural networks). \n",
    "\n",
    "It's a frontend layer that uses python and uses either TensorFlow or Theano behind the scenes and adds a standard, simplified programming interface on top. It abstracts away a lot of the complexity of using those tools while still giving you many of the benefits.\n",
    "\n",
    "When you use Keras with Tensorflow, it builds a Tf model and runs the training process for you. That means your model is compatible with most tools and utilities that work with Tf.\n",
    "\n",
    "#### What makes Keras unique? \n",
    "Industry best practices are built-in. When building a deep learning system there are many different parameters you have to configure. Keras always tried to provide good defaults for parameters. Keras also comes with several pre-trained deep learning models for image recognition.\n",
    "\n",
    "    Built-In Image Recognition Model - Image File -> Pre-Trained Model -> 'seashore'"
   ]
  },
  {
   "cell_type": "markdown",
   "metadata": {},
   "source": [
    "### Keras Backends\n",
    "\n",
    "Keras is a high level tool for coding and training neural networks. You can think of it as a set of building blocks that you can combine to create neural networks, but Keras is just the front-end layer. It doesn't do all the processing on its own. \n",
    "\n",
    "Instead, it utilizes a separate deep-learning library under the hood for the processing. But what makes Keras especially unique is that it isn't limited to using just one deep-learning library. Keras currently lets you choose between Google's TensorFlow or the University of Montreal's Theano as the library to power your neural networks. Each has its own advantages and both are very capable and popular choices."
   ]
  },
  {
   "cell_type": "markdown",
   "metadata": {},
   "source": [
    "### Using Keras vs. TensorFlow\n",
    "\n",
    "We'll be using Keras with the TensorFlow backend. That means we'll write our code with Keras, but the actual processing will be done with TensorFlow. \n",
    "\n",
    "#### So why use Keras?\n",
    "So why are we going through the extra step of using Keras instead of just using TensorFlow on its own. TensorFlow is a popular tool for building and training deep neural networks. It's used by many companies and research institutions everyday to build cutting edge systems. However, TensorFlow is a low-level tool. It's designed to give you total control over the design of your neural network, but it makes you do a lot of the work on your own. Code written with TensorFlow tends to be long and detailed. Even defining and training a basic neural network can take several pages of code. Keras, on the other hand, is a high-level solution. Its primary design goal is fast and easy experimentation. The idea is that if you spend less time coding, you can spend more time experimenting. \n",
    "\n",
    "Here is an example of defining the same neural network with TensorFlow and then with Keras. Both of these code samples do the same thing. They define the neural network that has ten inputs, several layers, and then a single output. But even without understanding how the code works, you can see that the TensorFlow version is longer and more detailed than the Keras version. That's because TensorFlow gives you more control over almost every detail. If you want to add a new layer to your neural network, you have to explicitly tell it how to do all the math that takes place inside that layer. Keras works at the much higher level of detail. \n",
    "\n",
    "To add a new layer to a neural network in Keras, you just call the _model.add_ function and tell it what kind of layer you want. That's it. It's much simpler. But it also means that you're limited to using the types of layers that Keras has built-in. \n",
    "\n",
    "#### When is using TensorFlow better?\n",
    "So when is using TensorFlow alone a better choice? \n",
    "- TensorFlow is a great choice if you are exploring brand new approaches to machine learning. In that case, you need the ability to tweak every detail of your machine learning model. The canned approach provided by Keras won't give you enough flexibility. \n",
    "- Using TensorFlow directly is also a great choice if you're building a giant machine learning system that will support many users. In that case, saving a little time upfront on writing the code might not be worth it in the end. You'll want to have control over every detail of how the system works. \n",
    "- In general, TensorFlow is a good choice when control over how memory and processing power are used are more important than any coding time you'd save using Keras. \n",
    "\n",
    "#### When is Keras a good choice? \n",
    "- First, Keras is a great educational tool. Since it lets you quickly try out the most popular types of neural networks, it's a great way to experiment with deep learning without spending a lot of time having to learn the ins and outs of a tool like TensorFlow. \n",
    "- Keras is also great for prototyping new machine learning systems. Because it's so much faster to code with Keras, you can try out lots of different ideas in a small amount of time. So even if you will ultimately build your production system with TensorFlow, Keras is a great tool to use to validate the basic design. \n",
    "- But Keras isn't limited to just education and prototyping, Keras is also used for production systems and works well in many cases. \n",
    "- So unless you have highly specialized needs or are building a large system for millions of users, it's worth considering using Keras. \n",
    "\n",
    "#### Summary\n",
    "Tensorflow\n",
    "- Low level\n",
    "- More control\n",
    "- Write more code\n",
    "\n",
    "Keras\n",
    "- High Level\n",
    "- Fast Experimentation\n",
    "- Write less code"
   ]
  },
  {
   "cell_type": "markdown",
   "metadata": {},
   "source": [
    "### Setting Up Keras\n",
    "\n",
    "Installing Keras into Conda environment\n",
    "\n",
    "    conda install -c conda-forge keras # Installs keras (could do this after creating keras env and activation)\n",
    "    conda create -n keras keras # Create conda environment named keras\n",
    "    conda activate keras\n",
    "    conda deactivate\n",
    "\n",
    "#### Tensorflow\n",
    "[Anaconda TensorFlow Installation](https://docs.anaconda.com/anaconda/user-guide/tasks/tensorflow/)\n",
    "\n",
    "    conda create -n tf tensorflow\n",
    "    \n",
    "#### Google API\n",
    "\n",
    "    conda install -c conda-forge google-api-python-client (be sure to be in keras env)"
   ]
  },
  {
   "cell_type": "markdown",
   "metadata": {},
   "source": [
    "### Working with Conda Environment\n",
    "\n",
    "http://docs.anaconda.com/anaconda-cloud/user-guide/tasks/work-with-environments/\n",
    "\n",
    "https://docs.conda.io/projects/conda/en/latest/user-guide/tasks/manage-environments.html"
   ]
  },
  {
   "cell_type": "markdown",
   "metadata": {},
   "source": [
    "### Issues\n",
    "https://stackoverflow.com/questions/55290271/updating-anaconda-fails-environment-not-writable-error\n",
    "\n",
    "https://stackoverflow.com/questions/56765518/anaconda-4-7-5-warning-about-conda-build-3-18-3-and-issues-with-python-packag\n",
    "\n",
    "1. Following the first video on installation - install anaconda and conda create -n keras keras, then go into the environment and change python version to 3.6 to get tensorflow"
   ]
  },
  {
   "cell_type": "code",
   "execution_count": null,
   "metadata": {},
   "outputs": [],
   "source": []
  },
  {
   "cell_type": "code",
   "execution_count": null,
   "metadata": {},
   "outputs": [],
   "source": []
  },
  {
   "cell_type": "code",
   "execution_count": null,
   "metadata": {},
   "outputs": [],
   "source": []
  },
  {
   "cell_type": "code",
   "execution_count": null,
   "metadata": {},
   "outputs": [],
   "source": []
  },
  {
   "cell_type": "code",
   "execution_count": null,
   "metadata": {},
   "outputs": [],
   "source": []
  },
  {
   "cell_type": "markdown",
   "metadata": {},
   "source": [
    "### Training a deep learning model "
   ]
  },
  {
   "cell_type": "markdown",
   "metadata": {},
   "source": [
    "### Using a pre-trained deep learning model"
   ]
  },
  {
   "cell_type": "markdown",
   "metadata": {},
   "source": [
    "### Monitoring a Keras model with TensorBoard"
   ]
  },
  {
   "cell_type": "markdown",
   "metadata": {},
   "source": [
    "### Using a trained Keras model in Google Cloud"
   ]
  },
  {
   "cell_type": "code",
   "execution_count": null,
   "metadata": {},
   "outputs": [],
   "source": []
  }
 ],
 "metadata": {
  "kernelspec": {
   "display_name": "Python 3",
   "language": "python",
   "name": "python3"
  },
  "language_info": {
   "codemirror_mode": {
    "name": "ipython",
    "version": 3
   },
   "file_extension": ".py",
   "mimetype": "text/x-python",
   "name": "python",
   "nbconvert_exporter": "python",
   "pygments_lexer": "ipython3",
   "version": "3.7.3"
  }
 },
 "nbformat": 4,
 "nbformat_minor": 2
}
