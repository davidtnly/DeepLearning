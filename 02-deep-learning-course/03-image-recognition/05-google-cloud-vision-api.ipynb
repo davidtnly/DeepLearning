{
 "cells": [
  {
   "cell_type": "markdown",
   "metadata": {},
   "source": [
    "# Google Cloud Vision API - [Link](https://cloud.google.com/vision/)"
   ]
  },
  {
   "cell_type": "markdown",
   "metadata": {},
   "source": [
    "Let's take a look at what Google Cloud Vision offers. The best part about the Cloud Vision API is that you don't have to do any training yourself. You upload an image and it gives you back results from it's pre-train model. So it's very quick to get started. Also the pricing model is simple. \n",
    "\n",
    "- No training required\n",
    "- Pay per 1,000 API requests\n",
    "- Everything runs in the cloud\n",
    "\n",
    "### Payment\n",
    "You pay per 1,000 API requests and the prices are fairly inexpensive. The catch is that each type of detection in an image counts as one API call. So if you ask for a list of objects that appear in an image and the text that appears in the same image that actually counts as two separate API calls. All the processing happens on Google servers in the Cloud so you don't need any specialized hardware. You just upload your images to Google and get back the results."
   ]
  },
  {
   "cell_type": "code",
   "execution_count": null,
   "metadata": {},
   "outputs": [],
   "source": []
  }
 ],
 "metadata": {
  "kernelspec": {
   "display_name": "Python 3",
   "language": "python",
   "name": "python3"
  },
  "language_info": {
   "codemirror_mode": {
    "name": "ipython",
    "version": 3
   },
   "file_extension": ".py",
   "mimetype": "text/x-python",
   "name": "python",
   "nbconvert_exporter": "python",
   "pygments_lexer": "ipython3",
   "version": "3.7.3"
  }
 },
 "nbformat": 4,
 "nbformat_minor": 2
}
