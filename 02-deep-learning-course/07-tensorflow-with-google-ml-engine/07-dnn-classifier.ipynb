{
 "cells": [
  {
   "cell_type": "code",
   "execution_count": null,
   "metadata": {
    "scrolled": false
   },
   "outputs": [
    {
     "name": "stdout",
     "output_type": "stream",
     "text": [
      "INFO:tensorflow:Using default config.\n",
      "INFO:tensorflow:Using config: {'_model_dir': 'dnn_output', '_tf_random_seed': None, '_save_summary_steps': 100, '_save_checkpoints_steps': None, '_save_checkpoints_secs': 600, '_session_config': allow_soft_placement: true\n",
      "graph_options {\n",
      "  rewrite_options {\n",
      "    meta_optimizer_iterations: ONE\n",
      "  }\n",
      "}\n",
      ", '_keep_checkpoint_max': 5, '_keep_checkpoint_every_n_hours': 10000, '_log_step_count_steps': 100, '_train_distribute': None, '_device_fn': None, '_protocol': None, '_eval_distribute': None, '_experimental_distribute': None, '_service': None, '_cluster_spec': <tensorflow.python.training.server_lib.ClusterSpec object at 0x000001F3652F3320>, '_task_type': 'worker', '_task_id': 0, '_global_id_in_cluster': 0, '_master': '', '_evaluation_master': '', '_is_chief': True, '_num_ps_replicas': 0, '_num_worker_replicas': 1}\n",
      "INFO:tensorflow:Calling model_fn.\n",
      "INFO:tensorflow:Done calling model_fn.\n",
      "INFO:tensorflow:Create CheckpointSaverHook.\n",
      "INFO:tensorflow:Graph was finalized.\n",
      "WARNING:tensorflow:From C:\\Users\\David Ly\\Anaconda3\\envs\\tf-test\\lib\\site-packages\\tensorflow\\python\\training\\saver.py:1266: checkpoint_exists (from tensorflow.python.training.checkpoint_management) is deprecated and will be removed in a future version.\n",
      "Instructions for updating:\n",
      "Use standard file APIs to check for files with this prefix.\n",
      "INFO:tensorflow:Restoring parameters from dnn_output\\model.ckpt-0\n"
     ]
    }
   ],
   "source": [
    "''' Classify MNIST images with a DNNClassifier '''\n",
    "\n",
    "from __future__ import absolute_import\n",
    "from __future__ import division\n",
    "from __future__ import print_function\n",
    "\n",
    "import tensorflow as tf\n",
    "\n",
    "# Define constants\n",
    "image_dim = 28\n",
    "num_labels = 10\n",
    "batch_size = 80\n",
    "num_steps = 8000\n",
    "hidden_layers = [128, 32]\n",
    "\n",
    "# Step 1: Create a function to parse MNIST data\n",
    "def parser(record):\n",
    "    features = tf.parse_single_example(record,\n",
    "            features = {\n",
    "                    'images': tf.FixedLenFeature([], tf.string),\n",
    "                    'labels': tf.FixedLenFeature([], tf.int64),\n",
    "                    })\n",
    "    image = tf.decode_raw(features['images'], tf.uint8)\n",
    "    image.set_shape([image_dim * image_dim])\n",
    "    image = tf.cast(image, tf.float32) * (1.0/255) - 0.5\n",
    "    label = features['labels']\n",
    "    return image, label\n",
    "\n",
    "# Step 2: Describe input data with a feature column\n",
    "column = tf.feature_column.numeric_column('pixels', shape=[image_dim * image_dim])\n",
    "\n",
    "# Step 3: Create a DNNClassifier with the feature column\n",
    "dnn_class = tf.estimator.DNNClassifier(hidden_layers, [column],\n",
    "        model_dir='dnn_output', n_classes=num_labels)\n",
    "\n",
    "# Step 4: Train the estimator\n",
    "def train_func():\n",
    "    dataset = tf.data.TFRecordDataset('Other_Images/mnist_train.tfrecords')\n",
    "    dataset = dataset.map(parser).repeat().batch(batch_size)\n",
    "    image, label = dataset.make_one_shot_iterator().get_next()\n",
    "    return {'pixels': image}, label\n",
    "dnn_class.train(train_func, steps=num_steps)\n",
    "\n",
    "# Step 5: Test the estimator\n",
    "def test_func():\n",
    "    dataset = tf.data.TFRecordDataset('Other_Images/mnist_test.tfrecords')    \n",
    "    dataset = dataset.map(parser).batch(batch_size)\n",
    "    image, label = dataset.make_one_shot_iterator().get_next()\n",
    "    return {'pixels': image}, label\n",
    "metrics = dnn_class.evaluate(test_func)\n",
    "\n",
    "# Display metrics\n",
    "for key, value in metrics.items():\n",
    "    print(key, ': ', value)"
   ]
  },
  {
   "cell_type": "code",
   "execution_count": null,
   "metadata": {},
   "outputs": [],
   "source": []
  }
 ],
 "metadata": {
  "kernelspec": {
   "display_name": "Python 3.6 (TensorFlow)",
   "language": "python",
   "name": "tf-test"
  },
  "language_info": {
   "codemirror_mode": {
    "name": "ipython",
    "version": 3
   },
   "file_extension": ".py",
   "mimetype": "text/x-python",
   "name": "python",
   "nbconvert_exporter": "python",
   "pygments_lexer": "ipython3",
   "version": "3.6.8"
  }
 },
 "nbformat": 4,
 "nbformat_minor": 2
}
