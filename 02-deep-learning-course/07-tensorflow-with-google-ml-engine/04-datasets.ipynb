{
 "cells": [
  {
   "cell_type": "markdown",
   "metadata": {},
   "source": [
    "# Create a dataset using TensorFlow"
   ]
  },
  {
   "cell_type": "code",
   "execution_count": 2,
   "metadata": {},
   "outputs": [],
   "source": [
    "from __future__ import absolute_import\n",
    "from __future__ import division\n",
    "from __future__ import print_function\n",
    "\n",
    "import tensorflow as tf"
   ]
  },
  {
   "cell_type": "markdown",
   "metadata": {},
   "source": [
    "### Yield\n",
    "We should use yield when we want to iterate over a sequence, but don't want to store the entire sequence in memory. Yield are used in Python generators. A generator function is defined like a normal function, but whenever it needs to generate a value, it does so with the yield keyword rather than return."
   ]
  },
  {
   "cell_type": "code",
   "execution_count": 12,
   "metadata": {},
   "outputs": [
    {
     "name": "stdout",
     "output_type": "stream",
     "text": [
      "WARNING:tensorflow:From C:\\Users\\David Ly\\Anaconda3\\envs\\tf-test\\lib\\site-packages\\tensorflow\\python\\data\\ops\\dataset_ops.py:429: py_func (from tensorflow.python.ops.script_ops) is deprecated and will be removed in a future version.\n",
      "Instructions for updating:\n",
      "tf.py_func is deprecated in TF V2. Instead, use\n",
      "    tf.py_function, which takes a python function which manipulates tf eager\n",
      "    tensors instead of numpy arrays. It's easy to convert a tf eager tensor to\n",
      "    an ndarray (just call tensor.numpy()) but having access to eager tensors\n",
      "    means `tf.py_function`s can use accelerators such as GPUs as well as\n",
      "    being differentiable using a gradient tape.\n",
      "    \n",
      "0\n",
      "1\n",
      "2\n",
      "3\n",
      "[[4 5]\n",
      " [6 7]]\n",
      "[8]\n",
      "[9]\n",
      "[10]\n",
      "[11]\n",
      "12\n"
     ]
    }
   ],
   "source": [
    "# Generator function\n",
    "def gen_func():\n",
    "    x = 12\n",
    "    while x < 20:\n",
    "        yield x\n",
    "        x+=2\n",
    "\n",
    "# Step 1: Create a dataset/iterator from a range of values\n",
    "data1= tf.data.Dataset.range(4)\n",
    "iter1 = data1.make_one_shot_iterator()\n",
    "\n",
    "# Step 2: Create a dataset/iterator from two tensors\n",
    "t1 = tf.constant([4, 5])\n",
    "t2 = tf.constant([6, 7])\n",
    "ds2 = tf.data.Dataset.from_tensors([t1, t2])\n",
    "iter2 = ds2.make_one_shot_iterator()\n",
    "\n",
    "# Step 3: Create a dataset/iterator ffrom rows of a tensor\n",
    "t3 = tf.constant([[8], [9], [10], [11]])\n",
    "ds3 = tf.data.Dataset.from_tensor_slices(t3)\n",
    "iter3 = ds3.make_one_shot_iterator()\n",
    "\n",
    "# Step 4: Create a dataset/iterator from a generator function\n",
    "ds4 = tf.data.Dataset.from_generator(gen_func, output_types=tf.int64)\n",
    "iter4 = ds4.make_one_shot_iterator()\n",
    "\n",
    "# Step 5: Print the elements of each dataset\n",
    "with tf.Session() as sess:\n",
    "    for _ in range(4):\n",
    "        print(sess.run(iter1.get_next()))\n",
    "    print(sess.run(iter2.get_next()))\n",
    "    \n",
    "    for _ in range(4):\n",
    "        print(sess.run(iter3.get_next()))\n",
    "    print(sess.run(iter4.get_next()))\n",
    "\n",
    "sess.close()"
   ]
  },
  {
   "cell_type": "code",
   "execution_count": 4,
   "metadata": {},
   "outputs": [
    {
     "data": {
      "text/plain": [
       "<DatasetV1Adapter shapes: (), types: tf.int64>"
      ]
     },
     "execution_count": 4,
     "metadata": {},
     "output_type": "execute_result"
    }
   ],
   "source": [
    "data1"
   ]
  },
  {
   "cell_type": "markdown",
   "metadata": {},
   "source": [
    "Create this session by calling tf.Session, and I'll access it as sess. Inside the session, I'll perform a series of print operations to display the dataset's results. \n",
    "\n",
    "The first dataset contains four values, so I'll create a for loop that will iterate four times. Inside the loop, I'll call print, and sess.run with the first iterator calling it's get_next method. As I mentioned earlier, get_next returns each value of the iterator, which in turn accesses the values of the corresponding dataset. \n",
    "\n",
    "The second dataset contains a single value, so I'll call print and sess.run with iter2.get_next. \n",
    "\n",
    "The third dataset contains four elements, so I can use similar code as I used for the first dataset. In this case, I'll just set sess.run to iter3.get_next. And this will print the contents of the third dataset. \n",
    "\n",
    "And the last dataset also produces four results, because the generator function produces four values. So I'll create the for loop. And inside the print statement, I'll call sess.run with iter4.get_next. \n",
    "\n",
    "When I execute the module it prints the results of each of the different datasets. \n",
    "\n",
    "1. In this case, zero through three corresponds to the content of the first dataset, which I simply created from a range. \n",
    "\n",
    "2. The second dataset contains a single value containing the content of two tensors. \n",
    "\n",
    "3. The third value contains each row of a particular tensor. \n",
    "\n",
    "4. And the last dataset contains the four values produced by the generator function, gen_func. This video has demonstrated how datasets and iterators can be used in code. "
   ]
  },
  {
   "cell_type": "code",
   "execution_count": 5,
   "metadata": {},
   "outputs": [
    {
     "data": {
      "text/plain": [
       "<tensorflow.python.data.ops.iterator_ops.Iterator at 0x253d7b63dd8>"
      ]
     },
     "execution_count": 5,
     "metadata": {},
     "output_type": "execute_result"
    }
   ],
   "source": [
    "iter1"
   ]
  },
  {
   "cell_type": "code",
   "execution_count": 6,
   "metadata": {},
   "outputs": [
    {
     "data": {
      "text/plain": [
       "<tf.Tensor 'Const:0' shape=(2,) dtype=int32>"
      ]
     },
     "execution_count": 6,
     "metadata": {},
     "output_type": "execute_result"
    }
   ],
   "source": [
    "t1"
   ]
  },
  {
   "cell_type": "code",
   "execution_count": 7,
   "metadata": {},
   "outputs": [
    {
     "data": {
      "text/plain": [
       "<tf.Tensor 'Const_1:0' shape=(2,) dtype=int32>"
      ]
     },
     "execution_count": 7,
     "metadata": {},
     "output_type": "execute_result"
    }
   ],
   "source": [
    "t2"
   ]
  },
  {
   "cell_type": "code",
   "execution_count": 8,
   "metadata": {},
   "outputs": [
    {
     "data": {
      "text/plain": [
       "<DatasetV1Adapter shapes: (2, 2), types: tf.int32>"
      ]
     },
     "execution_count": 8,
     "metadata": {},
     "output_type": "execute_result"
    }
   ],
   "source": [
    "ds2"
   ]
  },
  {
   "cell_type": "code",
   "execution_count": 9,
   "metadata": {},
   "outputs": [
    {
     "data": {
      "text/plain": [
       "<tensorflow.python.data.ops.iterator_ops.Iterator at 0x253d7b7ae48>"
      ]
     },
     "execution_count": 9,
     "metadata": {},
     "output_type": "execute_result"
    }
   ],
   "source": [
    "iter2"
   ]
  },
  {
   "cell_type": "code",
   "execution_count": 14,
   "metadata": {},
   "outputs": [
    {
     "data": {
      "text/plain": [
       "<DatasetV1Adapter shapes: (1,), types: tf.int32>"
      ]
     },
     "execution_count": 14,
     "metadata": {},
     "output_type": "execute_result"
    }
   ],
   "source": [
    "ds3"
   ]
  },
  {
   "cell_type": "code",
   "execution_count": 15,
   "metadata": {},
   "outputs": [
    {
     "data": {
      "text/plain": [
       "<tensorflow.python.data.ops.iterator_ops.Iterator at 0x253d5b11c18>"
      ]
     },
     "execution_count": 15,
     "metadata": {},
     "output_type": "execute_result"
    }
   ],
   "source": [
    "iter3"
   ]
  },
  {
   "cell_type": "code",
   "execution_count": 16,
   "metadata": {},
   "outputs": [
    {
     "data": {
      "text/plain": [
       "<DatasetV1Adapter shapes: <unknown>, types: tf.int64>"
      ]
     },
     "execution_count": 16,
     "metadata": {},
     "output_type": "execute_result"
    }
   ],
   "source": [
    "ds4"
   ]
  },
  {
   "cell_type": "code",
   "execution_count": 17,
   "metadata": {},
   "outputs": [
    {
     "data": {
      "text/plain": [
       "<tensorflow.python.data.ops.iterator_ops.Iterator at 0x253d7ba1978>"
      ]
     },
     "execution_count": 17,
     "metadata": {},
     "output_type": "execute_result"
    }
   ],
   "source": [
    "iter4"
   ]
  },
  {
   "cell_type": "markdown",
   "metadata": {},
   "source": [
    "--------"
   ]
  },
  {
   "cell_type": "code",
   "execution_count": null,
   "metadata": {},
   "outputs": [],
   "source": []
  },
  {
   "cell_type": "code",
   "execution_count": null,
   "metadata": {},
   "outputs": [],
   "source": []
  },
  {
   "cell_type": "code",
   "execution_count": null,
   "metadata": {},
   "outputs": [],
   "source": []
  },
  {
   "cell_type": "code",
   "execution_count": null,
   "metadata": {},
   "outputs": [],
   "source": []
  },
  {
   "cell_type": "code",
   "execution_count": null,
   "metadata": {},
   "outputs": [],
   "source": []
  },
  {
   "cell_type": "code",
   "execution_count": null,
   "metadata": {},
   "outputs": [],
   "source": []
  },
  {
   "cell_type": "code",
   "execution_count": null,
   "metadata": {},
   "outputs": [],
   "source": []
  },
  {
   "cell_type": "code",
   "execution_count": null,
   "metadata": {},
   "outputs": [],
   "source": []
  },
  {
   "cell_type": "code",
   "execution_count": null,
   "metadata": {},
   "outputs": [],
   "source": []
  },
  {
   "cell_type": "code",
   "execution_count": null,
   "metadata": {},
   "outputs": [],
   "source": []
  }
 ],
 "metadata": {
  "kernelspec": {
   "display_name": "Python 3.6 (TensorFlow)",
   "language": "python",
   "name": "tf-test"
  },
  "language_info": {
   "codemirror_mode": {
    "name": "ipython",
    "version": 3
   },
   "file_extension": ".py",
   "mimetype": "text/x-python",
   "name": "python",
   "nbconvert_exporter": "python",
   "pygments_lexer": "ipython3",
   "version": "3.6.8"
  }
 },
 "nbformat": 4,
 "nbformat_minor": 2
}
