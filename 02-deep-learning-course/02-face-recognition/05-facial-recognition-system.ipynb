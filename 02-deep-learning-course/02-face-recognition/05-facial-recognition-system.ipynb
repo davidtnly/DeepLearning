{
 "cells": [
  {
   "cell_type": "markdown",
   "metadata": {},
   "source": [
    "# Coding a real face recognition system (Find a Match)\n",
    "\n",
    "You can feel free to try this out with your own photos. But for pictures of known people, you wanna make sure that:\n",
    "1. There's only one person in the picture\n",
    "2. They are facing the camera\n",
    "3. Clearly visible\n",
    "4. That there's reasonably good lighting. \n",
    "\n",
    "If you use lower-quality images, the results won't be as accurate. "
   ]
  },
  {
   "cell_type": "code",
   "execution_count": 2,
   "metadata": {},
   "outputs": [],
   "source": [
    "from PIL import Image, ImageDraw\n",
    "import PIL\n",
    "import os\n",
    "import face_recognition # access to the face detection model in DLIB"
   ]
  },
  {
   "cell_type": "code",
   "execution_count": 3,
   "metadata": {},
   "outputs": [
    {
     "name": "stdout",
     "output_type": "stream",
     "text": [
      "Found Person 3 in the photo!\n"
     ]
    }
   ],
   "source": [
    "# Load the known images (each image is loaded into an array)\n",
    "image_of_person_1 = face_recognition.load_image_file(\"Images/person_1.jpg\")\n",
    "image_of_person_2 = face_recognition.load_image_file(\"Images/person_2.jpg\")\n",
    "image_of_person_3 = face_recognition.load_image_file(\"Images/person_3.jpg\")\n",
    "\n",
    "''' \n",
    "On the end here, just put zero in brackets to get the first result from the array. But if you do this, make \n",
    "sure your images only contain one person each. Otherwise you won't know which face you're grabbing. \n",
    "'''\n",
    "\n",
    "# Get the face encoding of each person. This can fail if no one is found in the photo.\n",
    "person_1_face_encoding = face_recognition.face_encodings(image_of_person_1)[0] # pass in the image array\n",
    "person_2_face_encoding = face_recognition.face_encodings(image_of_person_2)[0]\n",
    "person_3_face_encoding = face_recognition.face_encodings(image_of_person_3)[0]\n",
    "\n",
    "'''\n",
    "Since we know these images only contain one face, we can go ahead and grab just the first result of the \n",
    "function by accessing index zero.\n",
    "'''\n",
    "\n",
    "# Create a list of all known face encodings (put all three face encodings in an array)\n",
    "known_face_encodings = [\n",
    "    person_1_face_encoding,\n",
    "    person_2_face_encoding,\n",
    "    person_3_face_encoding\n",
    "]\n",
    "\n",
    "# Load the image we want to check\n",
    "unknown_image = face_recognition.load_image_file(\"Images/unknown_8.jpg\")\n",
    "\n",
    "# Get face encodings for any people in the picture\n",
    "unknown_face_encodings = face_recognition.face_encodings(unknown_image)\n",
    "\n",
    "# There might be more than one person in the photo, so we need to loop over each face we found\n",
    "for unknown_face_encoding in unknown_face_encodings:\n",
    "\n",
    "    # Test if this unknown face encoding matches any of the three people we know (compare_faces() function)\n",
    "    results = face_recognition.compare_faces(known_face_encodings, unknown_face_encoding, tolerance=0.6)\n",
    "\n",
    "    name = \"Unknown\"\n",
    "\n",
    "    if results[0]:\n",
    "        name = \"Person 1\"\n",
    "    elif results[1]:\n",
    "        name = \"Person 2\"\n",
    "    elif results[2]:\n",
    "        name = \"Person 3\"\n",
    "\n",
    "    print(f\"Found {name} in the photo!\")\n"
   ]
  },
  {
   "cell_type": "markdown",
   "metadata": {},
   "source": [
    "-------------------------------------------------------"
   ]
  },
  {
   "cell_type": "markdown",
   "metadata": {},
   "source": [
    "## Face Recognition Model in a Different Scenario\n",
    "\n",
    "Completed face recognition system and those have recognized three people from three different images, listed here."
   ]
  },
  {
   "cell_type": "code",
   "execution_count": 4,
   "metadata": {},
   "outputs": [
    {
     "name": "stdout",
     "output_type": "stream",
     "text": [
      "Found Person 3 in the photo!\n",
      "Found Person 2 in the photo!\n",
      "Found Person 1 in the photo!\n"
     ]
    }
   ],
   "source": [
    "# Load the known images\n",
    "image_of_person_1 = face_recognition.load_image_file(\"Images/person_1.jpg\")\n",
    "image_of_person_2 = face_recognition.load_image_file(\"Images/person_2.jpg\")\n",
    "image_of_person_3 = face_recognition.load_image_file(\"Images/person_3.jpg\")\n",
    "\n",
    "# Get the face encoding of each person. This can fail if no one is found in the photo.\n",
    "person_1_face_encoding = face_recognition.face_encodings(image_of_person_1)[0]\n",
    "person_2_face_encoding = face_recognition.face_encodings(image_of_person_2)[0]\n",
    "person_3_face_encoding = face_recognition.face_encodings(image_of_person_3)[0]\n",
    "\n",
    "# Create a list of all known face encodings\n",
    "known_face_encodings = [\n",
    "    person_1_face_encoding,\n",
    "    person_2_face_encoding,\n",
    "    person_3_face_encoding\n",
    "]\n",
    "\n",
    "# Load the image we want to check\n",
    "# unknown_image = face_recognition.load_image_file(\"Images/unknown_7.jpg\")\n",
    "unknown_image = face_recognition.load_image_file(\"Images/group.jpg\")\n",
    "\n",
    "# Get face encodings for any people in the picture\n",
    "face_locations = face_recognition.face_locations(unknown_image, number_of_times_to_upsample=2) # scale image 2x\n",
    "unknown_face_encodings = face_recognition.face_encodings(unknown_image, known_face_locations=face_locations)\n",
    "\n",
    "'''\n",
    "We can also split this out into two separate steps so that we have more control over how it works. \n",
    "We can pass these face locations into the next function using a special known face locations parameter. \n",
    "\n",
    "Now that we have the code for face locations as a separate step, we can customize how it works. The main \n",
    "reason we couldn't find the face in the image is because the face was too small. To over come that, we can \n",
    "enlarge the image before we look for faces in it. To do that, we'll go to the face locations function \n",
    "and here for number_of_times_to_upsample will pass in two. \n",
    "'''\n",
    "\n",
    "# There might be more than one person in the photo, so we need to loop over each face we found\n",
    "for unknown_face_encoding in unknown_face_encodings:\n",
    "\n",
    "    # Test if this unknown face encoding matches any of the three people we know\n",
    "    results = face_recognition.compare_faces(known_face_encodings, unknown_face_encoding, tolerance=0.6)\n",
    "\n",
    "    name = \"Unknown\"\n",
    "\n",
    "    if results[0]:\n",
    "        name = \"Person 1\"\n",
    "    elif results[1]:\n",
    "        name = \"Person 2\"\n",
    "    elif results[2]:\n",
    "        name = \"Person 3\"\n",
    "\n",
    "    print(f\"Found {name} in the photo!\")\n"
   ]
  },
  {
   "cell_type": "markdown",
   "metadata": {},
   "source": [
    "-----------------------------------------"
   ]
  },
  {
   "cell_type": "markdown",
   "metadata": {},
   "source": [
    "## Remember that face recognition is the multi-step pipeline\n",
    "\n",
    "First we have to find each face, then we have to find the facial features and align each face, and then we can generate facing encodings for each face. \n",
    "\n",
    "If any step in that pipeline fails, the result of the system won't work. In this case, our system isn't even detecting the face because it's too small for the default settings. \n",
    "\n",
    "Since the face is never detected, the system can't identify it. Let's close these results.\n",
    "\n",
    "## Scaling \n",
    "With face recognition, the trade off is usually between speed and accuracy. Scaling up the image is a lot slower and uses a lot more memory, but now it finds faces that were otherwise missed. Depending on the application that you're building, you might care more about speed. For example, if you know the person will be looking directly into the camera, you can assume their face will be large enough in the image that you won't need to upsample the image at all, this will make your code run faster. \n",
    "\n",
    "## Building a System (Tip)\n",
    "When building a face recognition system, you'll want to play around with the upscaling settings to get the best results without making your code run too slowly. So, definitely keep this tip step in mind. "
   ]
  }
 ],
 "metadata": {
  "kernelspec": {
   "display_name": "Python 3.6 (TensorFlow)",
   "language": "python",
   "name": "tf-test"
  },
  "language_info": {
   "codemirror_mode": {
    "name": "ipython",
    "version": 3
   },
   "file_extension": ".py",
   "mimetype": "text/x-python",
   "name": "python",
   "nbconvert_exporter": "python",
   "pygments_lexer": "ipython3",
   "version": "3.6.8"
  }
 },
 "nbformat": 4,
 "nbformat_minor": 2
}
