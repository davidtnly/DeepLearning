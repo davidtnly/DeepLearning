{
 "cells": [
  {
   "cell_type": "markdown",
   "metadata": {},
   "source": [
    "# Keras Overview"
   ]
  },
  {
   "cell_type": "markdown",
   "metadata": {},
   "source": [
    "Learning Objectives:\n",
    "- What's Keras?\n",
    "- Using Keras vs. TensorFlow\n",
    "- Training a deep learning model\n",
    "- Using a pre-trained deep learning model\n",
    "- Monitoring a Keras model with TensorBoard\n",
    "- Using a trained Keras model in Google Cloud"
   ]
  },
  {
   "cell_type": "code",
   "execution_count": 1,
   "metadata": {},
   "outputs": [],
   "source": [
    "import tensorflow as tf"
   ]
  },
  {
   "cell_type": "markdown",
   "metadata": {},
   "source": [
    "### What is Keras?\n",
    "\n",
    "Keras is a popular programming framework for deep learning that simplifies the process of building deep learning applications (deep neural networks). \n",
    "\n",
    "It's a frontend layer that uses python and uses either TensorFlow or Theano behind the scenes and adds a standard, simplified programming interface on top. It abstracts away a lot of the complexity of using those tools while still giving you many of the benefits.\n",
    "\n",
    "When you use Keras with Tensorflow, it builds a Tf model and runs the training process for you. That means your model is compatible with most tools and utilities that work with Tf.\n",
    "\n",
    "### What makes Keras unique? \n",
    "Industry best practices are built-in. When building a deep learning system there are many different parameters you have to configure. Keras always tried to provide good defaults for parameters. Keras also comes with several pre-trained deep learning models for image recognition."
   ]
  },
  {
   "cell_type": "markdown",
   "metadata": {},
   "source": [
    "### Keras Backends\n",
    "\n",
    "Keras is a high level tool for coding and training neural networks. You can think of it as a set of building blocks that you can combine to create neural networks, but Keras is just the front-end layer. It doesn't do all the processing on its own. \n",
    "\n",
    "Instead, it utilizes a separate deep-learning library under the hood for the processing. But what makes Keras especially unique is that it isn't limited to using just one deep-learning library. Keras currently lets you choose between Google's TensorFlow or the University of Montreal's Theano as the library to power your neural networks. Each has its own advantages and both are very capable and popular choices."
   ]
  },
  {
   "cell_type": "markdown",
   "metadata": {},
   "source": [
    "### When is Keras a good choice? \n",
    "- First, Keras is a great educational tool. Since it lets you quickly try out the most popular types of neural networks, it's a great way to experiment with deep learning without spending a lot of time having to learn the ins and outs of a tool like TensorFlow. \n",
    "- Keras is also great for prototyping new machine learning systems. Because it's so much faster to code with Keras, you can try out lots of different ideas in a small amount of time. So even if you will ultimately build your production system with TensorFlow, Keras is a great tool to use to validate the basic design. \n",
    "- But Keras isn't limited to just education and prototyping, Keras is also used for production systems and works well in many cases. \n",
    "- So unless you have highly specialized needs or are building a large system for millions of users, it's worth considering using Keras. "
   ]
  },
  {
   "cell_type": "markdown",
   "metadata": {},
   "source": [
    "____________"
   ]
  },
  {
   "cell_type": "markdown",
   "metadata": {},
   "source": [
    "### Modeling Process"
   ]
  },
  {
   "cell_type": "markdown",
   "metadata": {},
   "source": [
    "In this course, we'll use Keras to build and train a supervised machine learning model. Supervised machine learning is the branch of machine learning where we train the model by showing it input data and the expected result for that data, and it works out how to transform the input into the expected output. \n",
    "\n",
    "When building a supervised machine learning model, there's a process we follow, called the model train test evaluation flow.\n",
    "1. Choose ML Algorithm to use\n",
    "    - First, we need to choose which machine learning algorithm we want to use. We can pick any standard machine learning algorithm, but with Keras, you'll always be using neural networks. \n",
    "2. Training Phase\n",
    "    - Then we start the training phase. We train the algorithm by showing it training data and the expected output for that data, and it has to figure out how to replicate the expected result. For example, if we show it the numbers two and two, and tell it the result should be four. And then we show it three and five, and tell it the result is eight. It will work out that the inputs should be added together to get the desired output. \n",
    "3. Testing Phase\n",
    "    - After we train the model, we enter the testing phase. We load up a second set of data it has never seen before, called the testing data set, and then we feed this data through the model and make sure it is able to predict the correct result even though it has never seen this data before. This will show that the model actually learned how to solve the problem in a general way and didn't just memorize the answers for the training data. \n",
    "4. Evaluation Phase\n",
    "    - Finally, once the model is trained and tested, we can use it in the real world. This is the evaluation phase. We pass in new data, and it gives us a prediction. Keras makes it easy to set up a train, test, evaluation flow. \n",
    "5. Create a model\n",
    "    - First, we will create our neural network model. In Keras, we do that by creating a new instance of a model object. The model object represents the neural network we are building. Once we have a model object, we can add layers to the neural network just by calling model.add and passing in the type of layer we want to add. \n",
    "6. Compiling the Model (Building the TF Model)\n",
    "    - The final step of defining a model is to compile it. That's when Keras actually builds a TensorFlow model for us behind the scenes. When we compile the model, we need to tell Keras two important things. \n",
    "        - First, we need to tell it how we want to measure the accuracy of each prediction made by the model during the training process. This is called the __loss function__. Keras lets us choose from several standard loss functions or define our own. \n",
    "        - Second, we need to tell Keras which __optimizer algorithm__ we want to use to train the model. Keras lets us select from several popular optimizer algorithms. \n",
    "7. Train the Model with model.fit with Training Data        \n",
    "    - Now we're ready to start the training phase. To train the model, we call __model.fit__ and pass in the training data and the expected output for the training data. Keras will run the training process and print out the progress to the console. When training completes, it will report the final accuracy that was achieved with the training data. \n",
    "8. Test the Model with model.evaluate with Testing Data\n",
    "    - Once the model is trained, we're ready for the testing phase. We can test the model by calling __model.evaluate__ and passing in the testing data set and the expected output. \n",
    "9. Save the Model        \n",
    "    - When we are happy with the accuracy of the system, we can save the training model to a file. To do that, we call __model.save__ and pass in the file name. This file will contain everything we need to use our model in another program. \n",
    "10. Load the Model and Pass in New Data for Prediction    \n",
    "    - Now that we have a trained model, we're ready for the evaluation phase. We'll load our previously trained model by calling the load model function and passing in a file name. And then, to use the model to make new predictions, we just call the __predict__ function and pass in the new data we want predictions for. \n",
    "\n",
    "And that's the basic flow in using Keras. In the next several videos, we'll go through this flow in more detail and build a working neural network."
   ]
  },
  {
   "cell_type": "markdown",
   "metadata": {},
   "source": [
    "### Initial Skeleton"
   ]
  },
  {
   "cell_type": "code",
   "execution_count": null,
   "metadata": {},
   "outputs": [],
   "source": [
    "import pandas as pd\n",
    "import keras\n",
    "\n",
    "\n",
    "# Create a sequential model (neural network) by declaring a sequential model object\n",
    "model = keras.models.Sequential()\n",
    "\n",
    "# Add a first dense layer with 50 nodes using the 9 features/inputs from the dataset\n",
    "model.add(keras.layers.Dense(50, input_dim=9, activation='relu'))\n",
    "\n",
    "# Add a second dense layer object\n",
    "model.add(keras.layers.Dense(100, activation='relu'))\n",
    "\n",
    "# Add an output layer\n",
    "model.add(keras.layers.Dense(1, activation='linear'))\n",
    "\n",
    "# Compile the model\n",
    "model.compile(loss='mean_squared_error', optimize='adam')\n",
    "\n",
    "# Fit the model with training data\n",
    "model.fit(training_data, expected_output)\n",
    "\n",
    "# Evaluate\n",
    "error_rate = model.evaluate(testing_data, expected_output)\n",
    "\n",
    "# Save the model\n",
    "model.save('trained_model.h5')\n",
    "\n",
    "# Load if new instance\n",
    "model = keras.models.load_model('trained_model.h5')\n",
    "\n",
    "# Predict\n",
    "predictions = model.predict(new_data)"
   ]
  },
  {
   "cell_type": "markdown",
   "metadata": {},
   "source": [
    "_______________________________"
   ]
  },
  {
   "cell_type": "markdown",
   "metadata": {},
   "source": [
    "## Building a Sequential Model (Above)\n",
    "\n",
    "The easiest way to build a neural network in Keras is to use the so-called sequential model API. It's called the sequential model API because you first create an empty model object, and then you add layers to it one after another in sequence. "
   ]
  },
  {
   "cell_type": "markdown",
   "metadata": {},
   "source": [
    "#### Create a new empty neural network by creating a new sequential object\n",
    "    \n",
    "model = keras.models.Sequential()\n",
    "\n",
    "#### Add layers (call model, add nodes, add output node)\n",
    "\n",
    "model.add(Dense(32, input_dim=9)) # call model.add and pass in a new layer object (densely connected layer of 32 nodes)\n",
    "    \n",
    "model.add(Dense(128)) # adds another layer with 128 densely connected nodes\n",
    "\n",
    "model.add(Dense(1)) # add in a final layer with one output node\n",
    "\n",
    "#### Adding an activation function for nodes to pass through\n",
    "\n",
    "model.add(Dense(128, activation='relu')) # pass an activation function called RELU"
   ]
  },
  {
   "cell_type": "markdown",
   "metadata": {},
   "source": [
    "### Summary: Bringing it all together - Keras Sequential Model API\n",
    "\n",
    "model.keras.models.Sequential()\n",
    "\n",
    "model.add(Dense(32, input_dim=9))\n",
    "\n",
    "model.add(Dense(128))\n",
    "\n",
    "model.add(Dense(1))\n",
    "\n",
    "model.compile(optimizer='adam', loss='mse') # optimizer is used to train the neural network, loss is a function used to measure how right or how wrong the neural network's predictions are"
   ]
  },
  {
   "cell_type": "markdown",
   "metadata": {},
   "source": [
    "### Other Types of Layers Supported (Conv, Rec)\n",
    "\n",
    "#### Convoluational Layers (typically used to process images or spacial data)\n",
    "\n",
    "    keras.layers.convolutional.Conv2D()\n",
    "\n",
    "#### Recurrent Layers (special layer thas has memory built into each neuron to process sequential data)\n",
    "\n",
    "    keras.layer.recurrent.LSTM()"
   ]
  }
 ],
 "metadata": {
  "kernelspec": {
   "display_name": "Python 3.6 (TensorFlow)",
   "language": "python",
   "name": "tf-test"
  },
  "language_info": {
   "codemirror_mode": {
    "name": "ipython",
    "version": 3
   },
   "file_extension": ".py",
   "mimetype": "text/x-python",
   "name": "python",
   "nbconvert_exporter": "python",
   "pygments_lexer": "ipython3",
   "version": "3.6.8"
  }
 },
 "nbformat": 4,
 "nbformat_minor": 2
}
