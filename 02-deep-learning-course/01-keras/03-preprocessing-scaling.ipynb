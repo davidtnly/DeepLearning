{
 "cells": [
  {
   "cell_type": "markdown",
   "metadata": {},
   "source": [
    "# Keras Sequential API - [Keras Sequential Documentation](https://keras.io/models/sequential/)\n",
    "\n",
    "    compile(optimizer, loss=None, metrics=None, loss_weights=None, sample_weight_mode=None, weighted_metrics=None, target_tensors=None) \n",
    "\n",
    "### What is a neural network?\n",
    "Keras makes it very straightforward to code neural networks. A neural network is a machine-learning algorithm made up of individual nodes called __neurons__. These nodes, or neurons, are arranged into a series of groups called __layers__. \n",
    "\n",
    "__Nodes__ in each layer are connected to nodes in the following layer. Data flows from the input to the output along these connections. Each individual node is trained to perform a simple mathematical calculation and then feed its data to all the nodes it's connected to. \n",
    "\n",
    "When many trained nodes are connected and data flows through the entire network from start to finish, neural networks are able to model complex operations. When designing a neural network in Keras, we have to decide how many layers there should be, how many nodes should be in each layer and how the layers should be connected to each other. Bigger models with more layers and more nodes can model more complex operations, but if you make the model too big, it will be slow the train and is likely to overfit the data set. \n",
    "\n",
    "### Sequential Model API\n",
    "The easiest way to build a neural network in Keras is to use the so-called __sequential model API__. It's called the sequential model API because you first create an empty model object, and then you add layers to it one after another in sequence. \n",
    "\n",
    "Here's an example. \n",
    "1. First, we create a new empty neural network by creating a new sequential object. \n",
    "2. Then, we can add as many layers as we want by calling model.add and passing in a new layer object. In this case, we are adding a new densely connected layer of 32 nodes to the neural network. A densely connected layer is one where every node is connected to every node in the previous layer, and since this is the very first layer in the neural network, we also have to tell it how many input nodes there are by passing in input dim=9. We can continue adding layers the same way. This line adds another layer with 128 densely connected nodes, and this line will add the final layer with one output node. It's that easy to define the neural network in Keras. \n",
    "    \n",
    "Keras is designed to make it quick to code the neural network, but it still tries to give you a large amount of control over the structure of each layer. Let's talk about the different ways we can customize a neural network layer. \n",
    "\n",
    "Before values flow from nodes in one layer to the next, they pass through an __activation function__. Keras lets us choose which activation function is used for each layer by passing in the name of the activation function we want to use. In this case, I've told it to use a __rectified linear unit__, or RELU, activation function. Keras supports all the standard activation functions in use today. It even includes lots of esoteric ones that aren't widely used outside the research. There's also lots of less commonly needed things that we can customize in each layer beyond the activation function, but one of the guiding principles of Keras is that it will do the best thing it can if you don't specify extra parameters. In other words, the default settings are modeled after what are considered best practices, so most of the time just choosing the number of nodes in a layer and choosing the activation function is good enough. So far we've talked about densely connected layers which are the most basic type of layer, but Keras also supports many different types of neural network layers. \n",
    "\n",
    "Let's look at two other major types of layers that Keras supports. \n",
    "1. First are convolutional layers. These are typically used to process images or spacial data. \n",
    "2. Next are recurrent layers. Recurrent layers are special layers that have a memory built into each neuron. These are used to process sequential data like words in a sentence where the previous data points are important to understanding the next data point. You can mix layers of different types in the same model as needed. \n",
    "    \n",
    "### Model Building Steps\n",
    "The final step of defining a model is to compile it by calling model.compile. This builds out the model you've defined in the Tensorflow backend. When you compile a model, you have to pass in the optimizer algorithm and the loss function you want to use. The optimizer algorithm is the algorithm used to train your neural network. The loss function is how the training process measures how right or how wrong your neural network's predictions are. In this case, I've used the adam optimizer function which is a common and powerful optimizer, and the mean squared error loss function."
   ]
  },
  {
   "cell_type": "markdown",
   "metadata": {},
   "source": [
    "## Preprocessing Training Data\n",
    "\n",
    "Predict total earnings of a new game based on sales data.\n",
    "\n",
    "Run exercise script and fill-in notes to make the code usable\n",
    "1. Since the features are not equally on the range same like total earnings and is_portable, we need to scale the data so  that each value is between zero and one. Neural networks work best when each feature is scaled to the same range.\n",
    "    - MinMaxScaler from sci-kit learn library\n",
    "2. Scale both Training and test data"
   ]
  },
  {
   "cell_type": "markdown",
   "metadata": {},
   "source": [
    "### 1. Scaling"
   ]
  },
  {
   "cell_type": "code",
   "execution_count": null,
   "metadata": {},
   "outputs": [],
   "source": [
    "import pandas as pd\n",
    "from sklearn.preprocessing import MinMaxScaler\n",
    "\n",
    "# Load the training data\n",
    "train = pd.read_csv('Data/sales_data_training.csv')\n",
    "\n",
    "# Load the testing data\n",
    "test = pd.read_csv('Data/sales_data_test.csv')\n",
    "\n",
    "# Scale from 0 to 1\n",
    "scaler = MinMaxScaler(feature_range=(0, 1))\n",
    "\n",
    "# Scale both the training inputs and outputs\n",
    "scaled_train = scaler.fit_transform(train)\n",
    "scaled_test = scaler.transform(test)\n",
    "\n",
    "# Scaled values\n",
    "print('Note: total_earning values were scaled by multiplying by {:.10f} and adding {:.6f}'.format(scaler.scale_[8], scaler.min_[8]))\n",
    "\n",
    "# Set the values to a variable\n",
    "scale_value = scaler.scale_[8]\n",
    "scale_min = scaler.min_[8]\n",
    "\n",
    "# Create dataframe for new scaled data\n",
    "scaled_training_df = pd.DataFrame(scaled_train, columns=train.columns.values)\n",
    "scaled_testing_df = pd.DataFrame(scaled_test, columns=test.columns.values)\n",
    "\n",
    "# Save scaled data to CSV files\n",
    "scaled_training_df.to_csv('sales_data_training_scaled.csv', index=False)\n",
    "scaled_testing_df.to_csv('sales_data_test_scaled.csv', index=False)"
   ]
  }
 ],
 "metadata": {
  "kernelspec": {
   "display_name": "Python 3.6 (TensorFlow)",
   "language": "python",
   "name": "tf-test"
  },
  "language_info": {
   "codemirror_mode": {
    "name": "ipython",
    "version": 3
   },
   "file_extension": ".py",
   "mimetype": "text/x-python",
   "name": "python",
   "nbconvert_exporter": "python",
   "pygments_lexer": "ipython3",
   "version": "3.6.8"
  }
 },
 "nbformat": 4,
 "nbformat_minor": 2
}
