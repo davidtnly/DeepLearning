{
 "cells": [
  {
   "cell_type": "markdown",
   "metadata": {},
   "source": [
    "# Training Models\n",
    "\n",
    "### Training and evaluating the model\n",
    "1. Get dataset\n",
    "2. Scale dataset\n",
    "3. Train the neural network model\n",
    "4. Evaluate the model\n",
    "5. Test on new data (predictions)\n",
    "6. Saving and loading the models for future use"
   ]
  },
  {
   "cell_type": "markdown",
   "metadata": {},
   "source": [
    "### 2. Train the model"
   ]
  },
  {
   "cell_type": "code",
   "execution_count": null,
   "metadata": {},
   "outputs": [],
   "source": [
    "import pandas as pd \n",
    "from keras.models import Sequential\n",
    "from keras.layers import *\n",
    "\n",
    "# Get data\n",
    "train = pd.read_csv('Data/sales_data_training_scaled.csv')\n",
    "test = pd.read_csv('Data/sales_data_test_scaled.csv')\n",
    "\n",
    "# Split train data into X and y input arrays\n",
    "X = train.drop('total earnings', axis=1).values\n",
    "y = train[['total earnings']].values\n",
    "\n",
    "# Create a new sequential nn (keras sequential API)\n",
    "model = Sequential()\n",
    "\n",
    "# Add in dense layers and input nodes\n",
    "model.add(Dense(50, input_dim=9, activation='relu'))\n",
    "model.add(Dense(100, activation='relu')) # second layer\n",
    "model.add(Dense(50, activation='relu')) # third layer\n",
    "model.add(Dense(1, activation='linear')) # output layer, predicts 1 value\n",
    "\n",
    "# Compile the model\n",
    "model.compile(loss='mean_squared_error', optimize='adam')\n",
    "\n",
    "# Train the model\n",
    "model.fit(X,             # training features\n",
    "          y,             # expected output\n",
    "          epochs=50,     # training passes (epoch)\n",
    "          shuffle=True,  # works best when randomly shuffled\n",
    "          verbose=2)     # print more detailed info\n",
    "\n",
    "# Split test data into X and y input arrays\n",
    "X_test = test.drop('total_earnings', axis=1).values\n",
    "y_test = test[['total_earnings']].values\n",
    "\n",
    "# Measure the error rate of the testing data\n",
    "test_error_rate = model.evaluate(X_test, y_test, verbose=0) # pass in verbose 0\n",
    "\n",
    "# Print error rate\n",
    "print('The mean squared error (MSE) for the test data set is: {}'.format(test_error_rate))"
   ]
  },
  {
   "cell_type": "markdown",
   "metadata": {},
   "source": [
    "### 3. Making predictions\n",
    "\n",
    "Use a training model to make predictions for new data. Following the next steps of training, we can add in the following code."
   ]
  },
  {
   "cell_type": "code",
   "execution_count": null,
   "metadata": {},
   "outputs": [],
   "source": [
    "# Load the new data\n",
    "X_new = pd.read_csv('Data/proposed_new_product.csv').values\n",
    "\n",
    "# Make predictions with the neural network\n",
    "# Keras always assumes that we are going to ask for multiple predictions and multiple output values in each prediction\n",
    "# Keras model always returns predictions in a 2D array\n",
    "prediction = model.predict(X_new)\n",
    "\n",
    "# Get the first element of the first prediction\n",
    "first_prediction = prediction[0][0]\n",
    "\n",
    "# Reverse the scaling to get the actual number (dollars)\n",
    "# The constants are min and max of the dataset so we will use those numbers\n",
    "first_prediction = first_prediction + 0.1159\n",
    "first_prediction = first_prediction / 0.000003698\n",
    "\n",
    "# Print prediction *$265k\n",
    "print('Earnings Prediction for the First Proposed Product - ${}'.format(first_prediction))"
   ]
  },
  {
   "cell_type": "markdown",
   "metadata": {},
   "source": [
    "Hierarchical Data Format (HDF) is a set of file formats (HDF4, HDF5) designed to store and organize large amounts of data.\n",
    "\n",
    "It's a binary file format designed for storing Python array data."
   ]
  },
  {
   "cell_type": "markdown",
   "metadata": {},
   "source": [
    "### 4. Saving and loading models"
   ]
  },
  {
   "cell_type": "code",
   "execution_count": null,
   "metadata": {},
   "outputs": [],
   "source": [
    "# Save the model to disk (structure of neural network and trained weights)\n",
    "model.save('trained_model.h5') # pass in file name and store it in a hdf5 format\n",
    "\n",
    "print('Model is saved to disk as trained_model.h5')"
   ]
  },
  {
   "cell_type": "code",
   "execution_count": null,
   "metadata": {},
   "outputs": [],
   "source": [
    "# Load the model\n",
    "model.load_model('trained_model.h5')"
   ]
  }
 ],
 "metadata": {
  "kernelspec": {
   "display_name": "Python 3.6 (TensorFlow)",
   "language": "python",
   "name": "tf-test"
  },
  "language_info": {
   "codemirror_mode": {
    "name": "ipython",
    "version": 3
   },
   "file_extension": ".py",
   "mimetype": "text/x-python",
   "name": "python",
   "nbconvert_exporter": "python",
   "pygments_lexer": "ipython3",
   "version": "3.6.8"
  }
 },
 "nbformat": 4,
 "nbformat_minor": 2
}
