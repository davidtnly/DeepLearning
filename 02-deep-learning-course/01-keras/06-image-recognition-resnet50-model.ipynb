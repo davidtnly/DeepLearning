{
 "cells": [
  {
   "cell_type": "markdown",
   "metadata": {},
   "source": [
    "# Pre-Trained Models in Keras\n",
    "- VGG (Visual Geometry Group at the University of Oxford)\n",
    "- ResNet50 (Microsoft Research)\n",
    "- Inception-v3 (Google)\n",
    "- Xception (Francois Chollet)"
   ]
  },
  {
   "cell_type": "markdown",
   "metadata": {},
   "source": [
    "### ResNet50 Deep Neural Network\n",
    "\n",
    "Model included with Keras to recognize objects and images."
   ]
  },
  {
   "cell_type": "code",
   "execution_count": null,
   "metadata": {},
   "outputs": [],
   "source": [
    "# Import libraries\n",
    "import numpy as np\n",
    "import pandas as pd\n",
    "from keras.preprocessing import image\n",
    "from keras.applications import resnet50\n",
    "\n",
    "# Load ResNet50 model object\n",
    "model = resnet50.ResNet50()\n",
    "\n",
    "# Load image file, resize it 224x224 pixels (required by model)\n",
    "img = image.load_img('Data/bay.jpg', target_size=(224, 224)) \n",
    "\n",
    "'''\n",
    "- Use image.load_img function with a tuple of 224x224 which will scale the image down to that size\n",
    "\n",
    "- Keeping the image size small helps limit the number of neurons you need in a neural network which \n",
    "    makes the models more practical to train.\n",
    "    \n",
    "- When you feed images into a neural network the size of the image needs to match the number of input \n",
    "    nodes in the neural network\n",
    "'''\n",
    "\n",
    "# Convert the image to a numpy array (array of plain numbers that we can feed into the nn)\n",
    "x = image.img_to_array(img) # change 3D image where width, height, color = 3D\n",
    "\n",
    "'''\n",
    "- The neural network expects us to pass in an array and multiple images at once but there's only one right now. \n",
    "    This can be fixed by adding a fourth dimension to the array by using NumPy's expand dims function. Basically,\n",
    "    we need to turn one image into an array of multiple images with just one element.\n",
    "'''\n",
    "\n",
    "# Add a fourth dimension since Keras expects a list of images\n",
    "x = np.expand_dims(x, axis=0) # first axis\n",
    "\n",
    "# Scale the input image to the range used in the trained network\n",
    "scaled_x = resnet50.preprocess_input(x) # normalized data\n",
    "\n",
    "# Run each image through the deep neural network to make a prediction\n",
    "predictions = model.predict(scaled_x) # pass in scaled data to return a predictions object\n",
    "\n",
    "''' \n",
    "- The predictions object is a 1,000 element array of floating point numbers.\n",
    "\n",
    "- Each element in the array tells us how likely our picture contains each of 1,000 objects\n",
    "    the model is trained to recognize.\n",
    "\n",
    "- To make things easier, the ResNet50 model provides a decode predictions function that will\n",
    "    tell us the name of the most likely matches instead of making us check all 1,000 possible entries.\n",
    "'''\n",
    "\n",
    "# Look up the names of the predicted classes. Index zero is the results for the predicted classes\n",
    "predicted_classes = resnet50.decode_predictions(predictions, top=9) # pass in predictions object; defaults to top 5\n",
    "\n",
    "# Loop through the results\n",
    "print('This is an image of:')\n",
    "for imagenet_id, name, likelihood in predicted_classes[0]:\n",
    "    print(' - {}: {:2f} likelihood'.format(name, likelihood))"
   ]
  }
 ],
 "metadata": {
  "kernelspec": {
   "display_name": "Python 3.6 (TensorFlow)",
   "language": "python",
   "name": "tf-test"
  },
  "language_info": {
   "codemirror_mode": {
    "name": "ipython",
    "version": 3
   },
   "file_extension": ".py",
   "mimetype": "text/x-python",
   "name": "python",
   "nbconvert_exporter": "python",
   "pygments_lexer": "ipython3",
   "version": "3.6.8"
  }
 },
 "nbformat": 4,
 "nbformat_minor": 2
}
