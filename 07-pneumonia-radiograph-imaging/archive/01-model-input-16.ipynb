{
 "cells": [
  {
   "cell_type": "markdown",
   "metadata": {},
   "source": [
    "## Model Architecture\n",
    "\n",
    "The first model here is a multi-layer architecture consisting of alternating separable and normal convolutions and nonlinearities. These layers are followed by fully connected layers leading into a sigmoid. The model follows the architecture similar to VGG16 by K. Simonyan and A. Zisserman.\n",
    "\n",
    "This model achieves a peak performance of about 94% accuracy within 11 minutes of training time on a GPU. It consists of 2,313,441 learnable parameters."
   ]
  },
  {
   "cell_type": "markdown",
   "metadata": {},
   "source": [
    "## Load libraries"
   ]
  },
  {
   "cell_type": "code",
   "execution_count": null,
   "metadata": {},
   "outputs": [],
   "source": [
    "# Toolbox\n",
    "from pathlib import Path\n",
    "from PIL import Image\n",
    "from skimage.io import imread\n",
    "from skimage.transform import resize\n",
    "import imgaug as aug\n",
    "import imgaug.augmenters as imaug\n",
    "import os\n",
    "import numpy as np\n",
    "import pandas as pd \n",
    "import seaborn as sns\n",
    "import random\n",
    "import sys\n",
    "import matplotlib.pyplot as plt\n",
    "%matplotlib inline\n",
    "\n",
    "# Deep learning libraries\n",
    "from keras.models import Model, Sequential\n",
    "from keras.layers import Input, Dense, Flatten, Dropout, BatchNormalization\n",
    "from keras.layers import Conv2D, SeparableConv2D, MaxPool2D, LeakyReLU, ReLU, Activation\n",
    "from keras.optimizers import Adam, SGD, RMSprop\n",
    "from keras.preprocessing.image import ImageDataGenerator\n",
    "from keras.callbacks import ModelCheckpoint, ReduceLROnPlateau, EarlyStopping\n",
    "import keras\n",
    "import tensorflow as tf\n",
    "import tensorflow.keras\n",
    "import cv2\n",
    "\n",
    "# Machine Learning libraries\n",
    "from sklearn.model_selection import train_test_split\n",
    "from sklearn.preprocessing import StandardScaler\n",
    "from sklearn.metrics import confusion_matrix\n",
    "from sklearn.metrics import f1_score, recall_score, precision_score, roc_auc_score, f1_score, accuracy_score\n",
    "from sklearn.metrics import precision_recall_curve, auc\n",
    "from mlxtend.plotting import plot_confusion_matrix\n",
    "\n",
    "# Misc\n",
    "import os\n",
    "import warnings\n",
    "warnings.filterwarnings(action='ignore')\n",
    "\n",
    "# Preset data display\n",
    "pd.options.display.max_seq_items = 1000\n",
    "pd.options.display.max_rows =1000\n",
    "pd.set_option('display.max_columns', 50)\n",
    "pd.set_option('display.max_colwidth', 500)\n",
    "\n",
    "# Set notebook colors and palette\n",
    "flatui = ['#9b59b6', '#3498db', '#95a5a6', '#e74c3c', '#34495e', '#2ecc71']\n",
    "sns.set_palette(flatui)\n",
    "sns.palplot(sns.color_palette(flatui))\n",
    "sns.set_style('white')\n",
    "sns.set_color_codes(palette='deep')\n",
    "# Favorite code to use: #34995e\n",
    "\n",
    "# Setting seeds for reproducibility\n",
    "seed = 100\n",
    "np.random.seed(seed)\n",
    "tf.set_random_seed(seed)"
   ]
  },
  {
   "cell_type": "code",
   "execution_count": null,
   "metadata": {},
   "outputs": [],
   "source": [
    "print('These are the current versions working for me as of 2019-08-07')\n",
    "print(f\"OpenCV Version: {cv2.__version__}\")\n",
    "print(f\"TensorFlow Version: {tf.__version__}\")\n",
    "print(f\"TensorFlow Keras Version: {tensorflow.keras.__version__}\")\n",
    "print(f\"Keras Version: {keras.__version__}\")\n",
    "print()\n",
    "print(\"TensorFlow-GPU is\", \"available\" if tf.test.is_gpu_available() else \"NOT AVAILABLE\")\n",
    "print(f\"TensorFlow CUDA: {tf.test.is_built_with_cuda()}\")\n",
    "print(f\"Tensorflow GPU Device Currently Activated: {tf.test.gpu_device_name()}\")\n",
    "print(f\"Keras GPU: {keras.backend.tensorflow_backend._get_available_gpus()}\")\n",
    "print()\n",
    "print(f\"TF Session: {tf.Session()}\")\n",
    "print()\n",
    "print(f\"Python {sys.version}\")"
   ]
  },
  {
   "cell_type": "markdown",
   "metadata": {},
   "source": [
    "## Define functions"
   ]
  },
  {
   "cell_type": "code",
   "execution_count": null,
   "metadata": {},
   "outputs": [],
   "source": [
    "def pct_bar_labels():\n",
    "    '''\n",
    "    Function used to label the relative frequency on top of each bars\n",
    "    '''\n",
    "    # Set font size\n",
    "    fs=15\n",
    "    \n",
    "    # Set plot label and ticks\n",
    "    plt.ylabel('Relative Frequency (%)', fontsize=fs)\n",
    "    plt.xticks(rotation=0, fontsize=fs)\n",
    "    plt.yticks([])\n",
    "    \n",
    "    # Set individual bar labels in proportional scale\n",
    "    for x in ax1.patches:\n",
    "        ax1.annotate(str(x.get_height()) + '%', \n",
    "        (x.get_x() + x.get_width()/2., x.get_height()), ha='center', va='center', xytext=(0, 7), \n",
    "        textcoords='offset points', fontsize=fs, color='black')\n",
    "\n",
    "def freq_table(var):\n",
    "    '''\n",
    "    Define plot global variables\n",
    "    Create a function that will populate a frequency table (%)\n",
    "    Get counts per feature then get the percentage over the total counts\n",
    "    '''\n",
    "    global ax, ax1\n",
    "    \n",
    "    # Get Values and pct and combine it into a dataframe\n",
    "    count_freq = var.value_counts()\n",
    "    pct_freq = round(var.value_counts(normalize=True)*100, 2)\n",
    "    \n",
    "    # Create a dataframe\n",
    "    df = pd.DataFrame({'Count': count_freq, 'Percentage': pct_freq})\n",
    "    \n",
    "    # Print variable name\n",
    "    print('Frequency of', var.name, ':')\n",
    "    display(df)\n",
    "    \n",
    "    # Create plot\n",
    "    ax1 = pct_freq.plot.bar(title='Percentage of {}'.format(var.name), figsize=(12,8))\n",
    "    ax1.title.set_size(15)\n",
    "    pct_bar_labels()\n",
    "    plt.show()\n",
    "    \n",
    "# Define a null function\n",
    "def get_nulls(df):\n",
    "    \n",
    "    # Get null pct and counts\n",
    "    null_cols = pd.DataFrame(df.isnull().sum().sort_values(ascending=False), columns=['Null Data Count'])\n",
    "    null_cols_pct = pd.DataFrame(round(df.isnull().sum().sort_values(ascending=False)/len(df),2), columns=['Null Data Pct'])\n",
    "\n",
    "    # Combine dataframes horizontally\n",
    "    null_cols_df = pd.DataFrame(pd.concat([null_cols, null_cols_pct], axis=1))\n",
    "\n",
    "    all_nulls = null_cols_df[null_cols_df['Null Data Pct']>0]\n",
    "\n",
    "    # Print\n",
    "    print('There are', len(all_nulls), 'columns with missing values.')\n",
    "    return all_nulls\n",
    "\n",
    "# Define plot_nulls function\n",
    "def plot_nulls(train):\n",
    "    # Get null pct and counts\n",
    "    null_cols = pd.DataFrame(train.isnull().sum().sort_values(ascending=False), columns=['Null Data Count'])\n",
    "    null_cols_pct = pd.DataFrame(round(train.isnull().sum().sort_values(ascending=False)/len(train),2)*100, columns=['Null Data %'])\n",
    "\n",
    "    # Combine horizontally (axis=1) into a dataframe with column names (keys=[]) then to a data frame\n",
    "    null_cols_df = pd.DataFrame(pd.concat([null_cols, null_cols_pct], axis=1))\n",
    "\n",
    "    all_nulls = null_cols_df[null_cols_df['Null Data %']>0]\n",
    "\n",
    "    # Create figure space\n",
    "    plt.figure(figsize=(12, 8))\n",
    "\n",
    "    # Create plot\n",
    "    sns.barplot(x=all_nulls.index,\n",
    "                y='Null Data %',\n",
    "                data=all_nulls)\n",
    "\n",
    "    # Set plot features\n",
    "    plt.xticks(rotation='90')\n",
    "    plt.xlabel('Features', fontsize=15)\n",
    "    plt.ylabel('Percent of Missing Values', fontsize=15)\n",
    "    plt.title('Percent of Missing Data by Features', fontsize=15)\n",
    "    plt.show()\n"
   ]
  },
  {
   "cell_type": "markdown",
   "metadata": {},
   "source": [
    "## Set directory"
   ]
  },
  {
   "cell_type": "code",
   "execution_count": null,
   "metadata": {},
   "outputs": [],
   "source": [
    "# Set directory\n",
    "PATH = 'C:\\\\Users\\\\' + os.getlogin() + '\\\\Documents\\\\Programming\\\\DeepLearning\\\\07-pneunomia-radiograph-imaging\\\\images'\n",
    "os.chdir(PATH)\n",
    "os.getcwd()\n",
    "os.listdir()"
   ]
  },
  {
   "cell_type": "code",
   "execution_count": null,
   "metadata": {},
   "outputs": [],
   "source": [
    "# Use Path\n",
    "MAIN_PATH = Path(PATH)\n",
    "\n",
    "# Path to train directory (Fancy pathlib...no more os.path!!)\n",
    "train_dir = MAIN_PATH / 'train'\n",
    "\n",
    "# Path to validation directory\n",
    "val_dir = MAIN_PATH / 'val'\n",
    "\n",
    "# Path to test directory\n",
    "test_dir = MAIN_PATH / 'test'"
   ]
  },
  {
   "cell_type": "markdown",
   "metadata": {},
   "source": [
    "## Training images"
   ]
  },
  {
   "cell_type": "code",
   "execution_count": null,
   "metadata": {},
   "outputs": [],
   "source": [
    "# Path to training images\n",
    "normal_cases_dir = train_dir / 'NORMAL'\n",
    "pneunomia_cases_dir = train_dir / 'PNEUMONIA'\n",
    "\n",
    "# List of all images for training\n",
    "normal_cases = normal_cases_dir.glob('*.jpeg')\n",
    "pneumonia_cases = pneunomia_cases_dir.glob('*.jpeg')\n",
    "\n",
    "# Create empty list to store the training data\n",
    "train_data = []\n",
    "\n",
    "# Loop through normal images and label = 0\n",
    "for img in normal_cases:\n",
    "    train_data.append((img, 0))\n",
    "    \n",
    "# Loop through pneunomia images and label = 1\n",
    "for img in pneumonia_cases:\n",
    "    train_data.append((img, 1))\n",
    "    \n",
    "# Create a dataframe\n",
    "train_data = pd.DataFrame(train_data, columns=['image', 'label'], index=None)\n",
    "\n",
    "# Shuffle\n",
    "train_data = train_data.sample(frac=1).reset_index(drop=True)"
   ]
  },
  {
   "cell_type": "code",
   "execution_count": null,
   "metadata": {},
   "outputs": [],
   "source": [
    "train_data.head()"
   ]
  },
  {
   "cell_type": "markdown",
   "metadata": {},
   "source": [
    "## Testing images"
   ]
  },
  {
   "cell_type": "code",
   "execution_count": null,
   "metadata": {},
   "outputs": [],
   "source": [
    "# Path to testing images\n",
    "normal_cases_dir = test_dir / 'NORMAL'\n",
    "pneunomia_cases_dir = test_dir / 'PNEUMONIA'\n",
    "\n",
    "# List of all images for training\n",
    "normal_cases = normal_cases_dir.glob('*.jpeg')\n",
    "pneumonia_cases = pneunomia_cases_dir.glob('*.jpeg')\n",
    "\n",
    "# Create empty list to store the training data\n",
    "test_data = []\n",
    "\n",
    "# Loop through normal images and label = 0\n",
    "for img in normal_cases:\n",
    "    test_data.append((img, 0))\n",
    "    \n",
    "# Loop through pneunomia images and label = 1\n",
    "for img in pneumonia_cases:\n",
    "    test_data.append((img, 1))\n",
    "    \n",
    "# Create a dataframe\n",
    "test_data = pd.DataFrame(test_data, columns=['image', 'label'], index=None)\n",
    "\n",
    "# # Shuffle\n",
    "# test_data = test_data.sample(frac=1).reset_index(drop=True)"
   ]
  },
  {
   "cell_type": "markdown",
   "metadata": {},
   "source": [
    "Try out different ways from other kernels on pulling images to test speed/readability."
   ]
  },
  {
   "cell_type": "markdown",
   "metadata": {},
   "source": [
    "## Pneunomia vs. Normal Scans"
   ]
  },
  {
   "cell_type": "code",
   "execution_count": null,
   "metadata": {},
   "outputs": [],
   "source": [
    "# Get a few samples for both of the classes\n",
    "pneumonia_samples = (train_data[train_data['label']==1]['image'].iloc[:3]).tolist()\n",
    "normal_samples = (train_data[train_data['label']==0]['image'].iloc[:3]).tolist()\n",
    "\n",
    "# Concat the data in a single list and del the above two list\n",
    "samples = pneumonia_samples + normal_samples\n",
    "\n",
    "# Plot the data \n",
    "f, ax = plt.subplots(2, 3, figsize=(30, 14))\n",
    "\n",
    "for i in range(6):\n",
    "    # Read image\n",
    "    img = imread(samples[i])\n",
    "    # Show image\n",
    "    ax[i//3, i%3].imshow(img, cmap='gray')\n",
    "    ax[i//3, i%3].set_aspect('auto') # fixes alignment issues\n",
    "    # Set title\n",
    "    if i<3:\n",
    "        ax[i//3, i%3].set_title('Pneumonia', fontsize=12)\n",
    "    else:\n",
    "        ax[i//3, i%3].set_title('Normal', fontsize=12)\n",
    "plt.show()"
   ]
  },
  {
   "cell_type": "markdown",
   "metadata": {},
   "source": [
    "I'm still unsure on to better classify the images myself. The normal images do look more clear vs. ones that are classified as pneunomia."
   ]
  },
  {
   "cell_type": "code",
   "execution_count": null,
   "metadata": {},
   "outputs": [],
   "source": [
    "# Show an image path\n",
    "print(pneumonia_samples[1])\n",
    "del pneumonia_samples, normal_samples"
   ]
  },
  {
   "cell_type": "markdown",
   "metadata": {},
   "source": [
    "## Explore"
   ]
  },
  {
   "cell_type": "code",
   "execution_count": null,
   "metadata": {
    "scrolled": false
   },
   "outputs": [],
   "source": [
    "freq_table(train_data['label'])"
   ]
  },
  {
   "cell_type": "markdown",
   "metadata": {},
   "source": [
    "The label images are unbalanced by 25% so we have to decide if we need more data to train (acquire new images, image augmentations) or downsize the dataset where it's balanced."
   ]
  },
  {
   "cell_type": "markdown",
   "metadata": {},
   "source": [
    "## Validation data"
   ]
  },
  {
   "cell_type": "code",
   "execution_count": null,
   "metadata": {},
   "outputs": [],
   "source": [
    "# Path to training images\n",
    "normal_cases_dir = val_dir / 'NORMAL'\n",
    "pneunomia_cases_dir = val_dir / 'PNEUMONIA'\n",
    "\n",
    "# List of all images for training\n",
    "normal_cases = normal_cases_dir.glob('*.jpeg')\n",
    "pneumonia_cases = pneunomia_cases_dir.glob('*.jpeg')\n",
    "\n",
    "# Create empty list to store the validation data\n",
    "val_data = []\n",
    "\n",
    "# Loop through normal images and label = 0\n",
    "for img in normal_cases:\n",
    "    val_data.append((img, 0))\n",
    "    \n",
    "# Loop through pneunomia images and label = 1\n",
    "for img in pneumonia_cases:\n",
    "    val_data.append((img, 1))\n",
    "    \n",
    "# Create a dataframe\n",
    "val_data = pd.DataFrame(val_data, columns=['image', 'label'], index=None)"
   ]
  },
  {
   "cell_type": "code",
   "execution_count": null,
   "metadata": {},
   "outputs": [],
   "source": [
    "val_data.groupby('label').count()"
   ]
  },
  {
   "cell_type": "markdown",
   "metadata": {},
   "source": [
    "There's not a lot of validation data available so we have to check other methods in gathering more images or use the test set."
   ]
  },
  {
   "cell_type": "markdown",
   "metadata": {},
   "source": [
    "## Testing data\n",
    "\n",
    "Confirm that we have the testing data."
   ]
  },
  {
   "cell_type": "code",
   "execution_count": null,
   "metadata": {},
   "outputs": [],
   "source": [
    "test_data[0:3]"
   ]
  },
  {
   "cell_type": "markdown",
   "metadata": {},
   "source": [
    "## Generating images\n",
    "\n",
    "Keras allows for image augmentation. This is where we generate batches of image data with real time data augmentation. The data will be looped over in batches indefinitely. I also tested it out in one of my development notebooks [here](https://github.com/davidtnly/DeepLearning/blob/master/00-development/12-image-augment.ipynb).\n",
    "\n",
    "[TensorFlow Keras ImageDataGenerator Doc](https://www.tensorflow.org/api_docs/python/tf/keras/preprocessing/image/ImageDataGenerator)"
   ]
  },
  {
   "cell_type": "code",
   "execution_count": null,
   "metadata": {},
   "outputs": [],
   "source": [
    "# Use ImageDataGenerator to feed into the network in batch sizes\n",
    "train_datagen = tf.keras.preprocessing.image.ImageDataGenerator(\n",
    "    rescale=1./255,\n",
    "    zoom_range=0.3,\n",
    "    vertical_flip=True,\n",
    "    horizontal_flip=True\n",
    ")\n",
    "\n",
    "test_datagen = tf.keras.preprocessing.image.ImageDataGenerator(\n",
    "    rescale=1./255,\n",
    "    zoom_range=0.3,\n",
    "    vertical_flip=True,\n",
    "    horizontal_flip=True\n",
    ")\n",
    "\n",
    "# Set paths and parameters\n",
    "train_gen_path = MAIN_PATH / 'train_gen'\n",
    "test_gen_path = MAIN_PATH / 'test_gen'\n",
    "seed=100\n",
    "\n",
    "# Set generation object path\n",
    "train_gen = train_datagen.flow_from_directory(\n",
    "    directory=train_dir,\n",
    "    target_size=(150, 150),\n",
    "    class_mode='binary',\n",
    "    batch_size=32,\n",
    "    shuffle=True,\n",
    "    seed=seed,\n",
    "    save_to_dir=train_gen_path\n",
    ")\n",
    "\n",
    "test_gen = test_datagen.flow_from_directory(\n",
    "    directory=test_dir,\n",
    "    target_size=(150, 150),\n",
    "    class_mode='binary',\n",
    "    batch_size=32,\n",
    "    shuffle=True,\n",
    "    seed=seed,\n",
    "    save_to_dir=test_gen_path\n",
    ")"
   ]
  },
  {
   "cell_type": "markdown",
   "metadata": {},
   "source": [
    "## Get test data arrays"
   ]
  },
  {
   "cell_type": "code",
   "execution_count": null,
   "metadata": {},
   "outputs": [],
   "source": [
    "test_data.groupby('label').count()"
   ]
  },
  {
   "cell_type": "code",
   "execution_count": null,
   "metadata": {},
   "outputs": [],
   "source": [
    "test_data_arrays = []\n",
    "test_labels = []\n",
    "\n",
    "# Loop through the test data\n",
    "for num in range(test_data.image.count()):\n",
    "    for img in test_data:\n",
    "        # Read the image path and resize to (150, 150)\n",
    "        img = plt.imread(test_data.iloc[num].image)\n",
    "        img = cv2.resize(img, (150, 150))\n",
    "        # Convert to 3D and scale\n",
    "        img = np.dstack([img, img, img])\n",
    "        img = img.astype('float32') / 255\n",
    "        label = test_data.iloc[num].label\n",
    "        \n",
    "        # Append to list\n",
    "        test_data_arrays.append(img)\n",
    "        test_labels.append(label)\n",
    "\n",
    "# Convert to arrays\n",
    "test_data_arrays = np.array(test_data_arrays)\n",
    "test_labels = np.array(test_labels)"
   ]
  },
  {
   "cell_type": "code",
   "execution_count": null,
   "metadata": {},
   "outputs": [],
   "source": [
    "test_labels.sum()"
   ]
  },
  {
   "cell_type": "code",
   "execution_count": null,
   "metadata": {},
   "outputs": [],
   "source": [
    "# Confirm path, image, label, and arrays\n",
    "\n",
    "# print('image path: ', test_data.iloc[0].image)\n",
    "# print('label: ', test_data.iloc[0].label)\n",
    "# print(img[0:])"
   ]
  },
  {
   "cell_type": "markdown",
   "metadata": {},
   "source": [
    "## Modeling"
   ]
  },
  {
   "cell_type": "code",
   "execution_count": null,
   "metadata": {},
   "outputs": [],
   "source": [
    "# Define model parameters\n",
    "EPOCHS = 10\n",
    "BATCH_SIZE = 32\n",
    "\n",
    "# Build the neural network\n",
    "def build_model():\n",
    "    \n",
    "    # Input layer\n",
    "    inputs = Input(shape=(150, 150, 3), name='input_layer')\n",
    "    \n",
    "    # First convolutional block\n",
    "    x = Conv2D(filters=16, kernel_size=(3, 3), activation='relu', padding='same', name='conv1_1')(inputs)\n",
    "    x = Conv2D(filters=16, kernel_size=(3, 3), activation='relu', padding='same', name='conv1_2')(x)\n",
    "    x = MaxPool2D(pool_size=(2, 2), name='pool1_1')(x) # max pooling operation for spatial data\n",
    "    \n",
    "    # Second convolutional block\n",
    "    x = SeparableConv2D(filters=32, kernel_size=(3, 3), activation='relu', padding='same', name='conv2_1')(x)\n",
    "    x = BatchNormalization(name='bn2_1')(x) # stabilizing the learning process; reduce internal covariate shifting\n",
    "    x = SeparableConv2D(filters=32, kernel_size=(3, 3), activation='relu', padding='same', name='conv2_2')(x)\n",
    "    x = BatchNormalization(name='bn2_2')(x) \n",
    "    x = MaxPool2D(pool_size=(2, 2), name='pool2_1')(x)\n",
    "    \n",
    "    # Third convolutional block\n",
    "    x = SeparableConv2D(filters=64, kernel_size=(3, 3), activation='relu', padding='same', name='conv3_1')(x)\n",
    "    x = SeparableConv2D(filters=64, kernel_size=(3, 3), activation='relu', padding='same', name='conv3_2')(x)\n",
    "    x = BatchNormalization(name='bn3_1')(x) \n",
    "    x = MaxPool2D(pool_size=(2, 2), name='pool3_1')(x)   \n",
    "    \n",
    "    # Fourth convolutional block\n",
    "    x = SeparableConv2D(filters=128, kernel_size=(3, 3), activation='relu', padding='same', name='conv4_1')(x)\n",
    "    x = SeparableConv2D(filters=128, kernel_size=(3, 3), activation='relu', padding='same', name='conv4_2')(x)\n",
    "    x = BatchNormalization(name='bn4_1')(x) \n",
    "    x = MaxPool2D(pool_size=(2, 2), name='pool4_1')(x)\n",
    "    x = Dropout(rate=0.20, name='dropout4_1')(x) # prevent network from overfitting; probabilistically reduce the network capacity\n",
    "    \n",
    "    # Fifth convolutional block\n",
    "    x = SeparableConv2D(filters=256, kernel_size=(3, 3), activation='relu', padding='same', name='conv5_1')(x)\n",
    "    x = SeparableConv2D(filters=256, kernel_size=(3, 3), activation='relu', padding='same', name='conv5_2')(x)\n",
    "    x = BatchNormalization(name='bn5_1')(x) \n",
    "    x = MaxPool2D(pool_size=(2, 2), name='pool5_1')(x)\n",
    "    x = Dropout(rate=0.30, name='dropout5_1')(x) \n",
    "    \n",
    "    # Fully connected block\n",
    "    x = Flatten(name='flatten6_1')(x)\n",
    "    x = Dense(512, activation='relu', name='fc6_1')(x)\n",
    "    x = Dropout(rate=0.7, name='dropout6_1')(x)\n",
    "    x = Dense(128, activation='relu', name='fc6_2')(x)\n",
    "    x = Dropout(rate=0.5, name='dropout6_2')(x)\n",
    "    x = Dense(64, activation='relu', name='fc6_3')(x)\n",
    "    x = Dropout(rate=0.3, name='dropout6_3')(x)\n",
    "    \n",
    "    # Output\n",
    "    output = Dense(units=1, activation='sigmoid', name='output')(x) # 1 so fewer parameters and computation are needed\n",
    "    \n",
    "    # Define model\n",
    "    model = Model(inputs=inputs, outputs=output)\n",
    "    return model"
   ]
  },
  {
   "cell_type": "code",
   "execution_count": null,
   "metadata": {},
   "outputs": [],
   "source": [
    "model =  build_model()\n",
    "model.summary()"
   ]
  },
  {
   "cell_type": "code",
   "execution_count": null,
   "metadata": {},
   "outputs": [],
   "source": [
    "def FindBatchSize(model):\n",
    "    \"\"\"#model: model architecture, that is yet to be trained\"\"\"\n",
    "    import os, sys, psutil, gc, tensorflow, keras\n",
    "    import numpy as np\n",
    "    from keras import backend as K\n",
    "    BatchFound= 16\n",
    "\n",
    "    try:\n",
    "        total_params= int(model.count_params());    GCPU= \"CPU\"\n",
    "        #find whether gpu is available\n",
    "        try:\n",
    "            if K.tensorflow_backend._get_available_gpus()== []:\n",
    "                GCPU= \"CPU\";    #CPU and Cuda9GPU\n",
    "            else:\n",
    "                GCPU= \"GPU\"\n",
    "        except:\n",
    "            from tensorflow.python.client import device_lib;    #Cuda8GPU\n",
    "            def get_available_gpus():\n",
    "                local_device_protos= device_lib.list_local_devices()\n",
    "                return [x.name for x in local_device_protos if x.device_type == 'GPU']\n",
    "            if \"gpu\" not in str(get_available_gpus()).lower():\n",
    "                GCPU= \"CPU\"\n",
    "            else:\n",
    "                GCPU= \"GPU\"\n",
    "\n",
    "        #decide batch size on the basis of GPU availability and model complexity\n",
    "        if (GCPU== \"GPU\") and (os.cpu_count() >15) and (total_params <1000000):\n",
    "            BatchFound= 64    \n",
    "        if (os.cpu_count() <16) and (total_params <500000):\n",
    "            BatchFound= 64  \n",
    "        if (GCPU== \"GPU\") and (os.cpu_count() >15) and (total_params <2000000) and (total_params >=1000000):\n",
    "            BatchFound= 32      \n",
    "        if (GCPU== \"GPU\") and (os.cpu_count() >15) and (total_params >=2000000) and (total_params <10000000):\n",
    "            BatchFound= 16  \n",
    "        if (GCPU== \"GPU\") and (os.cpu_count() >15) and (total_params >=10000000):\n",
    "            BatchFound= 8       \n",
    "        if (os.cpu_count() <16) and (total_params >5000000):\n",
    "            BatchFound= 8    \n",
    "        if total_params >100000000:\n",
    "            BatchFound= 1\n",
    "\n",
    "    except:\n",
    "        pass\n",
    "    try:\n",
    "\n",
    "        #find percentage of memory used\n",
    "        memoryused= psutil.virtual_memory()\n",
    "        memoryused= float(str(memoryused).replace(\" \", \"\").split(\"percent=\")[1].split(\",\")[0])\n",
    "        if memoryused >75.0:\n",
    "            BatchFound= 8\n",
    "        if memoryused >85.0:\n",
    "            BatchFound= 4\n",
    "        if memoryused >90.0:\n",
    "            BatchFound= 2\n",
    "        if total_params >100000000:\n",
    "            BatchFound= 1\n",
    "        print(\"Batch Size:  \"+ str(BatchFound));    gc.collect()\n",
    "    except:\n",
    "        pass\n",
    "\n",
    "    memoryused= [];    total_params= [];    GCPU= \"\";\n",
    "    del memoryused, total_params, GCPU;    gc.collect()\n",
    "    return BatchFound"
   ]
  },
  {
   "cell_type": "code",
   "execution_count": null,
   "metadata": {},
   "outputs": [],
   "source": [
    "FindBatchSize(model)"
   ]
  },
  {
   "cell_type": "markdown",
   "metadata": {},
   "source": [
    "## Compile the model\n",
    "\n",
    "The primary use case is to automatically save checkpoints during and at the end of training. This way you can use a trained model without having to retrain it, or pick-up training where you left of—in case the training process was interrupted."
   ]
  },
  {
   "cell_type": "code",
   "execution_count": 21,
   "metadata": {},
   "outputs": [],
   "source": [
    "# Creating model and compiling\n",
    "model.compile(optimizer='adam', loss='binary_crossentropy', metrics=['accuracy'])\n",
    "\n",
    "# Save weights\n",
    "# checkpoint_path = '../model_2/best_weights-cp-{epoch:04d}.ckpt'\n",
    "# checkpoint_dir = os.path.dirname(checkpoint_path)\n",
    "\n",
    "checkpoint = ModelCheckpoint(\n",
    "                             #filepath=checkpoint_path,\n",
    "                             #period=5, # save every 5 epochs\n",
    "                             filepath='best_weights_model_16.hdf5',\n",
    "                             save_best_only=True,\n",
    "                             save_weights_only=True)\n",
    "\n",
    "# Callbacks - view internal states and statistics of the model during training\n",
    "lr_reduce = ReduceLROnPlateau(monitor='val_loss',\n",
    "                              factor=0.2,\n",
    "                              patience=2,\n",
    "                              verbose=2,\n",
    "                              mode='max')\n",
    "\n",
    "# Stop if model is not improving\n",
    "early_stop = EarlyStopping(monitor='val_loss',\n",
    "                           min_delta=0.1,\n",
    "                           patience=1,\n",
    "                           mode='min')"
   ]
  },
  {
   "cell_type": "code",
   "execution_count": 22,
   "metadata": {},
   "outputs": [
    {
     "name": "stdout",
     "output_type": "stream",
     "text": [
      "WARNING:tensorflow:From C:\\Users\\David Ly\\Anaconda3\\envs\\tf-test\\lib\\site-packages\\tensorflow\\python\\ops\\math_ops.py:3066: to_int32 (from tensorflow.python.ops.math_ops) is deprecated and will be removed in a future version.\n",
      "Instructions for updating:\n",
      "Use tf.cast instead.\n",
      "Epoch 1/2\n",
      "163/163 [==============================] - 84s 514ms/step - loss: 0.3509 - acc: 0.8355 - val_loss: 0.4308 - val_acc: 0.8059\n",
      "Epoch 2/2\n",
      "163/163 [==============================] - 79s 484ms/step - loss: 0.2893 - acc: 0.8733 - val_loss: 0.5105 - val_acc: 0.7348\n"
     ]
    }
   ],
   "source": [
    "# final_model = model.fit_generator(\n",
    "#     train_gen, \n",
    "#     steps_per_epoch=train_gen.samples // BATCH_SIZE,\n",
    "#     epochs=2,\n",
    "#     validation_data=test_gen,\n",
    "#     validation_steps=test_gen.samples // BATCH_SIZE,\n",
    "#     callbacks=[checkpoint, lr_reduce] # early_stop\n",
    "# )"
   ]
  },
  {
   "cell_type": "markdown",
   "metadata": {},
   "source": [
    "## Fitting the model"
   ]
  },
  {
   "cell_type": "code",
   "execution_count": 22,
   "metadata": {},
   "outputs": [
    {
     "name": "stdout",
     "output_type": "stream",
     "text": [
      "WARNING:tensorflow:From C:\\Users\\David Ly\\Anaconda3\\envs\\tf-test\\lib\\site-packages\\tensorflow\\python\\ops\\math_ops.py:3066: to_int32 (from tensorflow.python.ops.math_ops) is deprecated and will be removed in a future version.\n",
      "Instructions for updating:\n",
      "Use tf.cast instead.\n",
      "Epoch 1/10\n",
      "163/163 [==============================] - 86s 530ms/step - loss: 0.3496 - acc: 0.8359 - val_loss: 1.6970 - val_acc: 0.6628\n",
      "Epoch 2/10\n",
      "163/163 [==============================] - 82s 501ms/step - loss: 0.3018 - acc: 0.8714 - val_loss: 1.3901 - val_acc: 0.4003\n",
      "Epoch 3/10\n",
      "163/163 [==============================] - 81s 499ms/step - loss: 0.2625 - acc: 0.8859 - val_loss: 0.6162 - val_acc: 0.6486\n",
      "\n",
      "Epoch 00003: ReduceLROnPlateau reducing learning rate to 0.00020000000949949026.\n",
      "Epoch 4/10\n",
      "163/163 [==============================] - 81s 498ms/step - loss: 0.2217 - acc: 0.9137 - val_loss: 0.4259 - val_acc: 0.8429\n",
      "Epoch 5/10\n",
      "163/163 [==============================] - 80s 489ms/step - loss: 0.2173 - acc: 0.9195 - val_loss: 0.6519 - val_acc: 0.7922\n",
      "\n",
      "Epoch 00005: ReduceLROnPlateau reducing learning rate to 4.0000001899898055e-05.\n",
      "Epoch 6/10\n",
      "163/163 [==============================] - 82s 502ms/step - loss: 0.2002 - acc: 0.9239 - val_loss: 0.3138 - val_acc: 0.8919\n",
      "Epoch 7/10\n",
      "163/163 [==============================] - 83s 512ms/step - loss: 0.1847 - acc: 0.9316 - val_loss: 0.3497 - val_acc: 0.8784\n",
      "\n",
      "Epoch 00007: ReduceLROnPlateau reducing learning rate to 8.000000525498762e-06.\n",
      "Epoch 8/10\n",
      "163/163 [==============================] - 83s 507ms/step - loss: 0.1890 - acc: 0.9298 - val_loss: 0.3249 - val_acc: 0.8986\n",
      "Epoch 9/10\n",
      "163/163 [==============================] - 81s 500ms/step - loss: 0.1778 - acc: 0.9316 - val_loss: 0.3618 - val_acc: 0.8868\n",
      "\n",
      "Epoch 00009: ReduceLROnPlateau reducing learning rate to 1.6000001778593287e-06.\n",
      "Epoch 10/10\n",
      "163/163 [==============================] - 82s 501ms/step - loss: 0.1787 - acc: 0.9348 - val_loss: 0.3862 - val_acc: 0.8750\n"
     ]
    }
   ],
   "source": [
    "# final_model = model.fit_generator(\n",
    "#     train_gen, \n",
    "#     steps_per_epoch=train_gen.samples // BATCH_SIZE,\n",
    "#     epochs=EPOCHS,\n",
    "#     validation_data=test_gen,\n",
    "#     validation_steps=test_gen.samples // BATCH_SIZE,\n",
    "#     callbacks=[checkpoint, lr_reduce] # early_stop\n",
    "# )"
   ]
  },
  {
   "cell_type": "markdown",
   "metadata": {},
   "source": [
    "## Save model\n",
    "\n",
    "[Keras ModelCheckpoints](https://keras.io/callbacks/#modelcheckpoint)"
   ]
  },
  {
   "cell_type": "code",
   "execution_count": 28,
   "metadata": {},
   "outputs": [],
   "source": [
    "# callbacks.ModelCheckpoint(filepath, \n",
    "#                           monitor='val_loss',\n",
    "#                           verbose=0,\n",
    "#                           save_best_only=False,\n",
    "#                           save_weights_only=False,\n",
    "#                           mode='auto', period=5)\n",
    "# # final_model.save('final_model.h5')"
   ]
  },
  {
   "cell_type": "markdown",
   "metadata": {},
   "source": [
    "## Load model weights\n",
    "\n",
    "When restoring a model from only weights, you must have a model with the same architecture as the original model. Since it's the same model architecture, we can share weights despite that it's a different instance of the model."
   ]
  },
  {
   "cell_type": "code",
   "execution_count": null,
   "metadata": {},
   "outputs": [],
   "source": [
    "# # Load the model weights\n",
    "# model.load_weights('../best_weights_16.hdf5')"
   ]
  },
  {
   "cell_type": "code",
   "execution_count": null,
   "metadata": {},
   "outputs": [],
   "source": [
    "# model.load_weights('../best_weights_16.hdf5')\n",
    "# loss, acc = model.evaluate(test_images, test_labels)\n",
    "# print('Restored model, accuracy: {:5.2f}%'.format(100*acc))"
   ]
  },
  {
   "cell_type": "markdown",
   "metadata": {},
   "source": [
    "## Plotting accuracy and loss"
   ]
  },
  {
   "cell_type": "code",
   "execution_count": 29,
   "metadata": {},
   "outputs": [
    {
     "data": {
      "image/png": "[encoded data removed]",
      "text/plain": [
       "<Figure size 720x216 with 2 Axes>"
      ]
     },
     "metadata": {
      "needs_background": "light"
     },
     "output_type": "display_data"
    }
   ],
   "source": [
    "fig, ax = plt.subplots(1, 2, figsize=(10, 3))\n",
    "ax = ax.ravel()\n",
    "\n",
    "for i, j in enumerate(['acc', 'loss']):\n",
    "    ax[i].plot(final_model.history[j])\n",
    "    ax[i].plot(final_model.history['val_' + j])\n",
    "    ax[i].set_title('Model {}'.format(j))\n",
    "    ax[i].set_xlabel('epochs')\n",
    "    ax[i].set_ylabel(j)\n",
    "    ax[i].legend(['train', 'val'])"
   ]
  },
  {
   "cell_type": "code",
   "execution_count": 30,
   "metadata": {},
   "outputs": [
    {
     "data": {
      "image/png": "[encoded data removed]",
      "text/plain": [
       "<Figure size 432x288 with 1 Axes>"
      ]
     },
     "metadata": {
      "needs_background": "light"
     },
     "output_type": "display_data"
    }
   ],
   "source": [
    "# Plot\n",
    "def plot_loss(model):\n",
    "    hist = pd.DataFrame(model.history)\n",
    "    hist['epoch'] = model.epoch  \n",
    "    plt.figure(figsize=(6, 4))\n",
    "    plt.xlabel('Epoch')\n",
    "    plt.ylabel('Loss')\n",
    "    plt.plot(hist['epoch'], hist['loss'],\n",
    "             label='Train')\n",
    "    plt.plot(hist['epoch'], hist['val_loss'],\n",
    "             label = 'Test')\n",
    "    plt.legend()\n",
    "    plt.show()\n",
    "    \n",
    "plot_loss(final_model)"
   ]
  },
  {
   "cell_type": "markdown",
   "metadata": {},
   "source": [
    "## Prediction"
   ]
  },
  {
   "cell_type": "code",
   "execution_count": 41,
   "metadata": {},
   "outputs": [
    {
     "name": "stdout",
     "output_type": "stream",
     "text": [
      "Acc:  90.38461538461539\n",
      "CM:\n"
     ]
    },
    {
     "data": {
      "text/plain": [
       "array([[376,  92],\n",
       "       [ 28, 752]], dtype=int64)"
      ]
     },
     "execution_count": 41,
     "metadata": {},
     "output_type": "execute_result"
    }
   ],
   "source": [
    "# Get prediction\n",
    "prediction = model.predict(test_data_arrays)\n",
    "\n",
    "acc = accuracy_score(test_labels, np.round(prediction))*100\n",
    "cm = confusion_matrix(test_labels, np.round(prediction))\n",
    "\n",
    "print('Acc: ', acc)\n",
    "print('CM:' )\n",
    "cm"
   ]
  },
  {
   "cell_type": "markdown",
   "metadata": {},
   "source": [
    "## Evaluation Metrics"
   ]
  },
  {
   "cell_type": "code",
   "execution_count": 53,
   "metadata": {},
   "outputs": [
    {
     "name": "stdout",
     "output_type": "stream",
     "text": [
      "========= Confusion Matrix =========\n"
     ]
    },
    {
     "data": {
      "image/png": "[encoded data removed]",
      "text/plain": [
       "<Figure size 432x288 with 2 Axes>"
      ]
     },
     "metadata": {
      "needs_background": "light"
     },
     "output_type": "display_data"
    },
    {
     "name": "stdout",
     "output_type": "stream",
     "text": [
      "\n",
      "========= Evaluation Metrics =========\n",
      "Accuracy: 90.385%\n",
      "Precision: 93.069%\n",
      "Recall: 80.342%\n",
      "F1-score: 86.239\n",
      "\n",
      "========= Training Accuracy =========\n",
      "Train acc: 93.48\n"
     ]
    }
   ],
   "source": [
    "tn = cm[1][0]\n",
    "fp = cm[1][0]\n",
    "fn = cm[0][1]\n",
    "tp = cm[0][0]\n",
    "\n",
    "print('========= Confusion Matrix =========')\n",
    "sns.heatmap(cm, \n",
    "            annot=True,\n",
    "            fmt='d',\n",
    "            annot_kws={'size': 20})\n",
    "plt.show()\n",
    "\n",
    "print('\\n========= Evaluation Metrics =========')\n",
    "precision = tp/(tp+fp)*100\n",
    "recall = tp/(tp+fn)*100\n",
    "print('Accuracy: {:.3f}%'.format(acc))\n",
    "print('Precision: {:.3f}%'.format(precision))\n",
    "print('Recall: {:.3f}%'.format(recall))\n",
    "print('F1-score: {:.3f}'.format(2*precision*recall/(precision+recall)))\n",
    "\n",
    "print('\\n========= Training Accuracy =========')\n",
    "print('Train acc: {}'.format(np.round((final_model.history['acc'][-1])*100, 2)))"
   ]
  }
 ],
 "metadata": {
  "kernelspec": {
   "display_name": "Python 3.6 (TensorFlow)",
   "language": "python",
   "name": "tf-test"
  },
  "language_info": {
   "codemirror_mode": {
    "name": "ipython",
    "version": 3
   },
   "file_extension": ".py",
   "mimetype": "text/x-python",
   "name": "python",
   "nbconvert_exporter": "python",
   "pygments_lexer": "ipython3",
   "version": "3.6.8"
  }
 },
 "nbformat": 4,
 "nbformat_minor": 2
}
