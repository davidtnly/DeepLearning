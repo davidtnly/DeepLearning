{
 "cells": [
  {
   "cell_type": "markdown",
   "metadata": {},
   "source": [
    "# Resizing an image using OpenCV\n",
    "\n",
    "1. Read image by OpenCV\n",
    "2. Convert from OpenCV to PIL image\n",
    "3. Use PIL to resize\n",
    "4. Convert from PIL to OpenCV"
   ]
  },
  {
   "cell_type": "code",
   "execution_count": null,
   "metadata": {},
   "outputs": [],
   "source": [
    "import numpy as np\n",
    "import cv2\n",
    "from PIL import Image\n",
    "\n",
    "# Target resize\n",
    "new_x = 100\n",
    "new_y = 100\n",
    "\n",
    "# Read image using OpenCV\n",
    "img  = cv2.imread('Images/fruit_YOLOv3_output.jpg')\n",
    "\n",
    "# Convert to PIL\n",
    "cv_img = cv2.cvtColor(img, cv2.COLOR_BGR2RGB)\n",
    "img_pil = Image.fromarray(cv_img)\n",
    "\n",
    "# Resize\n",
    "img_pil = img_pil.resize((new_x, new_y), Image.ANTIALIAS)\n",
    "\n",
    "# Convert PIL to array\n",
    "cv_img_new = np.array(img_pil)\n",
    "\n",
    "# Convert RGB to BGR (cv2 format)\n",
    "cv_img_new = cv2.cvtColor(cv_img_new, COLOR_RGB2BGR)\n",
    "\n",
    "# Check Original\n",
    "cv2.namedWindow('origin', 0)\n",
    "cv2.imshow('origin', img)\n",
    "\n",
    "# Check Resized\n",
    "cv2.namedWindow('resized', 0)\n",
    "cv2.imshow('resized', cv_img_new)\n",
    "\n",
    "# Wait until button\n",
    "cv2.waitKey(0)\n",
    "\n",
    "Image.open('Images/fruit_YOLOv3_output.jpg')"
   ]
  }
 ],
 "metadata": {
  "kernelspec": {
   "display_name": "Python 3.6 (OpenCV)",
   "language": "python",
   "name": "ocv4"
  },
  "language_info": {
   "codemirror_mode": {
    "name": "ipython",
    "version": 3
   },
   "file_extension": ".py",
   "mimetype": "text/x-python",
   "name": "python",
   "nbconvert_exporter": "python",
   "pygments_lexer": "ipython3",
   "version": "3.6.8"
  }
 },
 "nbformat": 4,
 "nbformat_minor": 2
}
