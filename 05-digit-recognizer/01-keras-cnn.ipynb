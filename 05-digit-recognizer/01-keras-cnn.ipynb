{
 "cells": [
  {
   "cell_type": "markdown",
   "metadata": {},
   "source": [
    "# Digit Recognizer\n",
    "Learn Computer Vision Fundamentals"
   ]
  },
  {
   "cell_type": "markdown",
   "metadata": {},
   "source": [
    "## Data"
   ]
  },
  {
   "cell_type": "markdown",
   "metadata": {},
   "source": [
    "The data files train.csv and test.csv contain gray-scale images of hand-drawn digits, from zero through nine.\n",
    "\n",
    "Each image is 28 pixels in height and 28 pixels in width, for a total of 784 pixels in total. Each pixel has a single pixel-value associated with it, indicating the lightness or darkness of that pixel, with higher numbers meaning darker. This pixel-value is an integer between 0 and 255, inclusive.\n",
    "\n",
    "The training data set, (train.csv), has 785 columns. The first column, called \"label\", is the digit that was drawn by the user. The rest of the columns contain the pixel-values of the associated image.\n",
    "\n",
    "Each pixel column in the training set has a name like pixelx, where x is an integer between 0 and 783, inclusive. To locate this pixel on the image, suppose that we have decomposed x as x = i * 28 + j, where i and j are integers between 0 and 27, inclusive. Then pixelx is located on row i and column j of a 28 x 28 matrix, (indexing by zero)."
   ]
  },
  {
   "cell_type": "code",
   "execution_count": 1,
   "metadata": {},
   "outputs": [
    {
     "data": {
      "image/png": "[encoded data removed]",
      "text/plain": [
       "<Figure size 432x72 with 1 Axes>"
      ]
     },
     "metadata": {
      "needs_background": "light"
     },
     "output_type": "display_data"
    }
   ],
   "source": [
    "# Toolbox\n",
    "import pandas as pd\n",
    "import numpy as np\n",
    "import random\n",
    "import sys\n",
    "import datetime as dt\n",
    "import seaborn as sns\n",
    "import matplotlib.pyplot as plt\n",
    "%matplotlib inline\n",
    "\n",
    "# Statistics\n",
    "from scipy.stats import norm\n",
    "\n",
    "# Machine learning\n",
    "from sklearn.model_selection import train_test_split\n",
    "from sklearn.metrics import confusion_matrix\n",
    "from sklearn.utils import shuffle\n",
    "from sklearn.preprocessing import MinMaxScaler\n",
    "from sklearn.manifold import TSNE\n",
    "from sklearn.decomposition import PCA\n",
    "\n",
    "# Misc\n",
    "import os\n",
    "import warnings\n",
    "warnings.filterwarnings(action='ignore')\n",
    "\n",
    "# Preset data display\n",
    "pd.options.display.max_seq_items = 1000\n",
    "pd.options.display.max_rows =1000\n",
    "pd.set_option('display.max_columns', 50)\n",
    "\n",
    "# Set notebook colors and palette\n",
    "flatui = ['#9b59b6', '#3498db', '#95a5a6', '#e74c3c', '#34495e', '#2ecc71']\n",
    "sns.set_palette(flatui)\n",
    "sns.palplot(sns.color_palette(flatui))\n",
    "sns.set_style('white')\n",
    "sns.set_color_codes(palette='deep')\n",
    "# Favorite code to use: #34995e"
   ]
  },
  {
   "cell_type": "code",
   "execution_count": 2,
   "metadata": {},
   "outputs": [
    {
     "name": "stderr",
     "output_type": "stream",
     "text": [
      "Using TensorFlow backend.\n"
     ]
    },
    {
     "name": "stdout",
     "output_type": "stream",
     "text": [
      "These are the current versions working for me as of 2019-08-04\n",
      "TensorFlow Version: 1.13.1\n",
      "TensorFlow Keras Version: 2.2.4-tf\n",
      "Keras Version: 2.2.4\n",
      "\n",
      "TensorFlow-GPU is available\n",
      "TensorFlow CUDA: True\n",
      "Tensorflow GPU Device Currently Activated: /device:GPU:0\n",
      "Keras GPU: ['/job:localhost/replica:0/task:0/device:GPU:0']\n",
      "\n",
      "TF Session: <tensorflow.python.client.session.Session object at 0x0000024144EE3320>\n",
      "\n",
      "Python 3.6.8 |Anaconda, Inc.| (default, Feb 21 2019, 18:30:04) [MSC v.1916 64 bit (AMD64)]\n"
     ]
    }
   ],
   "source": [
    "import tensorflow as tf\n",
    "import tensorflow.keras\n",
    "import keras\n",
    "\n",
    "print('These are the current versions working for me as of 2019-08-04')\n",
    "print(f\"TensorFlow Version: {tf.__version__}\")\n",
    "print(f\"TensorFlow Keras Version: {tensorflow.keras.__version__}\")\n",
    "print(f\"Keras Version: {keras.__version__}\")\n",
    "print()\n",
    "print(\"TensorFlow-GPU is\", \"available\" if tf.test.is_gpu_available() else \"NOT AVAILABLE\")\n",
    "print(f\"TensorFlow CUDA: {tf.test.is_built_with_cuda()}\")\n",
    "print(f\"Tensorflow GPU Device Currently Activated: {tf.test.gpu_device_name()}\")\n",
    "print(f\"Keras GPU: {keras.backend.tensorflow_backend._get_available_gpus()}\")\n",
    "print()\n",
    "print(f\"TF Session: {tf.Session()}\")\n",
    "print()\n",
    "print(f\"Python {sys.version}\")"
   ]
  },
  {
   "cell_type": "markdown",
   "metadata": {},
   "source": [
    "### Define functions"
   ]
  },
  {
   "cell_type": "code",
   "execution_count": 3,
   "metadata": {},
   "outputs": [],
   "source": [
    "def pct_bar_labels():\n",
    "    '''\n",
    "    Function used to label the relative frequency on top of each bars\n",
    "    '''\n",
    "    # Set font size\n",
    "    fs=15\n",
    "    \n",
    "    # Set plot label and ticks\n",
    "    plt.ylabel('Relative Frequency (%)', fontsize=fs)\n",
    "    plt.xticks(rotation=0, fontsize=fs)\n",
    "    plt.yticks([])\n",
    "    \n",
    "    # Set individual bar labels in proportional scale\n",
    "    for x in ax1.patches:\n",
    "        ax1.annotate(str(x.get_height()) + '%', \n",
    "        (x.get_x() + x.get_width()/2., x.get_height()), ha='center', va='center', xytext=(0, 7), \n",
    "        textcoords='offset points', fontsize=fs, color='black')\n",
    "\n",
    "def freq_table(var):\n",
    "    '''\n",
    "    Define plot global variables\n",
    "    Create a function that will populate a frequency table (%)\n",
    "    Get counts per feature then get the percentage over the total counts\n",
    "    '''\n",
    "    global ax, ax1\n",
    "    \n",
    "    # Get Values and pct and combine it into a dataframe\n",
    "    count_freq = var.value_counts()\n",
    "    pct_freq = round(var.value_counts(normalize=True)*100, 2)\n",
    "    \n",
    "    # Create a dataframe\n",
    "    df = pd.DataFrame({'Count': count_freq, 'Percentage': pct_freq})\n",
    "    \n",
    "    # Print variable name\n",
    "    print('Frequency of', var.name, ':')\n",
    "    display(df)\n",
    "    \n",
    "    # Create plot\n",
    "    ax1 = pct_freq.plot.bar(title='Percentage of {}'.format(var.name), figsize=(12,8))\n",
    "    ax1.title.set_size(15)\n",
    "    pct_bar_labels()\n",
    "    plt.show()\n",
    "    \n",
    "# Define a null function\n",
    "def get_nulls(df):\n",
    "    \n",
    "    # Get null pct and counts\n",
    "    null_cols = pd.DataFrame(df.isnull().sum().sort_values(ascending=False), columns=['Null Data Count'])\n",
    "    null_cols_pct = pd.DataFrame(round(df.isnull().sum().sort_values(ascending=False)/len(df),2), columns=['Null Data Pct'])\n",
    "\n",
    "    # Combine dataframes horizontally\n",
    "    null_cols_df = pd.DataFrame(pd.concat([null_cols, null_cols_pct], axis=1))\n",
    "\n",
    "    all_nulls = null_cols_df[null_cols_df['Null Data Pct']>0]\n",
    "\n",
    "    # Print\n",
    "    print('There are', len(all_nulls), 'columns with missing values.')\n",
    "    return all_nulls"
   ]
  },
  {
   "cell_type": "markdown",
   "metadata": {},
   "source": [
    "### Load data"
   ]
  },
  {
   "cell_type": "code",
   "execution_count": 4,
   "metadata": {},
   "outputs": [],
   "source": [
    "# Load data\n",
    "train_file  = 'LargeData/train.csv'\n",
    "test_file = 'LargeData/test.csv'\n",
    "train = pd.read_csv(train_file)\n",
    "test = pd.read_csv(test_file)"
   ]
  },
  {
   "cell_type": "code",
   "execution_count": 5,
   "metadata": {},
   "outputs": [],
   "source": [
    "# Split label\n",
    "train_label = train.label\n",
    "train = train.drop('label', axis=1)"
   ]
  },
  {
   "cell_type": "markdown",
   "metadata": {},
   "source": [
    "### Preprocessing"
   ]
  },
  {
   "cell_type": "code",
   "execution_count": 6,
   "metadata": {},
   "outputs": [],
   "source": [
    "# Training size\n",
    "training_size = train_label.shape[0]"
   ]
  },
  {
   "cell_type": "code",
   "execution_count": 7,
   "metadata": {},
   "outputs": [],
   "source": [
    "# Update data as float32\n",
    "train_array = train.values.astype('float32')\n",
    "train_label_array = train_label.astype('int32')\n",
    "test_array = test.values.astype('float32')"
   ]
  },
  {
   "cell_type": "code",
   "execution_count": 8,
   "metadata": {},
   "outputs": [],
   "source": [
    "# Normalize the data since its on RGB scale then divide by 255\n",
    "train_array = train_array / 255.0\n",
    "test_array = test_array / 255.0"
   ]
  },
  {
   "cell_type": "code",
   "execution_count": 9,
   "metadata": {},
   "outputs": [],
   "source": [
    "# Reshape the data so it would fit input size in the model (np.expand_dims(img, axis=0))\n",
    "train_array_reshape = train_array.reshape(train_array.shape[0], 28, 28, 1) # (42000, 28, 28, 1) grayscale\n",
    "test_array_reshape = test_array.reshape(test_array.shape[0], 28, 28, 1)"
   ]
  },
  {
   "cell_type": "code",
   "execution_count": 10,
   "metadata": {},
   "outputs": [],
   "source": [
    "# Split the data into training and validation sets\n",
    "X_train, X_validation, y_train, y_validation = train_test_split(train_array_reshape, train_label_array, test_size=0.20, random_state=100)"
   ]
  },
  {
   "cell_type": "markdown",
   "metadata": {},
   "source": [
    "### Exploration"
   ]
  },
  {
   "cell_type": "code",
   "execution_count": 11,
   "metadata": {},
   "outputs": [
    {
     "name": "stdout",
     "output_type": "stream",
     "text": [
      "Training Size = 33600\n",
      "Validation Size = 8400\n",
      "Unique Classes = 10\n"
     ]
    }
   ],
   "source": [
    "print('Training Size = {}'.format(X_train.shape[0]))\n",
    "print('Validation Size = {}'.format(X_validation.shape[0]))\n",
    "print('Unique Classes = {}'.format(len(np.unique(y_train))))"
   ]
  },
  {
   "cell_type": "code",
   "execution_count": 12,
   "metadata": {},
   "outputs": [
    {
     "data": {
      "image/png": "[encoded data removed]",
      "text/plain": [
       "<Figure size 432x288 with 12 Axes>"
      ]
     },
     "metadata": {
      "needs_background": "light"
     },
     "output_type": "display_data"
    }
   ],
   "source": [
    "# Get image and label\n",
    "image_and_label = list(zip(X_train, y_train))\n",
    "\n",
    "# Show images\n",
    "for index, (image, label) in enumerate(image_and_label[:12]):\n",
    "    plt.subplot(5, 4, index+1)\n",
    "    plt.axis('off')\n",
    "    plt.imshow(image.squeeze(), cmap=plt.cm.gray_r, interpolation='nearest') # Remove 1D entries from the shape\n",
    "    plt.title('label: %i' % label) "
   ]
  },
  {
   "cell_type": "markdown",
   "metadata": {},
   "source": [
    "### Model\n",
    "\n",
    "- __filters__: Integer, the dimensionality of the output space (i.e. the number of output filters in the convolution)\n",
    "\n",
    "- __kernel_size__: An integer or tuple/list of 2 integers, specifying the height and width of the 2D convolution window. Can be a single integer to specify the same value for all spatial dimensions\n",
    "\n",
    "- __strides__: An integer or tuple/list of 2 integers, specifying the strides of the convolution along the height and width. Can be a single integer to specify the same value for all spatial dimensions. Specifying any stride value != 1 is incompatible with specifying any dilation_rate value != 1\n",
    "\n",
    "- __padding__: one of \"valid\" or \"same\"\n",
    "\n",
    "- __activation__: Activation function to use. If you don't specify anything, no activation is applied (ie. \"linear\" activation: a(x) = x)"
   ]
  },
  {
   "cell_type": "code",
   "execution_count": 13,
   "metadata": {},
   "outputs": [
    {
     "name": "stdout",
     "output_type": "stream",
     "text": [
      "WARNING:tensorflow:From C:\\Users\\David Ly\\Anaconda3\\envs\\tf-test\\lib\\site-packages\\tensorflow\\python\\ops\\resource_variable_ops.py:435: colocate_with (from tensorflow.python.framework.ops) is deprecated and will be removed in a future version.\n",
      "Instructions for updating:\n",
      "Colocations handled automatically by placer.\n",
      "WARNING:tensorflow:From C:\\Users\\David Ly\\Anaconda3\\envs\\tf-test\\lib\\site-packages\\tensorflow\\python\\keras\\layers\\core.py:143: calling dropout (from tensorflow.python.ops.nn_ops) with keep_prob is deprecated and will be removed in a future version.\n",
      "Instructions for updating:\n",
      "Please use `rate` instead of `keep_prob`. Rate should be set to `rate = 1 - keep_prob`.\n"
     ]
    }
   ],
   "source": [
    "# Define the model\n",
    "model = tf.keras.models.Sequential([\n",
    "    \n",
    "    # First convolutional layer (input)\n",
    "    tf.keras.layers.Conv2D(32, kernel_size=(5, 5), padding='same', activation=tf.nn.relu, input_shape=(28, 28, 1)),\n",
    "    tf.keras.layers.MaxPooling2D(pool_size=(2, 2), strides=2),\n",
    "    \n",
    "    # Second convolutional layer\n",
    "    tf.keras.layers.Conv2D(32, kernel_size=(5, 5), padding='same', activation=tf.nn.relu),\n",
    "    tf.keras.layers.MaxPooling2D(pool_size=(2, 2), strides=2),\n",
    "    tf.keras.layers.Dropout(rate=0.20),\n",
    "    \n",
    "    # Third convolutional layer\n",
    "    tf.keras.layers.Conv2D(64, kernel_size=(5, 5), padding='same', activation=tf.nn.relu),\n",
    "    tf.keras.layers.MaxPooling2D(pool_size=(2, 2), strides=2),\n",
    "    \n",
    "    # Fourth convolutional layer\n",
    "    tf.keras.layers.Conv2D(64, kernel_size=(5, 5), padding='same', activation=tf.nn.relu),\n",
    "    tf.keras.layers.MaxPooling2D(pool_size=(2, 2), strides=2),\n",
    "    tf.keras.layers.Dropout(rate=0.20),\n",
    "    \n",
    "    # Flatten before dense layers\n",
    "    tf.keras.layers.Flatten(),\n",
    "    \n",
    "    # First dense layer\n",
    "    tf.keras.layers.Dense(128, activation=tf.nn.relu),\n",
    "    tf.keras.layers.Dropout(0.20),\n",
    "    \n",
    "    # Output layer\n",
    "    tf.keras.layers.Dense(10, activation=tf.nn.softmax)\n",
    "])"
   ]
  },
  {
   "cell_type": "code",
   "execution_count": 14,
   "metadata": {},
   "outputs": [],
   "source": [
    "# Compile the model\n",
    "model.compile(optimizer='adam', loss='sparse_categorical_crossentropy', metrics=['accuracy']) # categorical_crossentropy"
   ]
  },
  {
   "cell_type": "markdown",
   "metadata": {},
   "source": [
    "Adam: A Method for Stochastic Optimization\n",
    "\n",
    "https://arxiv.org/abs/1412.6980v8"
   ]
  },
  {
   "cell_type": "code",
   "execution_count": 15,
   "metadata": {},
   "outputs": [],
   "source": [
    "# Callback function if model is not learning\n",
    "callback_lr_reduction = tf.keras.callbacks.ReduceLROnPlateau(monitor='val_acc',\n",
    "                                                          patience=3,\n",
    "                                                          verbose=1,\n",
    "                                                          factor=0.5,\n",
    "                                                          min_lr=0.00001\n",
    "                                                          )"
   ]
  },
  {
   "cell_type": "markdown",
   "metadata": {},
   "source": [
    "https://keras.io/callbacks/"
   ]
  },
  {
   "cell_type": "code",
   "execution_count": 16,
   "metadata": {},
   "outputs": [
    {
     "name": "stdout",
     "output_type": "stream",
     "text": [
      "_________________________________________________________________\n",
      "Layer (type)                 Output Shape              Param #   \n",
      "=================================================================\n",
      "conv2d (Conv2D)              (None, 28, 28, 32)        832       \n",
      "_________________________________________________________________\n",
      "max_pooling2d (MaxPooling2D) (None, 14, 14, 32)        0         \n",
      "_________________________________________________________________\n",
      "conv2d_1 (Conv2D)            (None, 14, 14, 32)        25632     \n",
      "_________________________________________________________________\n",
      "max_pooling2d_1 (MaxPooling2 (None, 7, 7, 32)          0         \n",
      "_________________________________________________________________\n",
      "dropout (Dropout)            (None, 7, 7, 32)          0         \n",
      "_________________________________________________________________\n",
      "conv2d_2 (Conv2D)            (None, 7, 7, 64)          51264     \n",
      "_________________________________________________________________\n",
      "max_pooling2d_2 (MaxPooling2 (None, 3, 3, 64)          0         \n",
      "_________________________________________________________________\n",
      "conv2d_3 (Conv2D)            (None, 3, 3, 64)          102464    \n",
      "_________________________________________________________________\n",
      "max_pooling2d_3 (MaxPooling2 (None, 1, 1, 64)          0         \n",
      "_________________________________________________________________\n",
      "dropout_1 (Dropout)          (None, 1, 1, 64)          0         \n",
      "_________________________________________________________________\n",
      "flatten (Flatten)            (None, 64)                0         \n",
      "_________________________________________________________________\n",
      "dense (Dense)                (None, 128)               8320      \n",
      "_________________________________________________________________\n",
      "dropout_2 (Dropout)          (None, 128)               0         \n",
      "_________________________________________________________________\n",
      "dense_1 (Dense)              (None, 10)                1290      \n",
      "=================================================================\n",
      "Total params: 189,802\n",
      "Trainable params: 189,802\n",
      "Non-trainable params: 0\n",
      "_________________________________________________________________\n"
     ]
    }
   ],
   "source": [
    "# Model summary\n",
    "model.summary()"
   ]
  },
  {
   "cell_type": "code",
   "execution_count": 17,
   "metadata": {},
   "outputs": [],
   "source": [
    "# Define model parameters\n",
    "EPOCHS = 30\n",
    "BATCH_SIZE = 64\n",
    "IMAGE_SHAPE = 28"
   ]
  },
  {
   "cell_type": "markdown",
   "metadata": {},
   "source": [
    "### Data augmentation"
   ]
  },
  {
   "cell_type": "code",
   "execution_count": 18,
   "metadata": {},
   "outputs": [],
   "source": [
    "from tensorflow.keras.preprocessing.image import ImageDataGenerator\n",
    "\n",
    "# Image augmentation\n",
    "image_datagen = ImageDataGenerator(\n",
    "        featurewise_center=False,\n",
    "        samplewise_center=False,\n",
    "        featurewise_std_normalization=False,\n",
    "        samplewise_std_normalization=False,\n",
    "        zca_whitening=False,\n",
    "        rotation_range=10,\n",
    "        zoom_range = 0.15,\n",
    "        width_shift_range=0.15,\n",
    "        height_shift_range=0.15,\n",
    "        horizontal_flip=False,\n",
    "        vertical_flip=False,\n",
    "        validation_split=0.2)"
   ]
  },
  {
   "cell_type": "markdown",
   "metadata": {},
   "source": [
    "Class ImageDataGenerator\n",
    "\n",
    "Generate batches of tensor image data with real-time data augmentation\n",
    "\n",
    "https://www.tensorflow.org/api_docs/python/tf/keras/preprocessing/image/ImageDataGenerator"
   ]
  },
  {
   "cell_type": "code",
   "execution_count": 19,
   "metadata": {},
   "outputs": [],
   "source": [
    "# Fit training data\n",
    "image_datagen.fit(X_train)"
   ]
  },
  {
   "cell_type": "code",
   "execution_count": 20,
   "metadata": {},
   "outputs": [],
   "source": [
    "train_generator = image_datagen.flow(X_train, y_train, batch_size=BATCH_SIZE, subset='training')\n",
    "validation_generator = image_datagen.flow(X_validation, y_validation, batch_size=BATCH_SIZE, subset='validation')"
   ]
  },
  {
   "cell_type": "code",
   "execution_count": 21,
   "metadata": {},
   "outputs": [
    {
     "name": "stdout",
     "output_type": "stream",
     "text": [
      "Epoch 1/30\n",
      "27/27 [==============================] - 0s 14ms/step - loss: 0.1854 - acc: 0.9405\n",
      "420/420 [==============================] - 6s 14ms/step - loss: 0.7477 - acc: 0.7471 - val_loss: 0.1854 - val_acc: 0.9405\n",
      "Epoch 2/30\n",
      "27/27 [==============================] - 0s 14ms/step - loss: 0.1178 - acc: 0.9679\n",
      "420/420 [==============================] - 5s 11ms/step - loss: 0.2033 - acc: 0.9396 - val_loss: 0.1178 - val_acc: 0.9679\n",
      "Epoch 3/30\n",
      "27/27 [==============================] - 0s 14ms/step - loss: 0.1023 - acc: 0.9696\n",
      "420/420 [==============================] - 5s 11ms/step - loss: 0.1410 - acc: 0.9576 - val_loss: 0.1023 - val_acc: 0.9696\n",
      "Epoch 4/30\n",
      "27/27 [==============================] - 0s 14ms/step - loss: 0.0753 - acc: 0.9762\n",
      "420/420 [==============================] - 5s 11ms/step - loss: 0.1165 - acc: 0.9665 - val_loss: 0.0753 - val_acc: 0.9762\n",
      "Epoch 5/30\n",
      "27/27 [==============================] - 0s 14ms/step - loss: 0.0648 - acc: 0.9810\n",
      "420/420 [==============================] - 5s 12ms/step - loss: 0.0987 - acc: 0.9711 - val_loss: 0.0648 - val_acc: 0.9810\n",
      "Epoch 6/30\n",
      "27/27 [==============================] - 0s 14ms/step - loss: 0.0583 - acc: 0.9821TA: 0s - loss: 0.0837 \n",
      "420/420 [==============================] - 4s 11ms/step - loss: 0.0821 - acc: 0.9772 - val_loss: 0.0583 - val_acc: 0.9821\n",
      "Epoch 7/30\n",
      "27/27 [==============================] - 0s 14ms/step - loss: 0.0570 - acc: 0.9792\n",
      "420/420 [==============================] - 5s 12ms/step - loss: 0.0795 - acc: 0.9768 - val_loss: 0.0570 - val_acc: 0.9792\n",
      "Epoch 8/30\n",
      "27/27 [==============================] - 0s 14ms/step - loss: 0.0399 - acc: 0.9863\n",
      "420/420 [==============================] - 4s 11ms/step - loss: 0.0738 - acc: 0.9781 - val_loss: 0.0399 - val_acc: 0.9863\n",
      "Epoch 9/30\n",
      "27/27 [==============================] - 0s 14ms/step - loss: 0.0732 - acc: 0.9780\n",
      "420/420 [==============================] - 5s 12ms/step - loss: 0.0713 - acc: 0.9795 - val_loss: 0.0732 - val_acc: 0.9780\n",
      "Epoch 10/30\n",
      "27/27 [==============================] - 0s 14ms/step - loss: 0.0603 - acc: 0.9845\n",
      "420/420 [==============================] - 4s 11ms/step - loss: 0.0631 - acc: 0.9809 - val_loss: 0.0603 - val_acc: 0.9845\n",
      "Epoch 11/30\n",
      "27/27 [==============================] - 0s 14ms/step - loss: 0.0438 - acc: 0.9893\n",
      "420/420 [==============================] - 5s 11ms/step - loss: 0.0595 - acc: 0.9837 - val_loss: 0.0438 - val_acc: 0.9893\n",
      "Epoch 12/30\n",
      "27/27 [==============================] - 0s 14ms/step - loss: 0.0477 - acc: 0.9851\n",
      "420/420 [==============================] - 5s 11ms/step - loss: 0.0599 - acc: 0.9827 - val_loss: 0.0477 - val_acc: 0.9851\n",
      "Epoch 13/30\n",
      "27/27 [==============================] - 0s 13ms/step - loss: 0.0365 - acc: 0.9893\n",
      "420/420 [==============================] - 4s 11ms/step - loss: 0.0551 - acc: 0.9840 - val_loss: 0.0365 - val_acc: 0.9893\n",
      "Epoch 14/30\n",
      "27/27 [==============================] - 0s 14ms/step - loss: 0.0414 - acc: 0.9869\n",
      "\n",
      "Epoch 00014: ReduceLROnPlateau reducing learning rate to 0.0005000000237487257.\n",
      "420/420 [==============================] - 5s 11ms/step - loss: 0.0508 - acc: 0.9852 - val_loss: 0.0414 - val_acc: 0.9869\n",
      "Epoch 15/30\n",
      "27/27 [==============================] - 0s 13ms/step - loss: 0.0343 - acc: 0.9887\n",
      "420/420 [==============================] - 4s 11ms/step - loss: 0.0440 - acc: 0.9872 - val_loss: 0.0343 - val_acc: 0.9887\n",
      "Epoch 16/30\n",
      "27/27 [==============================] - 0s 14ms/step - loss: 0.0393 - acc: 0.9893\n",
      "420/420 [==============================] - 5s 11ms/step - loss: 0.0430 - acc: 0.9873 - val_loss: 0.0393 - val_acc: 0.9893\n",
      "Epoch 17/30\n",
      "27/27 [==============================] - 0s 14ms/step - loss: 0.0416 - acc: 0.9899\n",
      "420/420 [==============================] - 4s 11ms/step - loss: 0.0343 - acc: 0.9898 - val_loss: 0.0416 - val_acc: 0.9899\n",
      "Epoch 18/30\n",
      "27/27 [==============================] - 0s 14ms/step - loss: 0.0298 - acc: 0.9911\n",
      "420/420 [==============================] - 5s 11ms/step - loss: 0.0385 - acc: 0.9891 - val_loss: 0.0298 - val_acc: 0.9911\n",
      "Epoch 19/30\n",
      "27/27 [==============================] - 0s 14ms/step - loss: 0.0402 - acc: 0.9905\n",
      "420/420 [==============================] - 4s 11ms/step - loss: 0.0347 - acc: 0.9906 - val_loss: 0.0402 - val_acc: 0.9905\n",
      "Epoch 20/30\n",
      "27/27 [==============================] - 0s 13ms/step - loss: 0.0283 - acc: 0.9911\n",
      "420/420 [==============================] - 4s 11ms/step - loss: 0.0337 - acc: 0.9895 - val_loss: 0.0283 - val_acc: 0.9911\n",
      "Epoch 21/30\n",
      "27/27 [==============================] - 0s 13ms/step - loss: 0.0288 - acc: 0.9899\n",
      "\n",
      "Epoch 00021: ReduceLROnPlateau reducing learning rate to 0.0002500000118743628.\n",
      "420/420 [==============================] - 4s 10ms/step - loss: 0.0324 - acc: 0.9902 - val_loss: 0.0288 - val_acc: 0.9899\n",
      "Epoch 22/30\n",
      "27/27 [==============================] - 0s 13ms/step - loss: 0.0223 - acc: 0.9946\n",
      "420/420 [==============================] - 5s 12ms/step - loss: 0.0272 - acc: 0.9918 - val_loss: 0.0223 - val_acc: 0.9946\n",
      "Epoch 23/30\n",
      "27/27 [==============================] - 0s 14ms/step - loss: 0.0182 - acc: 0.9952\n",
      "420/420 [==============================] - 4s 10ms/step - loss: 0.0274 - acc: 0.9919 - val_loss: 0.0182 - val_acc: 0.9952\n",
      "Epoch 24/30\n",
      "27/27 [==============================] - 0s 13ms/step - loss: 0.0326 - acc: 0.9905\n",
      "420/420 [==============================] - 5s 11ms/step - loss: 0.0277 - acc: 0.9920 - val_loss: 0.0326 - val_acc: 0.9905\n",
      "Epoch 25/30\n",
      "27/27 [==============================] - 0s 13ms/step - loss: 0.0258 - acc: 0.9929: 0s - loss: 0.0294 - acc: 0.992\n",
      "420/420 [==============================] - 4s 10ms/step - loss: 0.0288 - acc: 0.9918 - val_loss: 0.0258 - val_acc: 0.9929\n",
      "Epoch 26/30\n",
      "27/27 [==============================] - 0s 13ms/step - loss: 0.0201 - acc: 0.9946\n",
      "\n",
      "Epoch 00026: ReduceLROnPlateau reducing learning rate to 0.0001250000059371814.\n",
      "420/420 [==============================] - 5s 12ms/step - loss: 0.0276 - acc: 0.9920 - val_loss: 0.0201 - val_acc: 0.9946\n",
      "Epoch 27/30\n",
      "27/27 [==============================] - 0s 14ms/step - loss: 0.0210 - acc: 0.9929\n",
      "420/420 [==============================] - 4s 10ms/step - loss: 0.0217 - acc: 0.9932 - val_loss: 0.0210 - val_acc: 0.9929\n",
      "Epoch 28/30\n",
      "27/27 [==============================] - 0s 15ms/step - loss: 0.0283 - acc: 0.9929\n",
      "420/420 [==============================] - 5s 12ms/step - loss: 0.0231 - acc: 0.9930 - val_loss: 0.0283 - val_acc: 0.9929\n",
      "Epoch 29/30\n",
      "27/27 [==============================] - 0s 13ms/step - loss: 0.0259 - acc: 0.9923\n",
      "\n",
      "Epoch 00029: ReduceLROnPlateau reducing learning rate to 6.25000029685907e-05.\n",
      "420/420 [==============================] - 4s 10ms/step - loss: 0.0238 - acc: 0.9931 - val_loss: 0.0259 - val_acc: 0.9923\n",
      "Epoch 30/30\n",
      "27/27 [==============================] - 0s 14ms/step - loss: 0.0258 - acc: 0.9952\n",
      "420/420 [==============================] - 5s 12ms/step - loss: 0.0226 - acc: 0.9932 - val_loss: 0.0258 - val_acc: 0.9952\n"
     ]
    }
   ],
   "source": [
    "# Train the model\n",
    "cnn_model = model.fit_generator(generator=train_generator,\n",
    "                                validation_data=validation_generator,\n",
    "#                                 validation_data=(X_validation, y_validation),\n",
    "                                epochs=EPOCHS,\n",
    "                                steps_per_epoch=X_train.shape[0] // BATCH_SIZE,\n",
    "                                callbacks=[callback_lr_reduction]\n",
    "                               )"
   ]
  },
  {
   "cell_type": "code",
   "execution_count": 22,
   "metadata": {},
   "outputs": [
    {
     "data": {
      "image/png": "[encoded data removed]",
      "text/plain": [
       "<Figure size 1152x576 with 2 Axes>"
      ]
     },
     "metadata": {
      "needs_background": "light"
     },
     "output_type": "display_data"
    }
   ],
   "source": [
    "# Plot results\n",
    "acc = cnn_model.history['acc']\n",
    "val_acc = cnn_model.history['val_acc']\n",
    "loss = cnn_model.history['loss']\n",
    "val_loss = cnn_model.history['val_loss']\n",
    "epochs_range = range(EPOCHS)\n",
    "\n",
    "# Set figure space\n",
    "plt.figure(figsize=(16,8))\n",
    "plt.subplot(1,2,1)\n",
    "\n",
    "# Plot\n",
    "plt.plot(epochs_range, acc, label='Training Accuracy')\n",
    "plt.plot(epochs_range, val_acc, label='Validation Accuracy')\n",
    "\n",
    "# Set plot features\n",
    "plt.legend(loc='best')\n",
    "plt.title('Training and Validation Accuracy')\n",
    "\n",
    "# Set figure space\n",
    "plt.subplot(1,2,2)\n",
    "\n",
    "# Plot\n",
    "plt.plot(epochs_range, loss, label='Training Loss')\n",
    "plt.plot(epochs_range, val_loss, label='Validation Loss')\n",
    "\n",
    "# Set plot features\n",
    "plt.legend(loc='best')\n",
    "plt.title('Training and Validation Loss')\n",
    "plt.savefig('./training-data.png')\n",
    "plt.show()"
   ]
  },
  {
   "cell_type": "code",
   "execution_count": 23,
   "metadata": {},
   "outputs": [],
   "source": [
    "# Prediction\n",
    "results = model.predict(test_array_reshape)\n",
    "results = np.argmax(results, axis=1)\n",
    "results = pd.Series(results, name='Label')\n",
    "\n",
    "# Submission\n",
    "submission = pd.concat([pd.Series(range(1, 28001), name='ImageId'), results], axis=1)\n",
    "submission.to_csv('submissions.csv',index=False)"
   ]
  },
  {
   "cell_type": "code",
   "execution_count": 24,
   "metadata": {},
   "outputs": [
    {
     "data": {
      "text/html": [
       "<div>\n",
       "<style scoped>\n",
       "    .dataframe tbody tr th:only-of-type {\n",
       "        vertical-align: middle;\n",
       "    }\n",
       "\n",
       "    .dataframe tbody tr th {\n",
       "        vertical-align: top;\n",
       "    }\n",
       "\n",
       "    .dataframe thead th {\n",
       "        text-align: right;\n",
       "    }\n",
       "</style>\n",
       "<table border=\"1\" class=\"dataframe\">\n",
       "  <thead>\n",
       "    <tr style=\"text-align: right;\">\n",
       "      <th></th>\n",
       "      <th>ImageId</th>\n",
       "      <th>Label</th>\n",
       "    </tr>\n",
       "  </thead>\n",
       "  <tbody>\n",
       "    <tr>\n",
       "      <th>0</th>\n",
       "      <td>1</td>\n",
       "      <td>2</td>\n",
       "    </tr>\n",
       "    <tr>\n",
       "      <th>1</th>\n",
       "      <td>2</td>\n",
       "      <td>0</td>\n",
       "    </tr>\n",
       "    <tr>\n",
       "      <th>2</th>\n",
       "      <td>3</td>\n",
       "      <td>9</td>\n",
       "    </tr>\n",
       "    <tr>\n",
       "      <th>3</th>\n",
       "      <td>4</td>\n",
       "      <td>0</td>\n",
       "    </tr>\n",
       "    <tr>\n",
       "      <th>4</th>\n",
       "      <td>5</td>\n",
       "      <td>3</td>\n",
       "    </tr>\n",
       "  </tbody>\n",
       "</table>\n",
       "</div>"
      ],
      "text/plain": [
       "   ImageId  Label\n",
       "0        1      2\n",
       "1        2      0\n",
       "2        3      9\n",
       "3        4      0\n",
       "4        5      3"
      ]
     },
     "execution_count": 24,
     "metadata": {},
     "output_type": "execute_result"
    }
   ],
   "source": [
    "submission.head()"
   ]
  },
  {
   "cell_type": "code",
   "execution_count": 25,
   "metadata": {},
   "outputs": [
    {
     "name": "stdout",
     "output_type": "stream",
     "text": [
      "[0.02489170441040707, 0.9941667]\n"
     ]
    }
   ],
   "source": [
    "scores = model.evaluate(X_validation, y_validation, verbose=10)\n",
    "print(scores)"
   ]
  }
 ],
 "metadata": {
  "kernelspec": {
   "display_name": "Python 3.6 (TensorFlow)",
   "language": "python",
   "name": "tf-test"
  },
  "language_info": {
   "codemirror_mode": {
    "name": "ipython",
    "version": 3
   },
   "file_extension": ".py",
   "mimetype": "text/x-python",
   "name": "python",
   "nbconvert_exporter": "python",
   "pygments_lexer": "ipython3",
   "version": "3.6.8"
  }
 },
 "nbformat": 4,
 "nbformat_minor": 2
}
