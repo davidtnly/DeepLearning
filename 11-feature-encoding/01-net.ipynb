{
 "cells": [
  {
   "cell_type": "code",
   "execution_count": 1,
   "metadata": {},
   "outputs": [
    {
     "name": "stderr",
     "output_type": "stream",
     "text": [
      "Using TensorFlow backend.\n"
     ]
    },
    {
     "data": {
      "image/png": "[encoded data removed]",
      "text/plain": [
       "<Figure size 432x72 with 1 Axes>"
      ]
     },
     "metadata": {
      "needs_background": "light"
     },
     "output_type": "display_data"
    }
   ],
   "source": [
    "# Toolbox\n",
    "from pathlib import Path\n",
    "from imutils import paths\n",
    "import numpy as np\n",
    "import pandas as pd \n",
    "import seaborn as sns\n",
    "import matplotlib.pyplot as plt\n",
    "import matplotlib.image as mpimg\n",
    "%matplotlib inline\n",
    "\n",
    "# Misc\n",
    "import random\n",
    "import gc\n",
    "import glob\n",
    "import shutil\n",
    "import joblib\n",
    "import sys\n",
    "import os\n",
    "import warnings\n",
    "warnings.filterwarnings(action='ignore')\n",
    "\n",
    "# Deep learning\n",
    "import tensorflow as tf\n",
    "from keras.layers import Conv2D, BatchNormalization, MaxPooling2D, Dropout, Flatten, Dense, UpSampling2D\n",
    "from keras.layers import GlobalMaxPooling2D, Input, GlobalAveragePooling2D, LeakyReLU, Conv2DTranspose, Add, multiply, Permute, Reshape\n",
    "from keras.models import Model, Sequential\n",
    "from keras.optimizers import Adam, RMSprop, SGD\n",
    "from keras.models import Model, load_model\n",
    "from keras import callbacks\n",
    "from keras import backend as K\n",
    "from keras import utils\n",
    "\n",
    "# Evaluation\n",
    "from sklearn.preprocessing import LabelEncoder, StandardScaler, MinMaxScaler, RobustScaler\n",
    "from sklearn.model_selection import train_test_split\n",
    "from sklearn.model_selection import StratifiedKFold\n",
    "from sklearn.linear_model import LogisticRegression\n",
    "from sklearn.model_selection import cross_val_score\n",
    "from sklearn.metrics import roc_auc_score, accuracy_score, confusion_matrix, classification_report\n",
    "\n",
    "# Preset data display\n",
    "pd.options.display.max_seq_items = 1000\n",
    "pd.options.display.max_rows =1000\n",
    "pd.set_option('display.max_columns', 50)\n",
    "\n",
    "# Set notebook colors and palette\n",
    "flatui = ['#9b59b6', '#3498db', '#95a5a6', '#e74c3c', '#34495e', '#2ecc71']\n",
    "sns.set_palette(flatui)\n",
    "sns.palplot(sns.color_palette(flatui))\n",
    "sns.set_style('white')\n",
    "sns.set_color_codes(palette='deep')\n",
    "# Favorite code to use: #34995e"
   ]
  },
  {
   "cell_type": "code",
   "execution_count": 2,
   "metadata": {},
   "outputs": [
    {
     "name": "stdout",
     "output_type": "stream",
     "text": [
      "TensorFlow Version: 1.13.1\n",
      "TensorFlow Keras Version: 2.2.4-tf\n",
      "Keras Version: 2.2.4\n",
      "\n",
      "TensorFlow-GPU is available\n",
      "TensorFlow CUDA: True\n",
      "Tensorflow GPU Device Currently Activated: /device:GPU:0\n",
      "Keras GPU: ['/job:localhost/replica:0/task:0/device:GPU:0']\n",
      "\n",
      "TF Session: <tensorflow.python.client.session.Session object at 0x0000024AF2C60588>\n",
      "\n",
      "Python 3.6.8 |Anaconda, Inc.| (default, Feb 21 2019, 18:30:04) [MSC v.1916 64 bit (AMD64)]\n"
     ]
    }
   ],
   "source": [
    "import tensorflow as tf\n",
    "import tensorflow.keras\n",
    "import keras\n",
    "\n",
    "print(f\"TensorFlow Version: {tf.__version__}\")\n",
    "print(f\"TensorFlow Keras Version: {tensorflow.keras.__version__}\")\n",
    "print(f\"Keras Version: {keras.__version__}\")\n",
    "print()\n",
    "print(\"TensorFlow-GPU is\", \"available\" if tf.test.is_gpu_available() else \"NOT AVAILABLE\")\n",
    "print(f\"TensorFlow CUDA: {tf.test.is_built_with_cuda()}\")\n",
    "print(f\"Tensorflow GPU Device Currently Activated: {tf.test.gpu_device_name()}\")\n",
    "print(f\"Keras GPU: {keras.backend.tensorflow_backend._get_available_gpus()}\")\n",
    "print()\n",
    "print(f\"TF Session: {tf.Session()}\")\n",
    "print()\n",
    "print(f\"Python {sys.version}\")"
   ]
  },
  {
   "cell_type": "markdown",
   "metadata": {},
   "source": [
    "### Helpers"
   ]
  },
  {
   "cell_type": "code",
   "execution_count": 3,
   "metadata": {},
   "outputs": [],
   "source": [
    "def plot_history(model):\n",
    "    acc = model.history['acc']\n",
    "    val_acc = model.history['val_acc']\n",
    "\n",
    "    loss = model.history['loss']\n",
    "    val_loss = model.history['val_loss']\n",
    "\n",
    "    plt.figure(figsize=(8, 8))\n",
    "    plt.subplot(2, 1, 1)\n",
    "    plt.plot(acc, label='Training Accuracy')\n",
    "    plt.plot(val_acc, label='Validation Accuracy')\n",
    "    plt.legend(loc='lower right')\n",
    "    plt.ylabel('Accuracy')\n",
    "    plt.ylim([min(plt.ylim()),1])\n",
    "    plt.title('Training and Validation Accuracy')\n",
    "\n",
    "    plt.subplot(2, 1, 2)\n",
    "    plt.plot(loss, label='Training Loss')\n",
    "    plt.plot(val_loss, label='Validation Loss')\n",
    "    plt.legend(loc='upper right')\n",
    "    plt.ylabel('Cross Entropy')\n",
    "    plt.ylim([0,max(plt.ylim())])\n",
    "    plt.title('Training and Validation Loss')\n",
    "    plt.show()\n",
    "    \n",
    "def pct_bar_labels():\n",
    "    '''\n",
    "    Function used to label the relative frequency on top of each bars\n",
    "    '''\n",
    "    # Set font size\n",
    "    fs=15\n",
    "    \n",
    "    # Set plot label and ticks\n",
    "    plt.ylabel('Relative Frequency (%)', fontsize=fs)\n",
    "    plt.xticks(rotation=0, fontsize=fs)\n",
    "    plt.yticks([])\n",
    "    \n",
    "    # Set individual bar labels in proportional scale\n",
    "    for x in ax1.patches:\n",
    "        ax1.annotate(str(x.get_height()) + '%', \n",
    "        (x.get_x() + x.get_width()/2., x.get_height()), ha='center', va='center', xytext=(0, 7), \n",
    "        textcoords='offset points', fontsize=fs, color='black')\n",
    "\n",
    "def freq_table(var):\n",
    "    '''\n",
    "    Define plot global variables\n",
    "    Create a function that will populate a frequency table (%)\n",
    "    Get counts per feature then get the percentage over the total counts\n",
    "    '''\n",
    "    global ax, ax1\n",
    "    \n",
    "    # Get Values and pct and combine it into a dataframe\n",
    "    count_freq = var.value_counts()\n",
    "    pct_freq = round(var.value_counts(normalize=True)*100, 2)\n",
    "    \n",
    "    # Create a dataframe\n",
    "    df = pd.DataFrame({'Count': count_freq, 'Percentage': pct_freq})\n",
    "    \n",
    "    # Print variable name\n",
    "    print('Frequency of', var.name, ':')\n",
    "    display(df)\n",
    "    \n",
    "    # Create plot\n",
    "    ax1 = pct_freq.plot.bar(title='Percentage of {}'.format(var.name), figsize=(12,8))\n",
    "    ax1.title.set_size(15)\n",
    "    pct_bar_labels()\n",
    "    plt.show()\n",
    "    \n",
    "# Define a null function\n",
    "def get_nulls(df):\n",
    "    \n",
    "    # Get null pct and counts\n",
    "    null_cols = pd.DataFrame(df.isnull().sum().sort_values(ascending=False), columns=['Null Data Count'])\n",
    "    null_cols_pct = pd.DataFrame(round(df.isnull().sum().sort_values(ascending=False)/len(df),2), columns=['Null Data Pct'])\n",
    "\n",
    "    # Combine dataframes horizontally\n",
    "    null_cols_df = pd.DataFrame(pd.concat([null_cols, null_cols_pct], axis=1))\n",
    "\n",
    "    all_nulls = null_cols_df[null_cols_df['Null Data Pct']>0]\n",
    "\n",
    "    # Print\n",
    "    print('There are', len(all_nulls), 'columns with missing values.')\n",
    "    return all_nulls"
   ]
  },
  {
   "cell_type": "markdown",
   "metadata": {},
   "source": [
    "### Data"
   ]
  },
  {
   "cell_type": "code",
   "execution_count": 4,
   "metadata": {},
   "outputs": [],
   "source": [
    "train = pd.read_csv('data/train.csv')\n",
    "test = pd.read_csv('data/test.csv')"
   ]
  },
  {
   "cell_type": "code",
   "execution_count": 5,
   "metadata": {},
   "outputs": [],
   "source": [
    "# train = train[:10000]\n",
    "# test = test[:10000]"
   ]
  },
  {
   "cell_type": "code",
   "execution_count": 6,
   "metadata": {},
   "outputs": [
    {
     "name": "stdout",
     "output_type": "stream",
     "text": [
      "(300000, 25)\n",
      "(200000, 24)\n"
     ]
    }
   ],
   "source": [
    "print(train.shape)\n",
    "print(test.shape)"
   ]
  },
  {
   "cell_type": "code",
   "execution_count": 7,
   "metadata": {},
   "outputs": [
    {
     "data": {
      "text/html": [
       "<div>\n",
       "<style scoped>\n",
       "    .dataframe tbody tr th:only-of-type {\n",
       "        vertical-align: middle;\n",
       "    }\n",
       "\n",
       "    .dataframe tbody tr th {\n",
       "        vertical-align: top;\n",
       "    }\n",
       "\n",
       "    .dataframe thead th {\n",
       "        text-align: right;\n",
       "    }\n",
       "</style>\n",
       "<table border=\"1\" class=\"dataframe\">\n",
       "  <thead>\n",
       "    <tr style=\"text-align: right;\">\n",
       "      <th></th>\n",
       "      <th>id</th>\n",
       "      <th>bin_0</th>\n",
       "      <th>bin_1</th>\n",
       "      <th>bin_2</th>\n",
       "      <th>bin_3</th>\n",
       "      <th>bin_4</th>\n",
       "      <th>nom_0</th>\n",
       "      <th>nom_1</th>\n",
       "      <th>nom_2</th>\n",
       "      <th>nom_3</th>\n",
       "      <th>nom_4</th>\n",
       "      <th>nom_5</th>\n",
       "      <th>nom_6</th>\n",
       "      <th>nom_7</th>\n",
       "      <th>nom_8</th>\n",
       "      <th>nom_9</th>\n",
       "      <th>ord_0</th>\n",
       "      <th>ord_1</th>\n",
       "      <th>ord_2</th>\n",
       "      <th>ord_3</th>\n",
       "      <th>ord_4</th>\n",
       "      <th>ord_5</th>\n",
       "      <th>day</th>\n",
       "      <th>month</th>\n",
       "      <th>target</th>\n",
       "    </tr>\n",
       "  </thead>\n",
       "  <tbody>\n",
       "    <tr>\n",
       "      <th>0</th>\n",
       "      <td>0</td>\n",
       "      <td>0</td>\n",
       "      <td>0</td>\n",
       "      <td>0</td>\n",
       "      <td>T</td>\n",
       "      <td>Y</td>\n",
       "      <td>Green</td>\n",
       "      <td>Triangle</td>\n",
       "      <td>Snake</td>\n",
       "      <td>Finland</td>\n",
       "      <td>Bassoon</td>\n",
       "      <td>50f116bcf</td>\n",
       "      <td>3ac1b8814</td>\n",
       "      <td>68f6ad3e9</td>\n",
       "      <td>c389000ab</td>\n",
       "      <td>2f4cb3d51</td>\n",
       "      <td>2</td>\n",
       "      <td>Grandmaster</td>\n",
       "      <td>Cold</td>\n",
       "      <td>h</td>\n",
       "      <td>D</td>\n",
       "      <td>kr</td>\n",
       "      <td>2</td>\n",
       "      <td>2</td>\n",
       "      <td>0</td>\n",
       "    </tr>\n",
       "    <tr>\n",
       "      <th>1</th>\n",
       "      <td>1</td>\n",
       "      <td>0</td>\n",
       "      <td>1</td>\n",
       "      <td>0</td>\n",
       "      <td>T</td>\n",
       "      <td>Y</td>\n",
       "      <td>Green</td>\n",
       "      <td>Trapezoid</td>\n",
       "      <td>Hamster</td>\n",
       "      <td>Russia</td>\n",
       "      <td>Piano</td>\n",
       "      <td>b3b4d25d0</td>\n",
       "      <td>fbcb50fc1</td>\n",
       "      <td>3b6dd5612</td>\n",
       "      <td>4cd920251</td>\n",
       "      <td>f83c56c21</td>\n",
       "      <td>1</td>\n",
       "      <td>Grandmaster</td>\n",
       "      <td>Hot</td>\n",
       "      <td>a</td>\n",
       "      <td>A</td>\n",
       "      <td>bF</td>\n",
       "      <td>7</td>\n",
       "      <td>8</td>\n",
       "      <td>0</td>\n",
       "    </tr>\n",
       "    <tr>\n",
       "      <th>2</th>\n",
       "      <td>2</td>\n",
       "      <td>0</td>\n",
       "      <td>0</td>\n",
       "      <td>0</td>\n",
       "      <td>F</td>\n",
       "      <td>Y</td>\n",
       "      <td>Blue</td>\n",
       "      <td>Trapezoid</td>\n",
       "      <td>Lion</td>\n",
       "      <td>Russia</td>\n",
       "      <td>Theremin</td>\n",
       "      <td>3263bdce5</td>\n",
       "      <td>0922e3cb8</td>\n",
       "      <td>a6a36f527</td>\n",
       "      <td>de9c9f684</td>\n",
       "      <td>ae6800dd0</td>\n",
       "      <td>1</td>\n",
       "      <td>Expert</td>\n",
       "      <td>Lava Hot</td>\n",
       "      <td>h</td>\n",
       "      <td>R</td>\n",
       "      <td>Jc</td>\n",
       "      <td>7</td>\n",
       "      <td>2</td>\n",
       "      <td>0</td>\n",
       "    </tr>\n",
       "    <tr>\n",
       "      <th>3</th>\n",
       "      <td>3</td>\n",
       "      <td>0</td>\n",
       "      <td>1</td>\n",
       "      <td>0</td>\n",
       "      <td>F</td>\n",
       "      <td>Y</td>\n",
       "      <td>Red</td>\n",
       "      <td>Trapezoid</td>\n",
       "      <td>Snake</td>\n",
       "      <td>Canada</td>\n",
       "      <td>Oboe</td>\n",
       "      <td>f12246592</td>\n",
       "      <td>50d7ad46a</td>\n",
       "      <td>ec69236eb</td>\n",
       "      <td>4ade6ab69</td>\n",
       "      <td>8270f0d71</td>\n",
       "      <td>1</td>\n",
       "      <td>Grandmaster</td>\n",
       "      <td>Boiling Hot</td>\n",
       "      <td>i</td>\n",
       "      <td>D</td>\n",
       "      <td>kW</td>\n",
       "      <td>2</td>\n",
       "      <td>1</td>\n",
       "      <td>1</td>\n",
       "    </tr>\n",
       "    <tr>\n",
       "      <th>4</th>\n",
       "      <td>4</td>\n",
       "      <td>0</td>\n",
       "      <td>0</td>\n",
       "      <td>0</td>\n",
       "      <td>F</td>\n",
       "      <td>N</td>\n",
       "      <td>Red</td>\n",
       "      <td>Trapezoid</td>\n",
       "      <td>Lion</td>\n",
       "      <td>Canada</td>\n",
       "      <td>Oboe</td>\n",
       "      <td>5b0f5acd5</td>\n",
       "      <td>1fe17a1fd</td>\n",
       "      <td>04ddac2be</td>\n",
       "      <td>cb43ab175</td>\n",
       "      <td>b164b72a7</td>\n",
       "      <td>1</td>\n",
       "      <td>Grandmaster</td>\n",
       "      <td>Freezing</td>\n",
       "      <td>a</td>\n",
       "      <td>R</td>\n",
       "      <td>qP</td>\n",
       "      <td>7</td>\n",
       "      <td>8</td>\n",
       "      <td>0</td>\n",
       "    </tr>\n",
       "  </tbody>\n",
       "</table>\n",
       "</div>"
      ],
      "text/plain": [
       "   id  bin_0  bin_1  bin_2 bin_3 bin_4  nom_0      nom_1    nom_2    nom_3  \\\n",
       "0   0      0      0      0     T     Y  Green   Triangle    Snake  Finland   \n",
       "1   1      0      1      0     T     Y  Green  Trapezoid  Hamster   Russia   \n",
       "2   2      0      0      0     F     Y   Blue  Trapezoid     Lion   Russia   \n",
       "3   3      0      1      0     F     Y    Red  Trapezoid    Snake   Canada   \n",
       "4   4      0      0      0     F     N    Red  Trapezoid     Lion   Canada   \n",
       "\n",
       "      nom_4      nom_5      nom_6      nom_7      nom_8      nom_9  ord_0  \\\n",
       "0   Bassoon  50f116bcf  3ac1b8814  68f6ad3e9  c389000ab  2f4cb3d51      2   \n",
       "1     Piano  b3b4d25d0  fbcb50fc1  3b6dd5612  4cd920251  f83c56c21      1   \n",
       "2  Theremin  3263bdce5  0922e3cb8  a6a36f527  de9c9f684  ae6800dd0      1   \n",
       "3      Oboe  f12246592  50d7ad46a  ec69236eb  4ade6ab69  8270f0d71      1   \n",
       "4      Oboe  5b0f5acd5  1fe17a1fd  04ddac2be  cb43ab175  b164b72a7      1   \n",
       "\n",
       "         ord_1        ord_2 ord_3 ord_4 ord_5  day  month  target  \n",
       "0  Grandmaster         Cold     h     D    kr    2      2       0  \n",
       "1  Grandmaster          Hot     a     A    bF    7      8       0  \n",
       "2       Expert     Lava Hot     h     R    Jc    7      2       0  \n",
       "3  Grandmaster  Boiling Hot     i     D    kW    2      1       1  \n",
       "4  Grandmaster     Freezing     a     R    qP    7      8       0  "
      ]
     },
     "execution_count": 7,
     "metadata": {},
     "output_type": "execute_result"
    }
   ],
   "source": [
    "train.head()"
   ]
  },
  {
   "cell_type": "code",
   "execution_count": 8,
   "metadata": {},
   "outputs": [
    {
     "name": "stdout",
     "output_type": "stream",
     "text": [
      "There are 0 columns with missing values.\n"
     ]
    },
    {
     "data": {
      "text/html": [
       "<div>\n",
       "<style scoped>\n",
       "    .dataframe tbody tr th:only-of-type {\n",
       "        vertical-align: middle;\n",
       "    }\n",
       "\n",
       "    .dataframe tbody tr th {\n",
       "        vertical-align: top;\n",
       "    }\n",
       "\n",
       "    .dataframe thead th {\n",
       "        text-align: right;\n",
       "    }\n",
       "</style>\n",
       "<table border=\"1\" class=\"dataframe\">\n",
       "  <thead>\n",
       "    <tr style=\"text-align: right;\">\n",
       "      <th></th>\n",
       "      <th>Null Data Count</th>\n",
       "      <th>Null Data Pct</th>\n",
       "    </tr>\n",
       "  </thead>\n",
       "  <tbody>\n",
       "  </tbody>\n",
       "</table>\n",
       "</div>"
      ],
      "text/plain": [
       "Empty DataFrame\n",
       "Columns: [Null Data Count, Null Data Pct]\n",
       "Index: []"
      ]
     },
     "execution_count": 8,
     "metadata": {},
     "output_type": "execute_result"
    }
   ],
   "source": [
    "get_nulls(train)"
   ]
  },
  {
   "cell_type": "code",
   "execution_count": 9,
   "metadata": {},
   "outputs": [
    {
     "data": {
      "text/html": [
       "<div>\n",
       "<style scoped>\n",
       "    .dataframe tbody tr th:only-of-type {\n",
       "        vertical-align: middle;\n",
       "    }\n",
       "\n",
       "    .dataframe tbody tr th {\n",
       "        vertical-align: top;\n",
       "    }\n",
       "\n",
       "    .dataframe thead th {\n",
       "        text-align: right;\n",
       "    }\n",
       "</style>\n",
       "<table border=\"1\" class=\"dataframe\">\n",
       "  <thead>\n",
       "    <tr style=\"text-align: right;\">\n",
       "      <th></th>\n",
       "      <th>id</th>\n",
       "      <th>bin_0</th>\n",
       "      <th>bin_1</th>\n",
       "      <th>bin_2</th>\n",
       "      <th>ord_0</th>\n",
       "      <th>day</th>\n",
       "      <th>month</th>\n",
       "      <th>target</th>\n",
       "    </tr>\n",
       "  </thead>\n",
       "  <tbody>\n",
       "    <tr>\n",
       "      <th>count</th>\n",
       "      <td>300000.000000</td>\n",
       "      <td>300000.000000</td>\n",
       "      <td>300000.000000</td>\n",
       "      <td>300000.000000</td>\n",
       "      <td>300000.000000</td>\n",
       "      <td>300000.000000</td>\n",
       "      <td>300000.000000</td>\n",
       "      <td>300000.00000</td>\n",
       "    </tr>\n",
       "    <tr>\n",
       "      <th>mean</th>\n",
       "      <td>149999.500000</td>\n",
       "      <td>0.127503</td>\n",
       "      <td>0.256607</td>\n",
       "      <td>0.383223</td>\n",
       "      <td>1.479567</td>\n",
       "      <td>3.007817</td>\n",
       "      <td>5.771113</td>\n",
       "      <td>0.30588</td>\n",
       "    </tr>\n",
       "    <tr>\n",
       "      <th>std</th>\n",
       "      <td>86602.684716</td>\n",
       "      <td>0.333537</td>\n",
       "      <td>0.436761</td>\n",
       "      <td>0.486173</td>\n",
       "      <td>0.712524</td>\n",
       "      <td>1.817949</td>\n",
       "      <td>3.843519</td>\n",
       "      <td>0.46078</td>\n",
       "    </tr>\n",
       "    <tr>\n",
       "      <th>min</th>\n",
       "      <td>0.000000</td>\n",
       "      <td>0.000000</td>\n",
       "      <td>0.000000</td>\n",
       "      <td>0.000000</td>\n",
       "      <td>1.000000</td>\n",
       "      <td>1.000000</td>\n",
       "      <td>1.000000</td>\n",
       "      <td>0.00000</td>\n",
       "    </tr>\n",
       "    <tr>\n",
       "      <th>25%</th>\n",
       "      <td>74999.750000</td>\n",
       "      <td>0.000000</td>\n",
       "      <td>0.000000</td>\n",
       "      <td>0.000000</td>\n",
       "      <td>1.000000</td>\n",
       "      <td>2.000000</td>\n",
       "      <td>2.000000</td>\n",
       "      <td>0.00000</td>\n",
       "    </tr>\n",
       "    <tr>\n",
       "      <th>50%</th>\n",
       "      <td>149999.500000</td>\n",
       "      <td>0.000000</td>\n",
       "      <td>0.000000</td>\n",
       "      <td>0.000000</td>\n",
       "      <td>1.000000</td>\n",
       "      <td>3.000000</td>\n",
       "      <td>4.000000</td>\n",
       "      <td>0.00000</td>\n",
       "    </tr>\n",
       "    <tr>\n",
       "      <th>75%</th>\n",
       "      <td>224999.250000</td>\n",
       "      <td>0.000000</td>\n",
       "      <td>1.000000</td>\n",
       "      <td>1.000000</td>\n",
       "      <td>2.000000</td>\n",
       "      <td>4.000000</td>\n",
       "      <td>9.000000</td>\n",
       "      <td>1.00000</td>\n",
       "    </tr>\n",
       "    <tr>\n",
       "      <th>max</th>\n",
       "      <td>299999.000000</td>\n",
       "      <td>1.000000</td>\n",
       "      <td>1.000000</td>\n",
       "      <td>1.000000</td>\n",
       "      <td>3.000000</td>\n",
       "      <td>7.000000</td>\n",
       "      <td>12.000000</td>\n",
       "      <td>1.00000</td>\n",
       "    </tr>\n",
       "  </tbody>\n",
       "</table>\n",
       "</div>"
      ],
      "text/plain": [
       "                  id          bin_0          bin_1          bin_2  \\\n",
       "count  300000.000000  300000.000000  300000.000000  300000.000000   \n",
       "mean   149999.500000       0.127503       0.256607       0.383223   \n",
       "std     86602.684716       0.333537       0.436761       0.486173   \n",
       "min         0.000000       0.000000       0.000000       0.000000   \n",
       "25%     74999.750000       0.000000       0.000000       0.000000   \n",
       "50%    149999.500000       0.000000       0.000000       0.000000   \n",
       "75%    224999.250000       0.000000       1.000000       1.000000   \n",
       "max    299999.000000       1.000000       1.000000       1.000000   \n",
       "\n",
       "               ord_0            day          month        target  \n",
       "count  300000.000000  300000.000000  300000.000000  300000.00000  \n",
       "mean        1.479567       3.007817       5.771113       0.30588  \n",
       "std         0.712524       1.817949       3.843519       0.46078  \n",
       "min         1.000000       1.000000       1.000000       0.00000  \n",
       "25%         1.000000       2.000000       2.000000       0.00000  \n",
       "50%         1.000000       3.000000       4.000000       0.00000  \n",
       "75%         2.000000       4.000000       9.000000       1.00000  \n",
       "max         3.000000       7.000000      12.000000       1.00000  "
      ]
     },
     "execution_count": 9,
     "metadata": {},
     "output_type": "execute_result"
    }
   ],
   "source": [
    "train.describe()"
   ]
  },
  {
   "cell_type": "code",
   "execution_count": 10,
   "metadata": {},
   "outputs": [
    {
     "data": {
      "text/plain": [
       "id         int64\n",
       "bin_0      int64\n",
       "bin_1      int64\n",
       "bin_2      int64\n",
       "bin_3     object\n",
       "bin_4     object\n",
       "nom_0     object\n",
       "nom_1     object\n",
       "nom_2     object\n",
       "nom_3     object\n",
       "nom_4     object\n",
       "nom_5     object\n",
       "nom_6     object\n",
       "nom_7     object\n",
       "nom_8     object\n",
       "nom_9     object\n",
       "ord_0      int64\n",
       "ord_1     object\n",
       "ord_2     object\n",
       "ord_3     object\n",
       "ord_4     object\n",
       "ord_5     object\n",
       "day        int64\n",
       "month      int64\n",
       "target     int64\n",
       "dtype: object"
      ]
     },
     "execution_count": 10,
     "metadata": {},
     "output_type": "execute_result"
    }
   ],
   "source": [
    "train.dtypes"
   ]
  },
  {
   "cell_type": "markdown",
   "metadata": {},
   "source": [
    "### Combine"
   ]
  },
  {
   "cell_type": "code",
   "execution_count": 11,
   "metadata": {},
   "outputs": [],
   "source": [
    "test['target'] = -1\n",
    "data = pd.concat([train, test]).reset_index(drop=True)"
   ]
  },
  {
   "cell_type": "code",
   "execution_count": 12,
   "metadata": {},
   "outputs": [],
   "source": [
    "features = [x for x in train.columns if x not in ['id', 'target']]"
   ]
  },
  {
   "cell_type": "markdown",
   "metadata": {},
   "source": [
    "### Label encode all features"
   ]
  },
  {
   "cell_type": "code",
   "execution_count": 13,
   "metadata": {},
   "outputs": [],
   "source": [
    "for feature in features:\n",
    "    lbl_enc = LabelEncoder()\n",
    "    data[feature] = lbl_enc.fit_transform(data[feature].values)"
   ]
  },
  {
   "cell_type": "code",
   "execution_count": 14,
   "metadata": {},
   "outputs": [],
   "source": [
    "train = data[data.target != -1].reset_index(drop=True)\n",
    "test = data[data.target == -1].reset_index(drop=True)"
   ]
  },
  {
   "cell_type": "markdown",
   "metadata": {},
   "source": [
    "### Split"
   ]
  },
  {
   "cell_type": "code",
   "execution_count": 15,
   "metadata": {},
   "outputs": [
    {
     "data": {
      "text/html": [
       "<div>\n",
       "<style scoped>\n",
       "    .dataframe tbody tr th:only-of-type {\n",
       "        vertical-align: middle;\n",
       "    }\n",
       "\n",
       "    .dataframe tbody tr th {\n",
       "        vertical-align: top;\n",
       "    }\n",
       "\n",
       "    .dataframe thead th {\n",
       "        text-align: right;\n",
       "    }\n",
       "</style>\n",
       "<table border=\"1\" class=\"dataframe\">\n",
       "  <thead>\n",
       "    <tr style=\"text-align: right;\">\n",
       "      <th></th>\n",
       "      <th>id</th>\n",
       "      <th>bin_0</th>\n",
       "      <th>bin_1</th>\n",
       "      <th>bin_2</th>\n",
       "      <th>bin_3</th>\n",
       "      <th>bin_4</th>\n",
       "      <th>nom_0</th>\n",
       "      <th>nom_1</th>\n",
       "      <th>nom_2</th>\n",
       "      <th>nom_3</th>\n",
       "      <th>nom_4</th>\n",
       "      <th>nom_5</th>\n",
       "      <th>nom_6</th>\n",
       "      <th>nom_7</th>\n",
       "      <th>nom_8</th>\n",
       "      <th>nom_9</th>\n",
       "      <th>ord_0</th>\n",
       "      <th>ord_1</th>\n",
       "      <th>ord_2</th>\n",
       "      <th>ord_3</th>\n",
       "      <th>ord_4</th>\n",
       "      <th>ord_5</th>\n",
       "      <th>day</th>\n",
       "      <th>month</th>\n",
       "      <th>target</th>\n",
       "    </tr>\n",
       "  </thead>\n",
       "  <tbody>\n",
       "    <tr>\n",
       "      <th>0</th>\n",
       "      <td>0</td>\n",
       "      <td>0</td>\n",
       "      <td>0</td>\n",
       "      <td>0</td>\n",
       "      <td>1</td>\n",
       "      <td>1</td>\n",
       "      <td>1</td>\n",
       "      <td>5</td>\n",
       "      <td>5</td>\n",
       "      <td>3</td>\n",
       "      <td>0</td>\n",
       "      <td>78</td>\n",
       "      <td>120</td>\n",
       "      <td>491</td>\n",
       "      <td>1689</td>\n",
       "      <td>2192</td>\n",
       "      <td>1</td>\n",
       "      <td>2</td>\n",
       "      <td>1</td>\n",
       "      <td>7</td>\n",
       "      <td>3</td>\n",
       "      <td>136</td>\n",
       "      <td>1</td>\n",
       "      <td>1</td>\n",
       "      <td>0</td>\n",
       "    </tr>\n",
       "    <tr>\n",
       "      <th>1</th>\n",
       "      <td>1</td>\n",
       "      <td>0</td>\n",
       "      <td>1</td>\n",
       "      <td>0</td>\n",
       "      <td>1</td>\n",
       "      <td>1</td>\n",
       "      <td>1</td>\n",
       "      <td>4</td>\n",
       "      <td>3</td>\n",
       "      <td>5</td>\n",
       "      <td>2</td>\n",
       "      <td>159</td>\n",
       "      <td>510</td>\n",
       "      <td>260</td>\n",
       "      <td>652</td>\n",
       "      <td>11719</td>\n",
       "      <td>0</td>\n",
       "      <td>2</td>\n",
       "      <td>3</td>\n",
       "      <td>0</td>\n",
       "      <td>0</td>\n",
       "      <td>93</td>\n",
       "      <td>6</td>\n",
       "      <td>7</td>\n",
       "      <td>0</td>\n",
       "    </tr>\n",
       "    <tr>\n",
       "      <th>2</th>\n",
       "      <td>2</td>\n",
       "      <td>0</td>\n",
       "      <td>0</td>\n",
       "      <td>0</td>\n",
       "      <td>0</td>\n",
       "      <td>1</td>\n",
       "      <td>0</td>\n",
       "      <td>4</td>\n",
       "      <td>4</td>\n",
       "      <td>5</td>\n",
       "      <td>3</td>\n",
       "      <td>44</td>\n",
       "      <td>14</td>\n",
       "      <td>766</td>\n",
       "      <td>1935</td>\n",
       "      <td>8140</td>\n",
       "      <td>0</td>\n",
       "      <td>1</td>\n",
       "      <td>4</td>\n",
       "      <td>7</td>\n",
       "      <td>17</td>\n",
       "      <td>31</td>\n",
       "      <td>6</td>\n",
       "      <td>1</td>\n",
       "      <td>0</td>\n",
       "    </tr>\n",
       "    <tr>\n",
       "      <th>3</th>\n",
       "      <td>3</td>\n",
       "      <td>0</td>\n",
       "      <td>1</td>\n",
       "      <td>0</td>\n",
       "      <td>0</td>\n",
       "      <td>1</td>\n",
       "      <td>2</td>\n",
       "      <td>4</td>\n",
       "      <td>5</td>\n",
       "      <td>0</td>\n",
       "      <td>1</td>\n",
       "      <td>209</td>\n",
       "      <td>165</td>\n",
       "      <td>1121</td>\n",
       "      <td>631</td>\n",
       "      <td>6098</td>\n",
       "      <td>0</td>\n",
       "      <td>2</td>\n",
       "      <td>0</td>\n",
       "      <td>8</td>\n",
       "      <td>3</td>\n",
       "      <td>134</td>\n",
       "      <td>1</td>\n",
       "      <td>0</td>\n",
       "      <td>1</td>\n",
       "    </tr>\n",
       "    <tr>\n",
       "      <th>4</th>\n",
       "      <td>4</td>\n",
       "      <td>0</td>\n",
       "      <td>0</td>\n",
       "      <td>0</td>\n",
       "      <td>0</td>\n",
       "      <td>0</td>\n",
       "      <td>2</td>\n",
       "      <td>4</td>\n",
       "      <td>4</td>\n",
       "      <td>0</td>\n",
       "      <td>1</td>\n",
       "      <td>90</td>\n",
       "      <td>61</td>\n",
       "      <td>34</td>\n",
       "      <td>1763</td>\n",
       "      <td>8293</td>\n",
       "      <td>0</td>\n",
       "      <td>2</td>\n",
       "      <td>2</td>\n",
       "      <td>0</td>\n",
       "      <td>17</td>\n",
       "      <td>158</td>\n",
       "      <td>6</td>\n",
       "      <td>7</td>\n",
       "      <td>0</td>\n",
       "    </tr>\n",
       "  </tbody>\n",
       "</table>\n",
       "</div>"
      ],
      "text/plain": [
       "   id  bin_0  bin_1  bin_2  bin_3  bin_4  nom_0  nom_1  nom_2  nom_3  nom_4  \\\n",
       "0   0      0      0      0      1      1      1      5      5      3      0   \n",
       "1   1      0      1      0      1      1      1      4      3      5      2   \n",
       "2   2      0      0      0      0      1      0      4      4      5      3   \n",
       "3   3      0      1      0      0      1      2      4      5      0      1   \n",
       "4   4      0      0      0      0      0      2      4      4      0      1   \n",
       "\n",
       "   nom_5  nom_6  nom_7  nom_8  nom_9  ord_0  ord_1  ord_2  ord_3  ord_4  \\\n",
       "0     78    120    491   1689   2192      1      2      1      7      3   \n",
       "1    159    510    260    652  11719      0      2      3      0      0   \n",
       "2     44     14    766   1935   8140      0      1      4      7     17   \n",
       "3    209    165   1121    631   6098      0      2      0      8      3   \n",
       "4     90     61     34   1763   8293      0      2      2      0     17   \n",
       "\n",
       "   ord_5  day  month  target  \n",
       "0    136    1      1       0  \n",
       "1     93    6      7       0  \n",
       "2     31    6      1       0  \n",
       "3    134    1      0       1  \n",
       "4    158    6      7       0  "
      ]
     },
     "execution_count": 15,
     "metadata": {},
     "output_type": "execute_result"
    }
   ],
   "source": [
    "train.head()"
   ]
  },
  {
   "cell_type": "code",
   "execution_count": 16,
   "metadata": {},
   "outputs": [
    {
     "data": {
      "text/html": [
       "<div>\n",
       "<style scoped>\n",
       "    .dataframe tbody tr th:only-of-type {\n",
       "        vertical-align: middle;\n",
       "    }\n",
       "\n",
       "    .dataframe tbody tr th {\n",
       "        vertical-align: top;\n",
       "    }\n",
       "\n",
       "    .dataframe thead th {\n",
       "        text-align: right;\n",
       "    }\n",
       "</style>\n",
       "<table border=\"1\" class=\"dataframe\">\n",
       "  <thead>\n",
       "    <tr style=\"text-align: right;\">\n",
       "      <th></th>\n",
       "      <th>id</th>\n",
       "      <th>bin_0</th>\n",
       "      <th>bin_1</th>\n",
       "      <th>bin_2</th>\n",
       "      <th>bin_3</th>\n",
       "      <th>bin_4</th>\n",
       "      <th>nom_0</th>\n",
       "      <th>nom_1</th>\n",
       "      <th>nom_2</th>\n",
       "      <th>nom_3</th>\n",
       "      <th>nom_4</th>\n",
       "      <th>nom_5</th>\n",
       "      <th>nom_6</th>\n",
       "      <th>nom_7</th>\n",
       "      <th>nom_8</th>\n",
       "      <th>nom_9</th>\n",
       "      <th>ord_0</th>\n",
       "      <th>ord_1</th>\n",
       "      <th>ord_2</th>\n",
       "      <th>ord_3</th>\n",
       "      <th>ord_4</th>\n",
       "      <th>ord_5</th>\n",
       "      <th>day</th>\n",
       "      <th>month</th>\n",
       "      <th>target</th>\n",
       "    </tr>\n",
       "  </thead>\n",
       "  <tbody>\n",
       "    <tr>\n",
       "      <th>0</th>\n",
       "      <td>300000</td>\n",
       "      <td>0</td>\n",
       "      <td>0</td>\n",
       "      <td>1</td>\n",
       "      <td>1</td>\n",
       "      <td>1</td>\n",
       "      <td>0</td>\n",
       "      <td>5</td>\n",
       "      <td>0</td>\n",
       "      <td>3</td>\n",
       "      <td>2</td>\n",
       "      <td>8</td>\n",
       "      <td>320</td>\n",
       "      <td>372</td>\n",
       "      <td>1370</td>\n",
       "      <td>2836</td>\n",
       "      <td>1</td>\n",
       "      <td>4</td>\n",
       "      <td>5</td>\n",
       "      <td>9</td>\n",
       "      <td>15</td>\n",
       "      <td>95</td>\n",
       "      <td>4</td>\n",
       "      <td>10</td>\n",
       "      <td>-1</td>\n",
       "    </tr>\n",
       "    <tr>\n",
       "      <th>1</th>\n",
       "      <td>300001</td>\n",
       "      <td>0</td>\n",
       "      <td>0</td>\n",
       "      <td>0</td>\n",
       "      <td>1</td>\n",
       "      <td>0</td>\n",
       "      <td>2</td>\n",
       "      <td>2</td>\n",
       "      <td>4</td>\n",
       "      <td>0</td>\n",
       "      <td>2</td>\n",
       "      <td>151</td>\n",
       "      <td>53</td>\n",
       "      <td>79</td>\n",
       "      <td>597</td>\n",
       "      <td>1906</td>\n",
       "      <td>0</td>\n",
       "      <td>3</td>\n",
       "      <td>4</td>\n",
       "      <td>11</td>\n",
       "      <td>0</td>\n",
       "      <td>61</td>\n",
       "      <td>6</td>\n",
       "      <td>4</td>\n",
       "      <td>-1</td>\n",
       "    </tr>\n",
       "    <tr>\n",
       "      <th>2</th>\n",
       "      <td>300002</td>\n",
       "      <td>1</td>\n",
       "      <td>0</td>\n",
       "      <td>1</td>\n",
       "      <td>0</td>\n",
       "      <td>1</td>\n",
       "      <td>0</td>\n",
       "      <td>2</td>\n",
       "      <td>2</td>\n",
       "      <td>1</td>\n",
       "      <td>2</td>\n",
       "      <td>84</td>\n",
       "      <td>61</td>\n",
       "      <td>164</td>\n",
       "      <td>1574</td>\n",
       "      <td>5214</td>\n",
       "      <td>1</td>\n",
       "      <td>1</td>\n",
       "      <td>2</td>\n",
       "      <td>0</td>\n",
       "      <td>6</td>\n",
       "      <td>172</td>\n",
       "      <td>0</td>\n",
       "      <td>11</td>\n",
       "      <td>-1</td>\n",
       "    </tr>\n",
       "    <tr>\n",
       "      <th>3</th>\n",
       "      <td>300003</td>\n",
       "      <td>0</td>\n",
       "      <td>0</td>\n",
       "      <td>1</td>\n",
       "      <td>1</td>\n",
       "      <td>1</td>\n",
       "      <td>2</td>\n",
       "      <td>3</td>\n",
       "      <td>1</td>\n",
       "      <td>1</td>\n",
       "      <td>2</td>\n",
       "      <td>173</td>\n",
       "      <td>334</td>\n",
       "      <td>199</td>\n",
       "      <td>107</td>\n",
       "      <td>8521</td>\n",
       "      <td>0</td>\n",
       "      <td>0</td>\n",
       "      <td>4</td>\n",
       "      <td>1</td>\n",
       "      <td>16</td>\n",
       "      <td>135</td>\n",
       "      <td>1</td>\n",
       "      <td>2</td>\n",
       "      <td>-1</td>\n",
       "    </tr>\n",
       "    <tr>\n",
       "      <th>4</th>\n",
       "      <td>300004</td>\n",
       "      <td>0</td>\n",
       "      <td>1</td>\n",
       "      <td>1</td>\n",
       "      <td>0</td>\n",
       "      <td>0</td>\n",
       "      <td>2</td>\n",
       "      <td>4</td>\n",
       "      <td>2</td>\n",
       "      <td>1</td>\n",
       "      <td>2</td>\n",
       "      <td>197</td>\n",
       "      <td>305</td>\n",
       "      <td>752</td>\n",
       "      <td>2160</td>\n",
       "      <td>7027</td>\n",
       "      <td>2</td>\n",
       "      <td>2</td>\n",
       "      <td>4</td>\n",
       "      <td>11</td>\n",
       "      <td>22</td>\n",
       "      <td>157</td>\n",
       "      <td>3</td>\n",
       "      <td>10</td>\n",
       "      <td>-1</td>\n",
       "    </tr>\n",
       "  </tbody>\n",
       "</table>\n",
       "</div>"
      ],
      "text/plain": [
       "       id  bin_0  bin_1  bin_2  bin_3  bin_4  nom_0  nom_1  nom_2  nom_3  \\\n",
       "0  300000      0      0      1      1      1      0      5      0      3   \n",
       "1  300001      0      0      0      1      0      2      2      4      0   \n",
       "2  300002      1      0      1      0      1      0      2      2      1   \n",
       "3  300003      0      0      1      1      1      2      3      1      1   \n",
       "4  300004      0      1      1      0      0      2      4      2      1   \n",
       "\n",
       "   nom_4  nom_5  nom_6  nom_7  nom_8  nom_9  ord_0  ord_1  ord_2  ord_3  \\\n",
       "0      2      8    320    372   1370   2836      1      4      5      9   \n",
       "1      2    151     53     79    597   1906      0      3      4     11   \n",
       "2      2     84     61    164   1574   5214      1      1      2      0   \n",
       "3      2    173    334    199    107   8521      0      0      4      1   \n",
       "4      2    197    305    752   2160   7027      2      2      4     11   \n",
       "\n",
       "   ord_4  ord_5  day  month  target  \n",
       "0     15     95    4     10      -1  \n",
       "1      0     61    6      4      -1  \n",
       "2      6    172    0     11      -1  \n",
       "3     16    135    1      2      -1  \n",
       "4     22    157    3     10      -1  "
      ]
     },
     "execution_count": 16,
     "metadata": {},
     "output_type": "execute_result"
    }
   ],
   "source": [
    "test.head()"
   ]
  },
  {
   "cell_type": "code",
   "execution_count": 17,
   "metadata": {},
   "outputs": [],
   "source": [
    "y = train[['target']]\n",
    "X = train.drop(['id', 'target'], axis=1)"
   ]
  },
  {
   "cell_type": "code",
   "execution_count": 18,
   "metadata": {},
   "outputs": [],
   "source": [
    "X_array = X.values"
   ]
  },
  {
   "cell_type": "code",
   "execution_count": 19,
   "metadata": {},
   "outputs": [
    {
     "data": {
      "text/plain": [
       "(300000, 23)"
      ]
     },
     "execution_count": 19,
     "metadata": {},
     "output_type": "execute_result"
    }
   ],
   "source": [
    "X_array.shape"
   ]
  },
  {
   "cell_type": "code",
   "execution_count": 20,
   "metadata": {},
   "outputs": [
    {
     "data": {
      "text/plain": [
       "(300000, 23)"
      ]
     },
     "execution_count": 20,
     "metadata": {},
     "output_type": "execute_result"
    }
   ],
   "source": [
    "X.shape"
   ]
  },
  {
   "cell_type": "code",
   "execution_count": 21,
   "metadata": {},
   "outputs": [
    {
     "data": {
      "text/plain": [
       "pandas.core.frame.DataFrame"
      ]
     },
     "execution_count": 21,
     "metadata": {},
     "output_type": "execute_result"
    }
   ],
   "source": [
    "type(X)"
   ]
  },
  {
   "cell_type": "code",
   "execution_count": 22,
   "metadata": {},
   "outputs": [],
   "source": [
    "X_train, X_test, y_train, y_test = train_test_split(X_array, y, test_size=0.3, random_state=100)"
   ]
  },
  {
   "cell_type": "code",
   "execution_count": 23,
   "metadata": {},
   "outputs": [],
   "source": [
    "scaler = StandardScaler()\n",
    "\n",
    "# Transform the features\n",
    "X_train = scaler.fit_transform(X_train)\n",
    "X_test = scaler.transform(X_test)"
   ]
  },
  {
   "cell_type": "code",
   "execution_count": 24,
   "metadata": {},
   "outputs": [
    {
     "name": "stdout",
     "output_type": "stream",
     "text": [
      "(210000, 23)\n"
     ]
    }
   ],
   "source": [
    "print(X_train.shape)"
   ]
  },
  {
   "cell_type": "code",
   "execution_count": 25,
   "metadata": {},
   "outputs": [
    {
     "data": {
      "text/plain": [
       "array([[-0.38118296, -0.58762974, -0.78857279, ..., -1.39007646,\n",
       "        -0.55473124,  1.62002433],\n",
       "       [-0.38118296, -0.58762974,  1.26811375, ...,  1.51308929,\n",
       "        -1.10509885, -1.24354986],\n",
       "       [ 2.62341211, -0.58762974, -0.78857279, ...,  1.51308929,\n",
       "        -0.00436363, -0.98322494],\n",
       "       ...,\n",
       "       [-0.38118296, -0.58762974, -0.78857279, ...,  1.13441549,\n",
       "         0.54600398, -0.98322494],\n",
       "       [-0.38118296,  1.70175184, -0.78857279, ...,  0.59345293,\n",
       "         0.54600398,  0.57872463],\n",
       "       [-0.38118296, -0.58762974,  1.26811375, ..., -0.77698556,\n",
       "        -1.10509885,  1.09937448]])"
      ]
     },
     "execution_count": 25,
     "metadata": {},
     "output_type": "execute_result"
    }
   ],
   "source": [
    "X_train"
   ]
  },
  {
   "cell_type": "markdown",
   "metadata": {},
   "source": [
    "### Model"
   ]
  },
  {
   "cell_type": "code",
   "execution_count": 26,
   "metadata": {},
   "outputs": [],
   "source": [
    "# Define model parameters\n",
    "batch_size = 256\n",
    "epochs = 50\n",
    "\n",
    "# Build the neural network\n",
    "def build_model():\n",
    "    model = Sequential([\n",
    "        Dense(256, activation='relu', input_shape=(X_train.shape[1], )),\n",
    "        Dropout(0.3),\n",
    "        BatchNormalization(),\n",
    "        Dense(256, activation='relu'),\n",
    "        Dropout(0.3),\n",
    "        BatchNormalization(),\n",
    "        Dense(1, activation='sigmoid') # no activation if regression; usually an output of 1; Dense(1, activation='sigmoid')   \n",
    "    ])\n",
    "    \n",
    "    # Compile\n",
    "    model.compile(optimizer='adam',\n",
    "                  loss='binary_crossentropy',\n",
    "                  metrics=['accuracy'])\n",
    "    \n",
    "    return model"
   ]
  },
  {
   "cell_type": "code",
   "execution_count": 27,
   "metadata": {},
   "outputs": [
    {
     "name": "stdout",
     "output_type": "stream",
     "text": [
      "WARNING:tensorflow:From C:\\Users\\David Ly\\Anaconda3\\envs\\tf-test\\lib\\site-packages\\tensorflow\\python\\framework\\op_def_library.py:263: colocate_with (from tensorflow.python.framework.ops) is deprecated and will be removed in a future version.\n",
      "Instructions for updating:\n",
      "Colocations handled automatically by placer.\n",
      "WARNING:tensorflow:From C:\\Users\\David Ly\\Anaconda3\\envs\\tf-test\\lib\\site-packages\\keras\\backend\\tensorflow_backend.py:3445: calling dropout (from tensorflow.python.ops.nn_ops) with keep_prob is deprecated and will be removed in a future version.\n",
      "Instructions for updating:\n",
      "Please use `rate` instead of `keep_prob`. Rate should be set to `rate = 1 - keep_prob`.\n"
     ]
    }
   ],
   "source": [
    "model = build_model()"
   ]
  },
  {
   "cell_type": "code",
   "execution_count": 28,
   "metadata": {},
   "outputs": [
    {
     "name": "stdout",
     "output_type": "stream",
     "text": [
      "_________________________________________________________________\n",
      "Layer (type)                 Output Shape              Param #   \n",
      "=================================================================\n",
      "dense_1 (Dense)              (None, 256)               6144      \n",
      "_________________________________________________________________\n",
      "dropout_1 (Dropout)          (None, 256)               0         \n",
      "_________________________________________________________________\n",
      "batch_normalization_1 (Batch (None, 256)               1024      \n",
      "_________________________________________________________________\n",
      "dense_2 (Dense)              (None, 256)               65792     \n",
      "_________________________________________________________________\n",
      "dropout_2 (Dropout)          (None, 256)               0         \n",
      "_________________________________________________________________\n",
      "batch_normalization_2 (Batch (None, 256)               1024      \n",
      "_________________________________________________________________\n",
      "dense_3 (Dense)              (None, 1)                 257       \n",
      "=================================================================\n",
      "Total params: 74,241\n",
      "Trainable params: 73,217\n",
      "Non-trainable params: 1,024\n",
      "_________________________________________________________________\n"
     ]
    }
   ],
   "source": [
    "# Model summary\n",
    "model.summary()"
   ]
  },
  {
   "cell_type": "code",
   "execution_count": 29,
   "metadata": {},
   "outputs": [],
   "source": [
    "# Define callback if there's no improvement\n",
    "early_stop = keras.callbacks.EarlyStopping(monitor='val_loss', patience=10)"
   ]
  },
  {
   "cell_type": "markdown",
   "metadata": {},
   "source": [
    "### Fitting the model (initial attempt)"
   ]
  },
  {
   "cell_type": "code",
   "execution_count": 30,
   "metadata": {
    "scrolled": false
   },
   "outputs": [
    {
     "name": "stdout",
     "output_type": "stream",
     "text": [
      "WARNING:tensorflow:From C:\\Users\\David Ly\\Anaconda3\\envs\\tf-test\\lib\\site-packages\\tensorflow\\python\\ops\\math_ops.py:3066: to_int32 (from tensorflow.python.ops.math_ops) is deprecated and will be removed in a future version.\n",
      "Instructions for updating:\n",
      "Use tf.cast instead.\n",
      "Train on 210000 samples, validate on 90000 samples\n",
      "Epoch 1/50\n",
      "210000/210000 [==============================] - 5s 22us/step - loss: 0.5782 - acc: 0.7019 - val_loss: 0.5347 - val_acc: 0.7302\n",
      "Epoch 2/50\n",
      "210000/210000 [==============================] - 4s 17us/step - loss: 0.5434 - acc: 0.7238 - val_loss: 0.5296 - val_acc: 0.7344\n",
      "Epoch 3/50\n",
      "210000/210000 [==============================] - 4s 18us/step - loss: 0.5388 - acc: 0.7281 - val_loss: 0.5278 - val_acc: 0.7353\n",
      "Epoch 4/50\n",
      "210000/210000 [==============================] - 4s 18us/step - loss: 0.5363 - acc: 0.7297 - val_loss: 0.5265 - val_acc: 0.7361\n",
      "Epoch 5/50\n",
      "210000/210000 [==============================] - 4s 17us/step - loss: 0.5348 - acc: 0.7299 - val_loss: 0.5263 - val_acc: 0.7359\n",
      "Epoch 6/50\n",
      "210000/210000 [==============================] - 4s 17us/step - loss: 0.5329 - acc: 0.7316 - val_loss: 0.5251 - val_acc: 0.7370\n",
      "Epoch 7/50\n",
      "210000/210000 [==============================] - 4s 17us/step - loss: 0.5318 - acc: 0.7331 - val_loss: 0.5247 - val_acc: 0.7372\n",
      "Epoch 8/50\n",
      "210000/210000 [==============================] - 4s 17us/step - loss: 0.5302 - acc: 0.7325 - val_loss: 0.5229 - val_acc: 0.7378\n",
      "Epoch 9/50\n",
      "210000/210000 [==============================] - 4s 17us/step - loss: 0.5298 - acc: 0.7334 - val_loss: 0.5229 - val_acc: 0.7385\n",
      "Epoch 10/50\n",
      "210000/210000 [==============================] - 4s 17us/step - loss: 0.5291 - acc: 0.7346 - val_loss: 0.5240 - val_acc: 0.7384\n",
      "Epoch 11/50\n",
      "210000/210000 [==============================] - 4s 17us/step - loss: 0.5285 - acc: 0.7352 - val_loss: 0.5223 - val_acc: 0.7388\n",
      "Epoch 12/50\n",
      "210000/210000 [==============================] - 4s 17us/step - loss: 0.5280 - acc: 0.7345 - val_loss: 0.5242 - val_acc: 0.7379\n",
      "Epoch 13/50\n",
      "210000/210000 [==============================] - 4s 17us/step - loss: 0.5272 - acc: 0.7350 - val_loss: 0.5227 - val_acc: 0.7387\n",
      "Epoch 14/50\n",
      "210000/210000 [==============================] - 4s 17us/step - loss: 0.5276 - acc: 0.7351 - val_loss: 0.5223 - val_acc: 0.7387\n",
      "Epoch 15/50\n",
      "210000/210000 [==============================] - 4s 17us/step - loss: 0.5267 - acc: 0.7362 - val_loss: 0.5220 - val_acc: 0.7389\n",
      "Epoch 16/50\n",
      "210000/210000 [==============================] - 4s 17us/step - loss: 0.5264 - acc: 0.7360 - val_loss: 0.5227 - val_acc: 0.7389\n",
      "Epoch 17/50\n",
      "210000/210000 [==============================] - 4s 17us/step - loss: 0.5262 - acc: 0.7363 - val_loss: 0.5227 - val_acc: 0.7382\n",
      "Epoch 18/50\n",
      "210000/210000 [==============================] - 4s 17us/step - loss: 0.5253 - acc: 0.7373 - val_loss: 0.5229 - val_acc: 0.7378\n",
      "Epoch 19/50\n",
      "210000/210000 [==============================] - 4s 17us/step - loss: 0.5257 - acc: 0.7370 - val_loss: 0.5222 - val_acc: 0.7381\n",
      "Epoch 20/50\n",
      "210000/210000 [==============================] - 4s 18us/step - loss: 0.5249 - acc: 0.7370 - val_loss: 0.5220 - val_acc: 0.7393\n",
      "Epoch 21/50\n",
      "210000/210000 [==============================] - 4s 18us/step - loss: 0.5247 - acc: 0.7373 - val_loss: 0.5227 - val_acc: 0.7380\n",
      "Epoch 22/50\n",
      "210000/210000 [==============================] - 4s 18us/step - loss: 0.5244 - acc: 0.7374 - val_loss: 0.5221 - val_acc: 0.7389\n",
      "Epoch 23/50\n",
      "210000/210000 [==============================] - 4s 17us/step - loss: 0.5241 - acc: 0.7381 - val_loss: 0.5217 - val_acc: 0.7389\n",
      "Epoch 24/50\n",
      "210000/210000 [==============================] - 4s 17us/step - loss: 0.5233 - acc: 0.7382 - val_loss: 0.5213 - val_acc: 0.7394\n",
      "Epoch 25/50\n",
      "210000/210000 [==============================] - 4s 17us/step - loss: 0.5234 - acc: 0.7385 - val_loss: 0.5215 - val_acc: 0.7397\n",
      "Epoch 26/50\n",
      "210000/210000 [==============================] - 4s 17us/step - loss: 0.5230 - acc: 0.7384 - val_loss: 0.5223 - val_acc: 0.7381\n",
      "Epoch 27/50\n",
      "210000/210000 [==============================] - 4s 17us/step - loss: 0.5221 - acc: 0.7392 - val_loss: 0.5229 - val_acc: 0.7393\n",
      "Epoch 28/50\n",
      "210000/210000 [==============================] - 4s 17us/step - loss: 0.5225 - acc: 0.7384 - val_loss: 0.5211 - val_acc: 0.7397\n",
      "Epoch 29/50\n",
      "210000/210000 [==============================] - 4s 17us/step - loss: 0.5218 - acc: 0.7385 - val_loss: 0.5213 - val_acc: 0.7390\n",
      "Epoch 30/50\n",
      "210000/210000 [==============================] - 4s 17us/step - loss: 0.5217 - acc: 0.7397 - val_loss: 0.5222 - val_acc: 0.7388\n",
      "Epoch 31/50\n",
      "210000/210000 [==============================] - 4s 17us/step - loss: 0.5219 - acc: 0.7395 - val_loss: 0.5217 - val_acc: 0.7386\n",
      "Epoch 32/50\n",
      "210000/210000 [==============================] - 4s 17us/step - loss: 0.5218 - acc: 0.7393 - val_loss: 0.5218 - val_acc: 0.7388\n",
      "Epoch 33/50\n",
      "210000/210000 [==============================] - 4s 17us/step - loss: 0.5208 - acc: 0.7400 - val_loss: 0.5229 - val_acc: 0.7381\n",
      "Epoch 34/50\n",
      "210000/210000 [==============================] - 4s 18us/step - loss: 0.5210 - acc: 0.7404 - val_loss: 0.5221 - val_acc: 0.7392\n",
      "Epoch 35/50\n",
      "210000/210000 [==============================] - 4s 18us/step - loss: 0.5213 - acc: 0.7396 - val_loss: 0.5221 - val_acc: 0.7395\n",
      "Epoch 36/50\n",
      "210000/210000 [==============================] - 4s 18us/step - loss: 0.5206 - acc: 0.7394 - val_loss: 0.5220 - val_acc: 0.7397\n",
      "Epoch 37/50\n",
      "210000/210000 [==============================] - 4s 17us/step - loss: 0.5206 - acc: 0.7396 - val_loss: 0.5221 - val_acc: 0.7391\n",
      "Epoch 38/50\n",
      "210000/210000 [==============================] - 4s 17us/step - loss: 0.5200 - acc: 0.7408 - val_loss: 0.5228 - val_acc: 0.7388\n",
      "Wall time: 2min 19s\n"
     ]
    }
   ],
   "source": [
    "%%time \n",
    "history = model.fit(X_train,\n",
    "                    y_train,\n",
    "                    epochs=epochs,\n",
    "                    batch_size=batch_size,\n",
    "                    callbacks=[early_stop],\n",
    "                    validation_data = (X_test, y_test))"
   ]
  },
  {
   "cell_type": "code",
   "execution_count": 31,
   "metadata": {},
   "outputs": [
    {
     "data": {
      "image/png": "[encoded data removed]",
      "text/plain": [
       "<Figure size 576x576 with 2 Axes>"
      ]
     },
     "metadata": {
      "needs_background": "light"
     },
     "output_type": "display_data"
    }
   ],
   "source": [
    "plot_history(history)"
   ]
  },
  {
   "cell_type": "code",
   "execution_count": null,
   "metadata": {},
   "outputs": [],
   "source": []
  },
  {
   "cell_type": "markdown",
   "metadata": {},
   "source": [
    "### Evaluation"
   ]
  },
  {
   "cell_type": "code",
   "execution_count": 46,
   "metadata": {},
   "outputs": [
    {
     "ename": "ValueError",
     "evalue": "The truth value of an array with more than one element is ambiguous. Use a.any() or a.all()",
     "output_type": "error",
     "traceback": [
      "\u001b[1;31m---------------------------------------------------------------------------\u001b[0m",
      "\u001b[1;31mValueError\u001b[0m                                Traceback (most recent call last)",
      "\u001b[1;32m<ipython-input-46-bd22a8021663>\u001b[0m in \u001b[0;36m<module>\u001b[1;34m\u001b[0m\n\u001b[0;32m      1\u001b[0m \u001b[1;31m# Once trained, find out how the model has performed\u001b[0m\u001b[1;33m\u001b[0m\u001b[1;33m\u001b[0m\u001b[1;33m\u001b[0m\u001b[0m\n\u001b[0;32m      2\u001b[0m \u001b[0mtest_pred\u001b[0m \u001b[1;33m=\u001b[0m \u001b[0mmodel\u001b[0m\u001b[1;33m.\u001b[0m\u001b[0mpredict\u001b[0m\u001b[1;33m(\u001b[0m\u001b[0mX_test\u001b[0m\u001b[1;33m)\u001b[0m\u001b[1;33m\u001b[0m\u001b[1;33m\u001b[0m\u001b[0m\n\u001b[1;32m----> 3\u001b[1;33m \u001b[0mtest_pred\u001b[0m \u001b[1;33m=\u001b[0m \u001b[1;33m[\u001b[0m\u001b[1;36m1\u001b[0m \u001b[1;32mif\u001b[0m \u001b[0mtest_pred\u001b[0m \u001b[1;33m>=\u001b[0m \u001b[1;36m0.50\u001b[0m \u001b[1;32melse\u001b[0m \u001b[1;36m0\u001b[0m\u001b[1;33m]\u001b[0m\u001b[1;33m\u001b[0m\u001b[1;33m\u001b[0m\u001b[0m\n\u001b[0m\u001b[0;32m      4\u001b[0m \u001b[1;33m\u001b[0m\u001b[0m\n\u001b[0;32m      5\u001b[0m \u001b[1;31m# Compare predicted value to the actual y_test variable\u001b[0m\u001b[1;33m\u001b[0m\u001b[1;33m\u001b[0m\u001b[1;33m\u001b[0m\u001b[0m\n",
      "\u001b[1;31mValueError\u001b[0m: The truth value of an array with more than one element is ambiguous. Use a.any() or a.all()"
     ]
    }
   ],
   "source": [
    "# Once trained, find out how the model has performed\n",
    "test_pred = model.predict(X_test)\n",
    "test_pred = [1 if test_pred >= 0.50 else 0]\n",
    "\n",
    "# Compare predicted value to the actual y_test variable\n",
    "print('CM:')\n",
    "cm = confusion_matrix(y_test.values, test_pred)\n",
    "print(cm)\n",
    "print('Classification Report:')\n",
    "print(classification_report(y_test, test_pred))\n",
    "\n",
    "print('Evaluation Metrics:')\n",
    "print('Accuracy Score: {}'.format(round(accuracy_score(y_test, test_pred), 4)))\n",
    "print(\"Precision:\", precision_score(y_test, test_pred))\n",
    "print(\"Recall:\", recall_score(y_test, test_pred))\n",
    "print(\"F1 Score:\", f1_score(y_test, test_pred))\n",
    "\n",
    "sns.heatmap(cm, \n",
    "            annot=True,\n",
    "            fmt='d')\n",
    "plt.show()"
   ]
  },
  {
   "cell_type": "code",
   "execution_count": 43,
   "metadata": {},
   "outputs": [
    {
     "data": {
      "text/plain": [
       "numpy.ndarray"
      ]
     },
     "execution_count": 43,
     "metadata": {},
     "output_type": "execute_result"
    }
   ],
   "source": [
    "type(y_test.values)"
   ]
  },
  {
   "cell_type": "code",
   "execution_count": 42,
   "metadata": {},
   "outputs": [
    {
     "data": {
      "text/plain": [
       "numpy.ndarray"
      ]
     },
     "execution_count": 42,
     "metadata": {},
     "output_type": "execute_result"
    }
   ],
   "source": [
    "type(test_pred)"
   ]
  },
  {
   "cell_type": "code",
   "execution_count": null,
   "metadata": {},
   "outputs": [],
   "source": []
  },
  {
   "cell_type": "code",
   "execution_count": null,
   "metadata": {},
   "outputs": [],
   "source": []
  },
  {
   "cell_type": "code",
   "execution_count": null,
   "metadata": {},
   "outputs": [],
   "source": []
  },
  {
   "cell_type": "markdown",
   "metadata": {},
   "source": [
    "### Prediction"
   ]
  },
  {
   "cell_type": "code",
   "execution_count": null,
   "metadata": {},
   "outputs": [],
   "source": [
    "# Predictions - convert dataframe to np.ndarray\n",
    "test_data = test.values\n",
    "test_predictions = model.predict(test_data).flatten() # Return a copy of the array collapsed into one dimension"
   ]
  },
  {
   "cell_type": "code",
   "execution_count": null,
   "metadata": {},
   "outputs": [],
   "source": [
    "model.predict(test_data).flatten()"
   ]
  },
  {
   "cell_type": "code",
   "execution_count": 32,
   "metadata": {},
   "outputs": [],
   "source": [
    "# test_preds /= 50\n",
    "# test_ids = test.id.values\n",
    "# print('Saving submission file')\n",
    "# submission = pd.DataFrame.from_dict({\n",
    "#     'id': test_ids,\n",
    "#     'target': test_preds\n",
    "# })"
   ]
  },
  {
   "cell_type": "code",
   "execution_count": 33,
   "metadata": {},
   "outputs": [],
   "source": [
    "# submission.to_csv('submission.csv', index=False)"
   ]
  }
 ],
 "metadata": {
  "kernelspec": {
   "display_name": "Python 3.6 (TensorFlow)",
   "language": "python",
   "name": "tf-test"
  },
  "language_info": {
   "codemirror_mode": {
    "name": "ipython",
    "version": 3
   },
   "file_extension": ".py",
   "mimetype": "text/x-python",
   "name": "python",
   "nbconvert_exporter": "python",
   "pygments_lexer": "ipython3",
   "version": "3.6.8"
  }
 },
 "nbformat": 4,
 "nbformat_minor": 2
}
